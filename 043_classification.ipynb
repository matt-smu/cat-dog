{
 "cells": [
  {
   "cell_type": "markdown",
   "metadata": {},
   "source": [
    "# Title: Graph Classification and Regression\n",
    "### Purpose: Given a network model, can we predict the values of specific security metrics through classification or regression? \n",
    "### Author: @mjz\n"
   ]
  },
  {
   "cell_type": "markdown",
   "metadata": {},
   "source": [
    "\n",
    "## Global imports and notebook setup here"
   ]
  },
  {
   "cell_type": "code",
   "execution_count": null,
   "metadata": {},
   "outputs": [],
   "source": []
  },
  {
   "cell_type": "code",
   "execution_count": 1,
   "metadata": {},
   "outputs": [
    {
     "data": {
      "text/plain": [
       "['/opt/projects/diss/jupyter_nbs/py36/lib/python3.6/site-packages/ipykernel_launcher.py']"
      ]
     },
     "execution_count": 1,
     "metadata": {},
     "output_type": "execute_result"
    }
   ],
   "source": [
    "%matplotlib inline\n",
    "\n",
    "#------ python libs ----------\n",
    "import logging\n",
    "import os\n",
    "SEP = os.path.sep\n",
    "import sys\n",
    "import uuid\n",
    "import pathlib\n",
    "\n",
    "#------ notebook libs ----------\n",
    "import matplotlib.pyplot as plt\n",
    "import networkx as nx\n",
    "import graphviz\n",
    "import IPython.display\n",
    "import numpy as np\n",
    "# import scipy.stats as st\n",
    "# import scipy.special\n",
    "# # bokeh plotting setup\n",
    "# import bokeh.io\n",
    "# import bokeh.plotting\n",
    "# import bokeh.application\n",
    "# import bokeh.application.handlers\n",
    "# bokeh.io.output_notebook()\n",
    "# notebook_url = 'localhost:8888'\n",
    "\n",
    "import os\n",
    "from google.cloud import bigquery\n",
    "%reload_ext google.cloud.bigquery\n",
    "\n",
    "import pandas as pd\n",
    "import pandas_gbq\n",
    "\n",
    "\n",
    "#------ project libs ----------\n",
    "py_mulval_path = r'/opt/projects/diss/py-mulval/src'\n",
    "sys.path.append(py_mulval_path)\n",
    "\n",
    "# Just importing for their flags right now\n",
    "import py_mulval.py_mulval as py_mulval\n",
    "import py_mulval.boromir as boromir\n",
    "import py_mulval.log_util as log_util\n",
    "import py_mulval.mulpy as mulpy\n",
    "import py_mulval.metrics as secmet\n",
    "import py_mulval.attack_graph as attack_graph\n",
    "from py_mulval.mulval_fact_graph import FactGraph\n",
    "from py_mulval.attack_graph import AttackGraph\n",
    "\n",
    "from py_mulval import flags\n",
    "FLAGS = flags.FLAGS\n",
    "FLAGS([sys.argv[0]]) # dont expect cli args from jupyter"
   ]
  },
  {
   "cell_type": "code",
   "execution_count": 2,
   "metadata": {},
   "outputs": [],
   "source": [
    "# Show an dot graph in this notebook\n",
    "def plot_dot(ag, title=None):\n",
    "    A = nx.nx_agraph.to_agraph(ag)\n",
    "    if title:\n",
    "        A.graph_attr.update(label=title, labelloc='top', labeljust='center', fontsize=24)\n",
    "    # A.layout('dot', args='-Nfontsize=10 -Nwidth=\".2\" -Nheight=\".2\" -Nmargin=0 -Gfontsize=8')\n",
    "    args = \"\"\"\n",
    "    -Gsize=17\n",
    "    -Nfontname=Roboto\n",
    "    -Efontname=Roboto\n",
    "    -Nfontsize=14\n",
    "    -Efontsize=14\n",
    "    \"\"\"\n",
    "    A.layout('dot', args=args )\n",
    "    # A.draw(self.outputDir + '/' + outfilename)\n",
    "    A.draw()\n",
    "    # plt.show()\n",
    "    return graphviz.Source(A.to_string())\n",
    "\n",
    "# from IPython.display import Image, display\n",
    "# def plot_dot(pdot):\n",
    "#     plt = Image(pdot.create_png())\n",
    "#     display(plt)"
   ]
  },
  {
   "cell_type": "markdown",
   "metadata": {},
   "source": [
    "## Background Info\n"
   ]
  },
  {
   "cell_type": "code",
   "execution_count": 3,
   "metadata": {
    "scrolled": true
   },
   "outputs": [],
   "source": [
    "# %%bash\n",
    "# /opt/projects/diss/py-mulval/src/run_boromir.py --benchmarks=mttf --benchmark_config_file=mttf.yml --boromir_run_count=1000 --bigquery_table='cloud-performance-tool:test_notebook_bq.test1'"
   ]
  },
  {
   "cell_type": "code",
   "execution_count": 4,
   "metadata": {},
   "outputs": [],
   "source": [
    "proj = 'cloud-performance-tool'\n",
    "ds = 'test_notebook_bq'\n",
    "tab = 'test1'\n",
    "tbl_full = '{}.{}.{}'.format(proj,ds,tab)\n",
    "tbl_bt = '`{}`'.format(tbl_full) # adds backticks for queries\n",
    "key_loc = '/home/toor/.google/smu-benchmarking-7de5dd11902f.json'"
   ]
  },
  {
   "cell_type": "code",
   "execution_count": 5,
   "metadata": {},
   "outputs": [],
   "source": [
    "# os.environ['GOOGLE_APPLICATION_CREDENTIALS'] = key_loc # bq_client needs this (svc_acct auth)\n",
    "# bigquery_client = bigquery.Client(project=proj) # \n",
    "\n",
    "pandas_gbq.context.project = proj\n",
    "pandas_gbq.context.dialect = 'standard'\n"
   ]
  },
  {
   "cell_type": "code",
   "execution_count": null,
   "metadata": {},
   "outputs": [],
   "source": []
  },
  {
   "cell_type": "code",
   "execution_count": null,
   "metadata": {},
   "outputs": [],
   "source": []
  },
  {
   "cell_type": "code",
   "execution_count": 6,
   "metadata": {},
   "outputs": [
    {
     "data": {
      "text/html": [
       "<div>\n",
       "<style scoped>\n",
       "    .dataframe tbody tr th:only-of-type {\n",
       "        vertical-align: middle;\n",
       "    }\n",
       "\n",
       "    .dataframe tbody tr th {\n",
       "        vertical-align: top;\n",
       "    }\n",
       "\n",
       "    .dataframe thead th {\n",
       "        text-align: right;\n",
       "    }\n",
       "</style>\n",
       "<table border=\"1\" class=\"dataframe\">\n",
       "  <thead>\n",
       "    <tr style=\"text-align: right;\">\n",
       "      <th></th>\n",
       "      <th>reduced_ag</th>\n",
       "    </tr>\n",
       "  </thead>\n",
       "  <tbody>\n",
       "    <tr>\n",
       "      <th>0</th>\n",
       "      <td>digraph single_host_1 {\\n\\tgraph [name=single_...</td>\n",
       "    </tr>\n",
       "    <tr>\n",
       "      <th>1</th>\n",
       "      <td>digraph single_host_1 {\\n\\tgraph [name=single_...</td>\n",
       "    </tr>\n",
       "    <tr>\n",
       "      <th>2</th>\n",
       "      <td>digraph single_host_1 {\\n\\tgraph [name=single_...</td>\n",
       "    </tr>\n",
       "    <tr>\n",
       "      <th>3</th>\n",
       "      <td>digraph single_host_1 {\\n\\tgraph [name=single_...</td>\n",
       "    </tr>\n",
       "    <tr>\n",
       "      <th>4</th>\n",
       "      <td>digraph single_host_1 {\\n\\tgraph [name=single_...</td>\n",
       "    </tr>\n",
       "    <tr>\n",
       "      <th>...</th>\n",
       "      <td>...</td>\n",
       "    </tr>\n",
       "    <tr>\n",
       "      <th>995</th>\n",
       "      <td>digraph single_host_1 {\\n\\tgraph [name=single_...</td>\n",
       "    </tr>\n",
       "    <tr>\n",
       "      <th>996</th>\n",
       "      <td>digraph single_host_1 {\\n\\tgraph [name=single_...</td>\n",
       "    </tr>\n",
       "    <tr>\n",
       "      <th>997</th>\n",
       "      <td>digraph single_host_1 {\\n\\tgraph [name=single_...</td>\n",
       "    </tr>\n",
       "    <tr>\n",
       "      <th>998</th>\n",
       "      <td>digraph single_host_1 {\\n\\tgraph [name=single_...</td>\n",
       "    </tr>\n",
       "    <tr>\n",
       "      <th>999</th>\n",
       "      <td>digraph single_host_1 {\\n\\tgraph [name=single_...</td>\n",
       "    </tr>\n",
       "  </tbody>\n",
       "</table>\n",
       "<p>1000 rows × 1 columns</p>\n",
       "</div>"
      ],
      "text/plain": [
       "                                            reduced_ag\n",
       "0    digraph single_host_1 {\\n\\tgraph [name=single_...\n",
       "1    digraph single_host_1 {\\n\\tgraph [name=single_...\n",
       "2    digraph single_host_1 {\\n\\tgraph [name=single_...\n",
       "3    digraph single_host_1 {\\n\\tgraph [name=single_...\n",
       "4    digraph single_host_1 {\\n\\tgraph [name=single_...\n",
       "..                                                 ...\n",
       "995  digraph single_host_1 {\\n\\tgraph [name=single_...\n",
       "996  digraph single_host_1 {\\n\\tgraph [name=single_...\n",
       "997  digraph single_host_1 {\\n\\tgraph [name=single_...\n",
       "998  digraph single_host_1 {\\n\\tgraph [name=single_...\n",
       "999  digraph single_host_1 {\\n\\tgraph [name=single_...\n",
       "\n",
       "[1000 rows x 1 columns]"
      ]
     },
     "execution_count": 6,
     "metadata": {},
     "output_type": "execute_result"
    }
   ],
   "source": [
    "%%bigquery \n",
    "# select distinct(fact_graph) # 1\n",
    "# select distinct(orig_ag) # 1\n",
    "select distinct(reduced_ag) # 1000 (unique for run efcc5190)\n",
    "\n",
    "# SELECT thedate, test, value, metric,\n",
    "# -- unit, citation, cite_key, metric, metric_name, metric_summary, metric_usage, \n",
    "# labels,\n",
    "# reduced_ag, orig_ag, fact_graph\n",
    "FROM (\n",
    "  SELECT\n",
    "#     value,\n",
    "    TIMESTAMP_MICROS(CAST(timestamp * 1000000 AS int64)) AS thedate,\n",
    "    test, value, unit, labels, metric, run_uri,\n",
    "    REGEXP_EXTRACT(labels, r'\\|cite_key:(.*?)\\|') AS cite_key,\n",
    "    REGEXP_EXTRACT(labels, r'\\|metric_name:(.*?)\\|') AS metric_name,\n",
    "    REGEXP_EXTRACT(labels, r'(?s)\\|metric_summary:(.*?)\\|') AS metric_summary,\n",
    "    REGEXP_EXTRACT(labels, r'(?s)\\|metric_usage:(.*?)\\|') AS metric_usage,\n",
    "    REGEXP_EXTRACT(labels, r'(?s)\\|attack_graph_reduced:(.*?)\\|') AS reduced_ag,\n",
    "    REGEXP_EXTRACT(labels, r'(?s)\\|attack_graph_orig:(.*?)\\|') AS orig_ag,\n",
    "    REGEXP_EXTRACT(labels, r'(?s)\\|facts_graph:(.*?)\\|') AS fact_graph,\n",
    "\n",
    "  FROM\n",
    "    `cloud-performance-tool.test_notebook_bq.test1`\n",
    "   WHERE\n",
    "     test = 'mttf'\n",
    "     AND metric = 'mttf' \n",
    "    and run_uri = 'efcc5190'\n",
    "#      order by timestamp asc\n",
    "#      limit 1\n",
    "     ) "
   ]
  },
  {
   "cell_type": "code",
   "execution_count": 7,
   "metadata": {},
   "outputs": [],
   "source": [
    "%%bigquery df\n",
    "# SELECT thedate, sample_uri, test, value, metric,\n",
    "SELECT sample_uri, reduced_ag, orig_ag,  fact_graph, value, \n",
    "\n",
    "# -- unit, citation, cite_key, metric, metric_name, metric_summary, metric_usage, \n",
    "# labels,\n",
    "# reduced_ag, orig_ag, fact_graph\n",
    "FROM (\n",
    "  SELECT\n",
    "#     value,\n",
    "    TIMESTAMP_MICROS(CAST(timestamp * 1000000 AS int64)) AS thedate,\n",
    "    test, value, unit, labels, metric, run_uri, sample_uri,\n",
    "    REGEXP_EXTRACT(labels, r'\\|cite_key:(.*?)\\|') AS cite_key,\n",
    "    REGEXP_EXTRACT(labels, r'\\|metric_name:(.*?)\\|') AS metric_name,\n",
    "    REGEXP_EXTRACT(labels, r'(?s)\\|metric_summary:(.*?)\\|') AS metric_summary,\n",
    "    REGEXP_EXTRACT(labels, r'(?s)\\|metric_usage:(.*?)\\|') AS metric_usage,\n",
    "    REGEXP_EXTRACT(labels, r'(?s)\\|attack_graph_reduced:(.*?)\\|') AS reduced_ag,\n",
    "    REGEXP_EXTRACT(labels, r'(?s)\\|attack_graph_orig:(.*?)\\|') AS orig_ag,\n",
    "    REGEXP_EXTRACT(labels, r'(?s)\\|facts_graph:(.*?)\\|') AS fact_graph,\n",
    "\n",
    "  FROM\n",
    "    `cloud-performance-tool.test_notebook_bq.test1`\n",
    "   WHERE\n",
    "     test = 'mttf'\n",
    "     AND metric = 'mttf' \n",
    "    and run_uri = 'efcc5190'\n",
    "#      order by timestamp asc\n",
    "#      limit 1\n",
    "     ) "
   ]
  },
  {
   "cell_type": "code",
   "execution_count": 8,
   "metadata": {},
   "outputs": [
    {
     "name": "stdout",
     "output_type": "stream",
     "text": [
      "<class 'pandas.core.frame.DataFrame'>\n",
      "RangeIndex: 1000 entries, 0 to 999\n",
      "Data columns (total 5 columns):\n",
      "sample_uri    1000 non-null object\n",
      "reduced_ag    1000 non-null object\n",
      "orig_ag       1000 non-null object\n",
      "fact_graph    1000 non-null object\n",
      "value         1000 non-null float64\n",
      "dtypes: float64(1), object(4)\n",
      "memory usage: 39.2+ KB\n"
     ]
    }
   ],
   "source": [
    "df.info()"
   ]
  },
  {
   "cell_type": "code",
   "execution_count": 9,
   "metadata": {},
   "outputs": [
    {
     "data": {
      "text/html": [
       "<div>\n",
       "<style scoped>\n",
       "    .dataframe tbody tr th:only-of-type {\n",
       "        vertical-align: middle;\n",
       "    }\n",
       "\n",
       "    .dataframe tbody tr th {\n",
       "        vertical-align: top;\n",
       "    }\n",
       "\n",
       "    .dataframe thead th {\n",
       "        text-align: right;\n",
       "    }\n",
       "</style>\n",
       "<table border=\"1\" class=\"dataframe\">\n",
       "  <thead>\n",
       "    <tr style=\"text-align: right;\">\n",
       "      <th></th>\n",
       "      <th>sample_uri</th>\n",
       "      <th>reduced_ag</th>\n",
       "      <th>orig_ag</th>\n",
       "      <th>fact_graph</th>\n",
       "      <th>value</th>\n",
       "    </tr>\n",
       "  </thead>\n",
       "  <tbody>\n",
       "    <tr>\n",
       "      <th>0</th>\n",
       "      <td>f3c1b87e-cad1-431f-ac63-eac72b694c84</td>\n",
       "      <td>digraph single_host_1 {\\n\\tgraph [name=single_...</td>\n",
       "      <td>digraph single_host_1 {\\n\\tgraph [name=single_...</td>\n",
       "      <td>digraph \"mulval_facts.multi_host_1.dot\" {\\n\\tg...</td>\n",
       "      <td>4.00</td>\n",
       "    </tr>\n",
       "    <tr>\n",
       "      <th>1</th>\n",
       "      <td>0514df06-4242-451a-b737-41057c26dc00</td>\n",
       "      <td>digraph single_host_1 {\\n\\tgraph [name=single_...</td>\n",
       "      <td>digraph single_host_1 {\\n\\tgraph [name=single_...</td>\n",
       "      <td>digraph \"mulval_facts.multi_host_1.dot\" {\\n\\tg...</td>\n",
       "      <td>12.00</td>\n",
       "    </tr>\n",
       "    <tr>\n",
       "      <th>2</th>\n",
       "      <td>a6c94818-2807-484a-83c5-d2f227a37a45</td>\n",
       "      <td>digraph single_host_1 {\\n\\tgraph [name=single_...</td>\n",
       "      <td>digraph single_host_1 {\\n\\tgraph [name=single_...</td>\n",
       "      <td>digraph \"mulval_facts.multi_host_1.dot\" {\\n\\tg...</td>\n",
       "      <td>16.00</td>\n",
       "    </tr>\n",
       "    <tr>\n",
       "      <th>3</th>\n",
       "      <td>8b265a5c-f662-42fd-a8a1-f084ef4a66e1</td>\n",
       "      <td>digraph single_host_1 {\\n\\tgraph [name=single_...</td>\n",
       "      <td>digraph single_host_1 {\\n\\tgraph [name=single_...</td>\n",
       "      <td>digraph \"mulval_facts.multi_host_1.dot\" {\\n\\tg...</td>\n",
       "      <td>0.75</td>\n",
       "    </tr>\n",
       "    <tr>\n",
       "      <th>4</th>\n",
       "      <td>9dc8f994-84a6-40d4-ae6d-bf1cfdba007d</td>\n",
       "      <td>digraph single_host_1 {\\n\\tgraph [name=single_...</td>\n",
       "      <td>digraph single_host_1 {\\n\\tgraph [name=single_...</td>\n",
       "      <td>digraph \"mulval_facts.multi_host_1.dot\" {\\n\\tg...</td>\n",
       "      <td>40.50</td>\n",
       "    </tr>\n",
       "  </tbody>\n",
       "</table>\n",
       "</div>"
      ],
      "text/plain": [
       "                             sample_uri  \\\n",
       "0  f3c1b87e-cad1-431f-ac63-eac72b694c84   \n",
       "1  0514df06-4242-451a-b737-41057c26dc00   \n",
       "2  a6c94818-2807-484a-83c5-d2f227a37a45   \n",
       "3  8b265a5c-f662-42fd-a8a1-f084ef4a66e1   \n",
       "4  9dc8f994-84a6-40d4-ae6d-bf1cfdba007d   \n",
       "\n",
       "                                          reduced_ag  \\\n",
       "0  digraph single_host_1 {\\n\\tgraph [name=single_...   \n",
       "1  digraph single_host_1 {\\n\\tgraph [name=single_...   \n",
       "2  digraph single_host_1 {\\n\\tgraph [name=single_...   \n",
       "3  digraph single_host_1 {\\n\\tgraph [name=single_...   \n",
       "4  digraph single_host_1 {\\n\\tgraph [name=single_...   \n",
       "\n",
       "                                             orig_ag  \\\n",
       "0  digraph single_host_1 {\\n\\tgraph [name=single_...   \n",
       "1  digraph single_host_1 {\\n\\tgraph [name=single_...   \n",
       "2  digraph single_host_1 {\\n\\tgraph [name=single_...   \n",
       "3  digraph single_host_1 {\\n\\tgraph [name=single_...   \n",
       "4  digraph single_host_1 {\\n\\tgraph [name=single_...   \n",
       "\n",
       "                                          fact_graph  value  \n",
       "0  digraph \"mulval_facts.multi_host_1.dot\" {\\n\\tg...   4.00  \n",
       "1  digraph \"mulval_facts.multi_host_1.dot\" {\\n\\tg...  12.00  \n",
       "2  digraph \"mulval_facts.multi_host_1.dot\" {\\n\\tg...  16.00  \n",
       "3  digraph \"mulval_facts.multi_host_1.dot\" {\\n\\tg...   0.75  \n",
       "4  digraph \"mulval_facts.multi_host_1.dot\" {\\n\\tg...  40.50  "
      ]
     },
     "execution_count": 9,
     "metadata": {},
     "output_type": "execute_result"
    }
   ],
   "source": [
    "import json\n",
    "\n",
    "\n",
    "# df_graphs = df[0, ['orig_ag', 'reduced_ag', 'fact_graph']]\n",
    "# for row in df:\n",
    "# for row in df[df['orig_ag'], df['reduced_ag'], df['fact_graph']]:\n",
    "#     print(df_graphs[row])\n",
    "df.head()\n",
    "#     print(json.dumps(row))\n",
    "#     ag.load_dot_string(json.dumps(row))print(df_graphs)\n",
    "#     ag.load_dot_string(row)\n",
    "#     display(plot_ag(ag, ''))\n",
    "    \n",
    "#     plot_dot(row)"
   ]
  },
  {
   "cell_type": "markdown",
   "metadata": {},
   "source": [
    "### Load a row of graphs and associated score"
   ]
  },
  {
   "cell_type": "code",
   "execution_count": 10,
   "metadata": {},
   "outputs": [],
   "source": [
    "# ag = df[['reduced_ag', 'orig_ag', 'fact_graph', 'value', 'metric']].values[0]\n",
    "(reduced_ag, orig_ag, fact_graph, value) = df[['reduced_ag', 'orig_ag', 'fact_graph', 'value']].values[1]\n",
    "# # print(type(ag), ag)\n",
    "# print(metric, value)\n",
    "# print(orig_ag)\n",
    "# print(reduced_ag)\n",
    "ag_orig = AttackGraph()\n",
    "ag_orig.load_dot_string(orig_ag)\n",
    "fg = FactGraph()\n",
    "fg.load_dot_string(fact_graph)\n",
    "ag_reduced = AttackGraph()\n",
    "ag_reduced.load_dot_string(reduced_ag)\n",
    "# print(reduced_ag)"
   ]
  },
  {
   "cell_type": "markdown",
   "metadata": {},
   "source": [
    "### Build adjacency matrix for column of graphs\n"
   ]
  },
  {
   "cell_type": "code",
   "execution_count": 11,
   "metadata": {},
   "outputs": [],
   "source": [
    "\n",
    "\n",
    "def dot2adj(dot_str, weight='score', nodelist=None):\n",
    "    \"\"\"Reads a dot graph file, converts to adj matrix\"\"\"\n",
    "    g = AttackGraph()\n",
    "    g.load_dot_string(dot_str)\n",
    "    nl  = nodelist\n",
    "    if not nl:\n",
    "        nl = list(nx.topological_sort(g))\n",
    "#     print(g.nodes(), nl)\n",
    "    A = np.squeeze(np.asarray(nx.to_numpy_matrix(g, nodelist=nl, weight=weight).flatten()))\n",
    "#     print(A.shape, type(A))\n",
    "    return A\n",
    "    \n",
    "\n",
    "def row2adj(dot_str_row, dotcol='reduced_ag', weight='score', nodelist=None):\n",
    "    \"\"\"Reads a dot graph file, converts to adj matrix\"\"\"\n",
    "    g = None\n",
    "    if dotcol == 'fact_graph':\n",
    "        g = FactGraph()\n",
    "    else:\n",
    "        g = AttackGraph()\n",
    "    g.load_dot_string(dot_str_row[dotcol])\n",
    "    nl  = nodelist\n",
    "    if not nl:\n",
    "        nl = list(nx.topological_sort(g))\n",
    "#     print(g.nodes(), nl)\n",
    "    A = np.squeeze(np.asarray(nx.to_numpy_matrix(g, nodelist=nl, weight=weight).flatten()))\n",
    "#     print(A.shape, type(A))\n",
    "    x =  A.tolist() # :/ \n",
    "    y = [dot_str_row.sample_uri] + x +[dot_str_row.value]\n",
    "#     print(type(y), y)\n",
    "    return y\n",
    "\n",
    "\n",
    "def flatNodeList(nodelist):\n",
    "    fnl = []\n",
    "    for i in range(len(nodelist)):\n",
    "        for j in range(len(nodelist)):\n",
    "            fnl.append('w_{}_{}'.format(i,j))\n",
    "    return fnl\n",
    "    \n",
    "    "
   ]
  },
  {
   "cell_type": "code",
   "execution_count": 12,
   "metadata": {},
   "outputs": [],
   "source": [
    "dots = df['reduced_ag'].values[0]\n",
    "ag = AttackGraph()\n",
    "ag.load_dot_string(dots)\n",
    "nodelist = list(nx.topological_sort(ag))\n",
    "# print(dots)\n",
    "a = dot2adj(dots, weight='score_orig')\n",
    "\n",
    "fnl = flatNodeList(nodelist)\n",
    "# print(type(a), a, nodelist, flatNodeList(nodelist))\n",
    "# print(nodelist)\n",
    "\n"
   ]
  },
  {
   "cell_type": "markdown",
   "metadata": {},
   "source": [
    "### Create training set"
   ]
  },
  {
   "cell_type": "code",
   "execution_count": 13,
   "metadata": {},
   "outputs": [
    {
     "name": "stdout",
     "output_type": "stream",
     "text": [
      "                             sample_uri  w_0_0  w_0_1  w_0_2  w_0_3  w_0_4  \\\n",
      "0  f3c1b87e-cad1-431f-ac63-eac72b694c84    0.0   5.49    0.0    0.0    0.0   \n",
      "1  0514df06-4242-451a-b737-41057c26dc00    0.0   7.74    0.0    0.0    0.0   \n",
      "2  a6c94818-2807-484a-83c5-d2f227a37a45    0.0   6.21    0.0    0.0    0.0   \n",
      "3  8b265a5c-f662-42fd-a8a1-f084ef4a66e1    0.0   2.05    0.0    0.0    0.0   \n",
      "4  9dc8f994-84a6-40d4-ae6d-bf1cfdba007d    0.0   7.00    0.0    0.0    0.0   \n",
      "\n",
      "   w_0_5  w_1_0  w_1_1  w_1_2  ...  w_4_3  w_4_4  w_4_5  w_5_0  w_5_1  w_5_2  \\\n",
      "0    0.0    0.0    0.0   5.81  ...    0.0    0.0   5.07    0.0    0.0    0.0   \n",
      "1    0.0    0.0    0.0   5.21  ...    0.0    0.0   6.43    0.0    0.0    0.0   \n",
      "2    0.0    0.0    0.0   1.85  ...    0.0    0.0   8.10    0.0    0.0    0.0   \n",
      "3    0.0    0.0    0.0   5.71  ...    0.0    0.0   4.82    0.0    0.0    0.0   \n",
      "4    0.0    0.0    0.0   9.67  ...    0.0    0.0   7.84    0.0    0.0    0.0   \n",
      "\n",
      "   w_5_3  w_5_4  w_5_5  score  \n",
      "0    0.0    0.0    0.0   4.00  \n",
      "1    0.0    0.0    0.0  12.00  \n",
      "2    0.0    0.0    0.0  16.00  \n",
      "3    0.0    0.0    0.0   0.75  \n",
      "4    0.0    0.0    0.0  40.50  \n",
      "\n",
      "[5 rows x 38 columns]\n"
     ]
    }
   ],
   "source": [
    "\n",
    "cols= ['sample_uri'] + fnl + [\"score\"]\n",
    "df_fnl =  df.apply(lambda row: row2adj(row, dotcol='reduced_ag', weight='score_orig', nodelist=nodelist) , axis='columns' , result_type='expand')\n",
    "df_fnl.columns = cols\n",
    "print(df_fnl.head())\n"
   ]
  },
  {
   "cell_type": "markdown",
   "metadata": {},
   "source": [
    "### Display example graphs (uncomment)"
   ]
  },
  {
   "cell_type": "code",
   "execution_count": 14,
   "metadata": {},
   "outputs": [
    {
     "data": {
      "text/plain": [
       "(1000, 38)"
      ]
     },
     "execution_count": 14,
     "metadata": {},
     "output_type": "execute_result"
    }
   ],
   "source": [
    "# display(plot_dot(ag, 'Original attack graph'))\n",
    "# display(plot_dot(fg, 'Original network graph'))\n",
    "# display(plot_dot(ag_reduced, 'Reduced attack graph'))\n",
    "\n",
    "\n",
    "df_fnl.shape"
   ]
  },
  {
   "cell_type": "code",
   "execution_count": 15,
   "metadata": {},
   "outputs": [
    {
     "data": {
      "text/html": [
       "<div>\n",
       "<style scoped>\n",
       "    .dataframe tbody tr th:only-of-type {\n",
       "        vertical-align: middle;\n",
       "    }\n",
       "\n",
       "    .dataframe tbody tr th {\n",
       "        vertical-align: top;\n",
       "    }\n",
       "\n",
       "    .dataframe thead th {\n",
       "        text-align: right;\n",
       "    }\n",
       "</style>\n",
       "<table border=\"1\" class=\"dataframe\">\n",
       "  <thead>\n",
       "    <tr style=\"text-align: right;\">\n",
       "      <th></th>\n",
       "      <th>w_0_0</th>\n",
       "      <th>w_0_1</th>\n",
       "      <th>w_0_2</th>\n",
       "      <th>w_0_3</th>\n",
       "      <th>w_0_4</th>\n",
       "      <th>w_0_5</th>\n",
       "      <th>w_1_0</th>\n",
       "      <th>w_1_1</th>\n",
       "      <th>w_1_2</th>\n",
       "      <th>w_1_3</th>\n",
       "      <th>...</th>\n",
       "      <th>w_4_3</th>\n",
       "      <th>w_4_4</th>\n",
       "      <th>w_4_5</th>\n",
       "      <th>w_5_0</th>\n",
       "      <th>w_5_1</th>\n",
       "      <th>w_5_2</th>\n",
       "      <th>w_5_3</th>\n",
       "      <th>w_5_4</th>\n",
       "      <th>w_5_5</th>\n",
       "      <th>score</th>\n",
       "    </tr>\n",
       "  </thead>\n",
       "  <tbody>\n",
       "    <tr>\n",
       "      <th>count</th>\n",
       "      <td>1000.0</td>\n",
       "      <td>1000.000000</td>\n",
       "      <td>1000.0</td>\n",
       "      <td>1000.0</td>\n",
       "      <td>1000.0</td>\n",
       "      <td>1000.0</td>\n",
       "      <td>1000.0</td>\n",
       "      <td>1000.0</td>\n",
       "      <td>1000.000000</td>\n",
       "      <td>1000.00000</td>\n",
       "      <td>...</td>\n",
       "      <td>1000.0</td>\n",
       "      <td>1000.0</td>\n",
       "      <td>1000.000000</td>\n",
       "      <td>1000.0</td>\n",
       "      <td>1000.0</td>\n",
       "      <td>1000.0</td>\n",
       "      <td>1000.0</td>\n",
       "      <td>1000.0</td>\n",
       "      <td>1000.0</td>\n",
       "      <td>1000.000000</td>\n",
       "    </tr>\n",
       "    <tr>\n",
       "      <th>mean</th>\n",
       "      <td>0.0</td>\n",
       "      <td>4.940850</td>\n",
       "      <td>0.0</td>\n",
       "      <td>0.0</td>\n",
       "      <td>0.0</td>\n",
       "      <td>0.0</td>\n",
       "      <td>0.0</td>\n",
       "      <td>0.0</td>\n",
       "      <td>5.121110</td>\n",
       "      <td>5.09931</td>\n",
       "      <td>...</td>\n",
       "      <td>0.0</td>\n",
       "      <td>0.0</td>\n",
       "      <td>5.032080</td>\n",
       "      <td>0.0</td>\n",
       "      <td>0.0</td>\n",
       "      <td>0.0</td>\n",
       "      <td>0.0</td>\n",
       "      <td>0.0</td>\n",
       "      <td>0.0</td>\n",
       "      <td>36.107870</td>\n",
       "    </tr>\n",
       "    <tr>\n",
       "      <th>std</th>\n",
       "      <td>0.0</td>\n",
       "      <td>2.875171</td>\n",
       "      <td>0.0</td>\n",
       "      <td>0.0</td>\n",
       "      <td>0.0</td>\n",
       "      <td>0.0</td>\n",
       "      <td>0.0</td>\n",
       "      <td>0.0</td>\n",
       "      <td>2.856995</td>\n",
       "      <td>2.85285</td>\n",
       "      <td>...</td>\n",
       "      <td>0.0</td>\n",
       "      <td>0.0</td>\n",
       "      <td>2.894216</td>\n",
       "      <td>0.0</td>\n",
       "      <td>0.0</td>\n",
       "      <td>0.0</td>\n",
       "      <td>0.0</td>\n",
       "      <td>0.0</td>\n",
       "      <td>0.0</td>\n",
       "      <td>35.488545</td>\n",
       "    </tr>\n",
       "    <tr>\n",
       "      <th>min</th>\n",
       "      <td>0.0</td>\n",
       "      <td>0.010000</td>\n",
       "      <td>0.0</td>\n",
       "      <td>0.0</td>\n",
       "      <td>0.0</td>\n",
       "      <td>0.0</td>\n",
       "      <td>0.0</td>\n",
       "      <td>0.0</td>\n",
       "      <td>0.010000</td>\n",
       "      <td>0.02000</td>\n",
       "      <td>...</td>\n",
       "      <td>0.0</td>\n",
       "      <td>0.0</td>\n",
       "      <td>0.000000</td>\n",
       "      <td>0.0</td>\n",
       "      <td>0.0</td>\n",
       "      <td>0.0</td>\n",
       "      <td>0.0</td>\n",
       "      <td>0.0</td>\n",
       "      <td>0.0</td>\n",
       "      <td>0.020600</td>\n",
       "    </tr>\n",
       "    <tr>\n",
       "      <th>25%</th>\n",
       "      <td>0.0</td>\n",
       "      <td>2.527500</td>\n",
       "      <td>0.0</td>\n",
       "      <td>0.0</td>\n",
       "      <td>0.0</td>\n",
       "      <td>0.0</td>\n",
       "      <td>0.0</td>\n",
       "      <td>0.0</td>\n",
       "      <td>2.607500</td>\n",
       "      <td>2.58000</td>\n",
       "      <td>...</td>\n",
       "      <td>0.0</td>\n",
       "      <td>0.0</td>\n",
       "      <td>2.580000</td>\n",
       "      <td>0.0</td>\n",
       "      <td>0.0</td>\n",
       "      <td>0.0</td>\n",
       "      <td>0.0</td>\n",
       "      <td>0.0</td>\n",
       "      <td>0.0</td>\n",
       "      <td>5.258434</td>\n",
       "    </tr>\n",
       "    <tr>\n",
       "      <th>50%</th>\n",
       "      <td>0.0</td>\n",
       "      <td>4.835000</td>\n",
       "      <td>0.0</td>\n",
       "      <td>0.0</td>\n",
       "      <td>0.0</td>\n",
       "      <td>0.0</td>\n",
       "      <td>0.0</td>\n",
       "      <td>0.0</td>\n",
       "      <td>5.115000</td>\n",
       "      <td>5.24000</td>\n",
       "      <td>...</td>\n",
       "      <td>0.0</td>\n",
       "      <td>0.0</td>\n",
       "      <td>5.015000</td>\n",
       "      <td>0.0</td>\n",
       "      <td>0.0</td>\n",
       "      <td>0.0</td>\n",
       "      <td>0.0</td>\n",
       "      <td>0.0</td>\n",
       "      <td>0.0</td>\n",
       "      <td>32.310100</td>\n",
       "    </tr>\n",
       "    <tr>\n",
       "      <th>75%</th>\n",
       "      <td>0.0</td>\n",
       "      <td>7.427500</td>\n",
       "      <td>0.0</td>\n",
       "      <td>0.0</td>\n",
       "      <td>0.0</td>\n",
       "      <td>0.0</td>\n",
       "      <td>0.0</td>\n",
       "      <td>0.0</td>\n",
       "      <td>7.592500</td>\n",
       "      <td>7.50250</td>\n",
       "      <td>...</td>\n",
       "      <td>0.0</td>\n",
       "      <td>0.0</td>\n",
       "      <td>7.630000</td>\n",
       "      <td>0.0</td>\n",
       "      <td>0.0</td>\n",
       "      <td>0.0</td>\n",
       "      <td>0.0</td>\n",
       "      <td>0.0</td>\n",
       "      <td>0.0</td>\n",
       "      <td>55.170250</td>\n",
       "    </tr>\n",
       "    <tr>\n",
       "      <th>max</th>\n",
       "      <td>0.0</td>\n",
       "      <td>9.990000</td>\n",
       "      <td>0.0</td>\n",
       "      <td>0.0</td>\n",
       "      <td>0.0</td>\n",
       "      <td>0.0</td>\n",
       "      <td>0.0</td>\n",
       "      <td>0.0</td>\n",
       "      <td>9.980000</td>\n",
       "      <td>10.00000</td>\n",
       "      <td>...</td>\n",
       "      <td>0.0</td>\n",
       "      <td>0.0</td>\n",
       "      <td>9.990000</td>\n",
       "      <td>0.0</td>\n",
       "      <td>0.0</td>\n",
       "      <td>0.0</td>\n",
       "      <td>0.0</td>\n",
       "      <td>0.0</td>\n",
       "      <td>0.0</td>\n",
       "      <td>191.833333</td>\n",
       "    </tr>\n",
       "  </tbody>\n",
       "</table>\n",
       "<p>8 rows × 37 columns</p>\n",
       "</div>"
      ],
      "text/plain": [
       "        w_0_0        w_0_1   w_0_2   w_0_3   w_0_4   w_0_5   w_1_0   w_1_1  \\\n",
       "count  1000.0  1000.000000  1000.0  1000.0  1000.0  1000.0  1000.0  1000.0   \n",
       "mean      0.0     4.940850     0.0     0.0     0.0     0.0     0.0     0.0   \n",
       "std       0.0     2.875171     0.0     0.0     0.0     0.0     0.0     0.0   \n",
       "min       0.0     0.010000     0.0     0.0     0.0     0.0     0.0     0.0   \n",
       "25%       0.0     2.527500     0.0     0.0     0.0     0.0     0.0     0.0   \n",
       "50%       0.0     4.835000     0.0     0.0     0.0     0.0     0.0     0.0   \n",
       "75%       0.0     7.427500     0.0     0.0     0.0     0.0     0.0     0.0   \n",
       "max       0.0     9.990000     0.0     0.0     0.0     0.0     0.0     0.0   \n",
       "\n",
       "             w_1_2       w_1_3  ...   w_4_3   w_4_4        w_4_5   w_5_0  \\\n",
       "count  1000.000000  1000.00000  ...  1000.0  1000.0  1000.000000  1000.0   \n",
       "mean      5.121110     5.09931  ...     0.0     0.0     5.032080     0.0   \n",
       "std       2.856995     2.85285  ...     0.0     0.0     2.894216     0.0   \n",
       "min       0.010000     0.02000  ...     0.0     0.0     0.000000     0.0   \n",
       "25%       2.607500     2.58000  ...     0.0     0.0     2.580000     0.0   \n",
       "50%       5.115000     5.24000  ...     0.0     0.0     5.015000     0.0   \n",
       "75%       7.592500     7.50250  ...     0.0     0.0     7.630000     0.0   \n",
       "max       9.980000    10.00000  ...     0.0     0.0     9.990000     0.0   \n",
       "\n",
       "        w_5_1   w_5_2   w_5_3   w_5_4   w_5_5        score  \n",
       "count  1000.0  1000.0  1000.0  1000.0  1000.0  1000.000000  \n",
       "mean      0.0     0.0     0.0     0.0     0.0    36.107870  \n",
       "std       0.0     0.0     0.0     0.0     0.0    35.488545  \n",
       "min       0.0     0.0     0.0     0.0     0.0     0.020600  \n",
       "25%       0.0     0.0     0.0     0.0     0.0     5.258434  \n",
       "50%       0.0     0.0     0.0     0.0     0.0    32.310100  \n",
       "75%       0.0     0.0     0.0     0.0     0.0    55.170250  \n",
       "max       0.0     0.0     0.0     0.0     0.0   191.833333  \n",
       "\n",
       "[8 rows x 37 columns]"
      ]
     },
     "execution_count": 15,
     "metadata": {},
     "output_type": "execute_result"
    }
   ],
   "source": [
    "df_fnl.describe()"
   ]
  },
  {
   "cell_type": "markdown",
   "metadata": {},
   "source": [
    "## Machine Learning Experiments\n"
   ]
  },
  {
   "cell_type": "code",
   "execution_count": 16,
   "metadata": {},
   "outputs": [],
   "source": [
    "\n",
    "\n",
    "import numpy as np\n",
    "import pandas as pd\n",
    "from pandas import DataFrame,Series\n",
    "import matplotlib\n",
    "import matplotlib.pyplot as plt\n",
    "%matplotlib inline \n",
    "from sklearn.linear_model import LinearRegression, Lasso, Ridge, ElasticNet, SGDRegressor\n",
    "from sklearn.neighbors import KNeighborsRegressor, KNeighborsClassifier\n",
    "from sklearn.datasets import load_boston\n",
    "from sklearn.preprocessing import StandardScaler\n",
    "from sklearn.model_selection import train_test_split\n",
    "import statsmodels.api as sm\n",
    "from scipy import stats\n",
    "import warnings\n",
    "warnings.filterwarnings('ignore')\n",
    "#from sklearn.model_selection import train_test_split\n",
    "\n",
    "\n",
    "\n",
    "def pretty_print_linear(coefs, names = None, sort = False):\n",
    "    if names is None:\n",
    "        names = [\"X%s\" % x for x in range(len(coefs))]\n",
    "    lst = zip(coefs, names)\n",
    "    if sort:\n",
    "        lst = sorted(lst, key = lambda x:-np.abs(x[0]))\n",
    "    return \" + \".join(\"%s * %s\" % (round(coef, 3), name) for coef, name in lst)\n",
    "\n",
    "def load_data():\n",
    "    X = df_fnl[fnl]\n",
    "    Y = df_fnl['score']\n",
    "    names = fnl\n",
    "    print('X:', X.shape)\n",
    "    print('Y:',Y.shape)\n",
    "    print('names:', len(names))\n",
    "    return X,Y,names\n",
    "\n",
    "def scale_data(X):\n",
    "    scaler = StandardScaler()\n",
    "    X = scaler.fit_transform(X)\n",
    "    return X\n",
    "\n",
    "\n",
    "\n",
    "def split_data(X,Y):\n",
    "    X_train, X_test, Y_train, Y_test = train_test_split(X, Y, test_size=0.33, random_state=42)\n",
    "    return X_train, X_test, Y_train, Y_test\n",
    "\n",
    "\n",
    "\n",
    "def root_mean_square_error(y_pred,y_test):\n",
    "    rmse_train = np.sqrt(np.dot(abs(y_pred-y_test),abs(y_pred-y_test))/len(y_test))\n",
    "    return rmse_train\n",
    "\n",
    "def plot_real_vs_predicted(y_pred,y_test, obj=None):\n",
    "    plt.plot(y_pred,y_test,'ro')\n",
    "    plt.plot([0,50],[0,50], 'g-')\n",
    "    plt.xlabel('predicted')\n",
    "    plt.ylabel('real')\n",
    "    if obj:\n",
    "        plt.title(obj.__class__.__name__)\n",
    "    plt.show()\n",
    "    return plt\n",
    "\n",
    "def generate_regression_values(model, X, y):\n",
    "    params = np.append(model.intercept_, model.coef_)\n",
    "    predictions = model.predict(X)\n",
    "    newX = pd.DataFrame({\"Constant\": np.ones(len(X))}).join(pd.DataFrame(X))\n",
    "    MSE = (sum((y - predictions) ** 2)) / (len(newX) - len(newX.columns))\n",
    "\n",
    "    # Note if you don't want to use a DataFrame replace the two lines above with\n",
    "    # newX = np.append(np.ones((len(X),1)), X, axis=1)\n",
    "    # MSE = (sum((y-predictions)**2))/(len(newX)-len(newX[0]))\n",
    "\n",
    "    var_b = MSE * (np.linalg.inv(np.dot(newX.T, newX)).diagonal())\n",
    "    sd_b = np.sqrt(var_b)\n",
    "    ts_b = params / sd_b\n",
    "\n",
    "    p_values = [2 * (1 - stats.t.cdf(np.abs(i), (len(newX) - 1))) for i in ts_b]\n",
    "\n",
    "    sd_b = np.round(sd_b, 3)\n",
    "    ts_b = np.round(ts_b, 3)\n",
    "    p_values = np.round(p_values, 3)\n",
    "    params = np.round(params, 4)\n",
    "\n",
    "    myDF3 = pd.DataFrame()\n",
    "    myDF3[\"Coefficients\"], myDF3[\"Standard Errors\"], myDF3[\"t values\"], myDF3[\n",
    "        \"Probabilites\"\n",
    "    ] = [params, sd_b, ts_b, p_values]\n",
    "    print(myDF3)\n"
   ]
  },
  {
   "cell_type": "markdown",
   "metadata": {},
   "source": [
    "## Regresion"
   ]
  },
  {
   "cell_type": "code",
   "execution_count": null,
   "metadata": {},
   "outputs": [],
   "source": []
  },
  {
   "cell_type": "code",
   "execution_count": 17,
   "metadata": {},
   "outputs": [
    {
     "name": "stdout",
     "output_type": "stream",
     "text": [
      "X: (1000, 36)\n",
      "Y: (1000,)\n",
      "names: 36\n"
     ]
    }
   ],
   "source": [
    "X, Y, names = load_data()"
   ]
  },
  {
   "cell_type": "code",
   "execution_count": 18,
   "metadata": {},
   "outputs": [],
   "source": [
    "np.set_printoptions(precision=2, linewidth=100, suppress=True, edgeitems=2)"
   ]
  },
  {
   "cell_type": "code",
   "execution_count": 19,
   "metadata": {},
   "outputs": [
    {
     "data": {
      "text/html": [
       "<div>\n",
       "<style scoped>\n",
       "    .dataframe tbody tr th:only-of-type {\n",
       "        vertical-align: middle;\n",
       "    }\n",
       "\n",
       "    .dataframe tbody tr th {\n",
       "        vertical-align: top;\n",
       "    }\n",
       "\n",
       "    .dataframe thead th {\n",
       "        text-align: right;\n",
       "    }\n",
       "</style>\n",
       "<table border=\"1\" class=\"dataframe\">\n",
       "  <thead>\n",
       "    <tr style=\"text-align: right;\">\n",
       "      <th></th>\n",
       "      <th>w_0_0</th>\n",
       "      <th>w_0_1</th>\n",
       "      <th>w_0_2</th>\n",
       "      <th>w_0_3</th>\n",
       "      <th>w_0_4</th>\n",
       "      <th>w_0_5</th>\n",
       "      <th>w_1_0</th>\n",
       "      <th>w_1_1</th>\n",
       "      <th>w_1_2</th>\n",
       "      <th>w_1_3</th>\n",
       "      <th>...</th>\n",
       "      <th>w_4_2</th>\n",
       "      <th>w_4_3</th>\n",
       "      <th>w_4_4</th>\n",
       "      <th>w_4_5</th>\n",
       "      <th>w_5_0</th>\n",
       "      <th>w_5_1</th>\n",
       "      <th>w_5_2</th>\n",
       "      <th>w_5_3</th>\n",
       "      <th>w_5_4</th>\n",
       "      <th>w_5_5</th>\n",
       "    </tr>\n",
       "  </thead>\n",
       "  <tbody>\n",
       "    <tr>\n",
       "      <th>0</th>\n",
       "      <td>0.0</td>\n",
       "      <td>5.49</td>\n",
       "      <td>0.0</td>\n",
       "      <td>0.0</td>\n",
       "      <td>0.0</td>\n",
       "      <td>0.0</td>\n",
       "      <td>0.0</td>\n",
       "      <td>0.0</td>\n",
       "      <td>5.81</td>\n",
       "      <td>6.14</td>\n",
       "      <td>...</td>\n",
       "      <td>0.0</td>\n",
       "      <td>0.0</td>\n",
       "      <td>0.0</td>\n",
       "      <td>5.07</td>\n",
       "      <td>0.0</td>\n",
       "      <td>0.0</td>\n",
       "      <td>0.0</td>\n",
       "      <td>0.0</td>\n",
       "      <td>0.0</td>\n",
       "      <td>0.0</td>\n",
       "    </tr>\n",
       "    <tr>\n",
       "      <th>1</th>\n",
       "      <td>0.0</td>\n",
       "      <td>7.74</td>\n",
       "      <td>0.0</td>\n",
       "      <td>0.0</td>\n",
       "      <td>0.0</td>\n",
       "      <td>0.0</td>\n",
       "      <td>0.0</td>\n",
       "      <td>0.0</td>\n",
       "      <td>5.21</td>\n",
       "      <td>6.01</td>\n",
       "      <td>...</td>\n",
       "      <td>0.0</td>\n",
       "      <td>0.0</td>\n",
       "      <td>0.0</td>\n",
       "      <td>6.43</td>\n",
       "      <td>0.0</td>\n",
       "      <td>0.0</td>\n",
       "      <td>0.0</td>\n",
       "      <td>0.0</td>\n",
       "      <td>0.0</td>\n",
       "      <td>0.0</td>\n",
       "    </tr>\n",
       "    <tr>\n",
       "      <th>2</th>\n",
       "      <td>0.0</td>\n",
       "      <td>6.21</td>\n",
       "      <td>0.0</td>\n",
       "      <td>0.0</td>\n",
       "      <td>0.0</td>\n",
       "      <td>0.0</td>\n",
       "      <td>0.0</td>\n",
       "      <td>0.0</td>\n",
       "      <td>1.85</td>\n",
       "      <td>7.61</td>\n",
       "      <td>...</td>\n",
       "      <td>0.0</td>\n",
       "      <td>0.0</td>\n",
       "      <td>0.0</td>\n",
       "      <td>8.10</td>\n",
       "      <td>0.0</td>\n",
       "      <td>0.0</td>\n",
       "      <td>0.0</td>\n",
       "      <td>0.0</td>\n",
       "      <td>0.0</td>\n",
       "      <td>0.0</td>\n",
       "    </tr>\n",
       "    <tr>\n",
       "      <th>3</th>\n",
       "      <td>0.0</td>\n",
       "      <td>2.05</td>\n",
       "      <td>0.0</td>\n",
       "      <td>0.0</td>\n",
       "      <td>0.0</td>\n",
       "      <td>0.0</td>\n",
       "      <td>0.0</td>\n",
       "      <td>0.0</td>\n",
       "      <td>5.71</td>\n",
       "      <td>5.51</td>\n",
       "      <td>...</td>\n",
       "      <td>0.0</td>\n",
       "      <td>0.0</td>\n",
       "      <td>0.0</td>\n",
       "      <td>4.82</td>\n",
       "      <td>0.0</td>\n",
       "      <td>0.0</td>\n",
       "      <td>0.0</td>\n",
       "      <td>0.0</td>\n",
       "      <td>0.0</td>\n",
       "      <td>0.0</td>\n",
       "    </tr>\n",
       "    <tr>\n",
       "      <th>4</th>\n",
       "      <td>0.0</td>\n",
       "      <td>7.00</td>\n",
       "      <td>0.0</td>\n",
       "      <td>0.0</td>\n",
       "      <td>0.0</td>\n",
       "      <td>0.0</td>\n",
       "      <td>0.0</td>\n",
       "      <td>0.0</td>\n",
       "      <td>9.67</td>\n",
       "      <td>8.45</td>\n",
       "      <td>...</td>\n",
       "      <td>0.0</td>\n",
       "      <td>0.0</td>\n",
       "      <td>0.0</td>\n",
       "      <td>7.84</td>\n",
       "      <td>0.0</td>\n",
       "      <td>0.0</td>\n",
       "      <td>0.0</td>\n",
       "      <td>0.0</td>\n",
       "      <td>0.0</td>\n",
       "      <td>0.0</td>\n",
       "    </tr>\n",
       "  </tbody>\n",
       "</table>\n",
       "<p>5 rows × 36 columns</p>\n",
       "</div>"
      ],
      "text/plain": [
       "   w_0_0  w_0_1  w_0_2  w_0_3  w_0_4  w_0_5  w_1_0  w_1_1  w_1_2  w_1_3  ...  \\\n",
       "0    0.0   5.49    0.0    0.0    0.0    0.0    0.0    0.0   5.81   6.14  ...   \n",
       "1    0.0   7.74    0.0    0.0    0.0    0.0    0.0    0.0   5.21   6.01  ...   \n",
       "2    0.0   6.21    0.0    0.0    0.0    0.0    0.0    0.0   1.85   7.61  ...   \n",
       "3    0.0   2.05    0.0    0.0    0.0    0.0    0.0    0.0   5.71   5.51  ...   \n",
       "4    0.0   7.00    0.0    0.0    0.0    0.0    0.0    0.0   9.67   8.45  ...   \n",
       "\n",
       "   w_4_2  w_4_3  w_4_4  w_4_5  w_5_0  w_5_1  w_5_2  w_5_3  w_5_4  w_5_5  \n",
       "0    0.0    0.0    0.0   5.07    0.0    0.0    0.0    0.0    0.0    0.0  \n",
       "1    0.0    0.0    0.0   6.43    0.0    0.0    0.0    0.0    0.0    0.0  \n",
       "2    0.0    0.0    0.0   8.10    0.0    0.0    0.0    0.0    0.0    0.0  \n",
       "3    0.0    0.0    0.0   4.82    0.0    0.0    0.0    0.0    0.0    0.0  \n",
       "4    0.0    0.0    0.0   7.84    0.0    0.0    0.0    0.0    0.0    0.0  \n",
       "\n",
       "[5 rows x 36 columns]"
      ]
     },
     "execution_count": 19,
     "metadata": {},
     "output_type": "execute_result"
    }
   ],
   "source": [
    "# X = scale_data(X)\n",
    "X[0:5]"
   ]
  },
  {
   "cell_type": "code",
   "execution_count": 20,
   "metadata": {},
   "outputs": [],
   "source": [
    "X_train, X_test, Y_train, Y_test = split_data(X,Y)"
   ]
  },
  {
   "cell_type": "code",
   "execution_count": 21,
   "metadata": {},
   "outputs": [
    {
     "name": "stdout",
     "output_type": "stream",
     "text": [
      "Linear model:  5.3 * w_4_5 + 4.488 * w_3_4 + 4.028 * w_0_1 + 2.545 * w_2_3 + 1.541 * w_1_3 + -0.715 * w_1_2 + -0.0 * w_0_2 + 0.0 * w_0_3 + 0.0 * w_0_4 + -0.0 * w_1_0 + 0.0 * w_0_0 + 0.0 * w_0_5 + 0.0 * w_1_1 + 0.0 * w_1_4 + 0.0 * w_1_5 + 0.0 * w_2_0 + 0.0 * w_2_1 + 0.0 * w_2_2 + 0.0 * w_2_4 + 0.0 * w_2_5 + 0.0 * w_3_0 + 0.0 * w_3_1 + 0.0 * w_3_2 + 0.0 * w_3_3 + 0.0 * w_3_5 + 0.0 * w_4_0 + 0.0 * w_4_1 + 0.0 * w_4_2 + 0.0 * w_4_3 + 0.0 * w_4_4 + 0.0 * w_5_0 + 0.0 * w_5_1 + 0.0 * w_5_2 + 0.0 * w_5_3 + 0.0 * w_5_4 + 0.0 * w_5_5\n",
      "Root Mean Square Error: 24.70081837116901\n"
     ]
    },
    {
     "data": {
      "image/png": "[encoded data removed]",
      "text/plain": [
       "<Figure size 432x288 with 1 Axes>"
      ]
     },
     "metadata": {
      "needs_background": "light"
     },
     "output_type": "display_data"
    },
    {
     "data": {
      "text/plain": [
       "<module 'matplotlib.pyplot' from '/opt/projects/diss/jupyter_nbs/py36/lib/python3.6/site-packages/matplotlib/pyplot.py'>"
      ]
     },
     "execution_count": 21,
     "metadata": {},
     "output_type": "execute_result"
    }
   ],
   "source": [
    "# Create linear regression object\n",
    "linreg = LinearRegression()\n",
    "\n",
    "# Train the model using the training sets\n",
    "linreg.fit(X_train,Y_train)\n",
    "\n",
    "print (\"Linear model: \", pretty_print_linear(linreg.coef_, names, sort = True))\n",
    "\n",
    "# Predict the values using the model\n",
    "Y_lin_predict = linreg.predict(X_test)\n",
    "\n",
    "# Print the root mean square error \n",
    "print (\"Root Mean Square Error: {}\".format(root_mean_square_error(Y_lin_predict,Y_test)))\n",
    "plot_real_vs_predicted(Y_test,Y_lin_predict, linreg)"
   ]
  },
  {
   "cell_type": "code",
   "execution_count": 22,
   "metadata": {
    "scrolled": true
   },
   "outputs": [
    {
     "name": "stdout",
     "output_type": "stream",
     "text": [
      "    Coefficients  Standard Errors  t values  Probabilites\n",
      "0       -49.8085              NaN       NaN           NaN\n",
      "1         0.0000              NaN       NaN           NaN\n",
      "2         4.0284              NaN       NaN           NaN\n",
      "3        -0.0000              NaN       NaN           NaN\n",
      "4         0.0000              NaN       NaN           NaN\n",
      "5         0.0000              NaN       NaN           NaN\n",
      "6         0.0000              NaN       NaN           NaN\n",
      "7        -0.0000              NaN       NaN           NaN\n",
      "8         0.0000              NaN       NaN           NaN\n",
      "9        -0.7154              NaN       NaN           NaN\n",
      "10        1.5405              NaN       NaN           NaN\n",
      "11        0.0000              NaN       NaN           NaN\n",
      "12        0.0000              NaN       NaN           NaN\n",
      "13        0.0000              NaN       NaN           NaN\n",
      "14        0.0000              NaN       NaN           NaN\n",
      "15        0.0000              NaN       NaN           NaN\n",
      "16        2.5454              NaN       NaN           NaN\n",
      "17        0.0000              NaN       NaN           NaN\n",
      "18        0.0000              NaN       NaN           NaN\n",
      "19        0.0000              NaN       NaN           NaN\n",
      "20        0.0000              NaN       NaN           NaN\n",
      "21        0.0000              NaN       NaN           NaN\n",
      "22        0.0000              NaN       NaN           NaN\n",
      "23        4.4875              NaN       NaN           NaN\n",
      "24        0.0000              NaN       NaN           NaN\n",
      "25        0.0000              NaN       NaN           NaN\n",
      "26        0.0000              NaN       NaN           NaN\n",
      "27        0.0000              NaN       NaN           NaN\n",
      "28        0.0000              NaN       NaN           NaN\n",
      "29        0.0000              NaN       NaN           NaN\n",
      "30        5.2998              NaN       NaN           NaN\n",
      "31        0.0000              NaN       NaN           NaN\n",
      "32        0.0000              NaN       NaN           NaN\n",
      "33        0.0000              NaN       NaN           NaN\n",
      "34        0.0000              NaN       NaN           NaN\n",
      "35        0.0000              NaN       NaN           NaN\n",
      "36        0.0000              NaN       NaN           NaN\n"
     ]
    }
   ],
   "source": [
    "generate_regression_values(linreg, X_test, Y_test)"
   ]
  },
  {
   "cell_type": "code",
   "execution_count": 23,
   "metadata": {},
   "outputs": [
    {
     "name": "stdout",
     "output_type": "stream",
     "text": [
      "Lasso model:  5.269 * w_4_5 + 4.452 * w_3_4 + 3.994 * w_0_1 + 2.51 * w_2_3 + 1.505 * w_1_3 + -0.67 * w_1_2 + 0.0 * w_0_0 + 0.0 * w_0_2 + 0.0 * w_0_3 + 0.0 * w_0_4 + 0.0 * w_0_5 + 0.0 * w_1_0 + 0.0 * w_1_1 + 0.0 * w_1_4 + 0.0 * w_1_5 + 0.0 * w_2_0 + 0.0 * w_2_1 + 0.0 * w_2_2 + 0.0 * w_2_4 + 0.0 * w_2_5 + 0.0 * w_3_0 + 0.0 * w_3_1 + 0.0 * w_3_2 + 0.0 * w_3_3 + 0.0 * w_3_5 + 0.0 * w_4_0 + 0.0 * w_4_1 + 0.0 * w_4_2 + 0.0 * w_4_3 + 0.0 * w_4_4 + 0.0 * w_5_0 + 0.0 * w_5_1 + 0.0 * w_5_2 + 0.0 * w_5_3 + 0.0 * w_5_4 + 0.0 * w_5_5\n",
      "Root Mean Square Error:  24.684721581383762\n"
     ]
    },
    {
     "data": {
      "image/png": "[encoded data removed]",
      "text/plain": [
       "<Figure size 432x288 with 1 Axes>"
      ]
     },
     "metadata": {
      "needs_background": "light"
     },
     "output_type": "display_data"
    },
    {
     "data": {
      "text/plain": [
       "<module 'matplotlib.pyplot' from '/opt/projects/diss/jupyter_nbs/py36/lib/python3.6/site-packages/matplotlib/pyplot.py'>"
      ]
     },
     "execution_count": 23,
     "metadata": {},
     "output_type": "execute_result"
    }
   ],
   "source": [
    "X_train, X_test, Y_train, Y_test = split_data(X,Y)\n",
    "# Create lasso regression object\n",
    "lasso = Lasso(alpha=.3)\n",
    "\n",
    "# Train the model using the training sets\n",
    "lasso.fit(X_train, Y_train) \n",
    "\n",
    "print (\"Lasso model: \", pretty_print_linear(lasso.coef_, names, sort = True))\n",
    "\n",
    "# Predict the values using the model\n",
    "Y_lasso_predict = lasso.predict(X_test)\n",
    "\n",
    "# Print the root mean square error \n",
    "print (\"Root Mean Square Error: \", root_mean_square_error(Y_lasso_predict,Y_test))\n",
    "plot_real_vs_predicted(Y_test,Y_lasso_predict, lasso)"
   ]
  },
  {
   "cell_type": "code",
   "execution_count": 24,
   "metadata": {
    "scrolled": true
   },
   "outputs": [
    {
     "name": "stdout",
     "output_type": "stream",
     "text": [
      "    Coefficients  Standard Errors  t values  Probabilites\n",
      "0       -49.1773              NaN       NaN           NaN\n",
      "1         0.0000              NaN       NaN           NaN\n",
      "2         3.9939              NaN       NaN           NaN\n",
      "3         0.0000              NaN       NaN           NaN\n",
      "4         0.0000              NaN       NaN           NaN\n",
      "5         0.0000              NaN       NaN           NaN\n",
      "6         0.0000              NaN       NaN           NaN\n",
      "7         0.0000              NaN       NaN           NaN\n",
      "8         0.0000              NaN       NaN           NaN\n",
      "9        -0.6699              NaN       NaN           NaN\n",
      "10        1.5054              NaN       NaN           NaN\n",
      "11        0.0000              NaN       NaN           NaN\n",
      "12        0.0000              NaN       NaN           NaN\n",
      "13        0.0000              NaN       NaN           NaN\n",
      "14        0.0000              NaN       NaN           NaN\n",
      "15        0.0000              NaN       NaN           NaN\n",
      "16        2.5100              NaN       NaN           NaN\n",
      "17        0.0000              NaN       NaN           NaN\n",
      "18        0.0000              NaN       NaN           NaN\n",
      "19        0.0000              NaN       NaN           NaN\n",
      "20        0.0000              NaN       NaN           NaN\n",
      "21        0.0000              NaN       NaN           NaN\n",
      "22        0.0000              NaN       NaN           NaN\n",
      "23        4.4521              NaN       NaN           NaN\n",
      "24        0.0000              NaN       NaN           NaN\n",
      "25        0.0000              NaN       NaN           NaN\n",
      "26        0.0000              NaN       NaN           NaN\n",
      "27        0.0000              NaN       NaN           NaN\n",
      "28        0.0000              NaN       NaN           NaN\n",
      "29        0.0000              NaN       NaN           NaN\n",
      "30        5.2687              NaN       NaN           NaN\n",
      "31        0.0000              NaN       NaN           NaN\n",
      "32        0.0000              NaN       NaN           NaN\n",
      "33        0.0000              NaN       NaN           NaN\n",
      "34        0.0000              NaN       NaN           NaN\n",
      "35        0.0000              NaN       NaN           NaN\n",
      "36        0.0000              NaN       NaN           NaN\n"
     ]
    }
   ],
   "source": [
    "generate_regression_values(lasso, X_test, Y_test)"
   ]
  },
  {
   "cell_type": "code",
   "execution_count": 25,
   "metadata": {},
   "outputs": [],
   "source": [
    "# X_train, X_test, Y_train, Y_test = split_data(X,Y)"
   ]
  },
  {
   "cell_type": "code",
   "execution_count": 26,
   "metadata": {},
   "outputs": [
    {
     "name": "stdout",
     "output_type": "stream",
     "text": [
      "Elastic Net model:  5.199 * w_4_5 + 4.398 * w_3_4 + 3.94 * w_0_1 + 2.49 * w_2_3 + 1.5 * w_1_3 + -0.668 * w_1_2 + 0.0 * w_0_0 + 0.0 * w_0_2 + 0.0 * w_0_3 + 0.0 * w_0_4 + 0.0 * w_0_5 + 0.0 * w_1_0 + 0.0 * w_1_1 + 0.0 * w_1_4 + 0.0 * w_1_5 + 0.0 * w_2_0 + 0.0 * w_2_1 + 0.0 * w_2_2 + 0.0 * w_2_4 + 0.0 * w_2_5 + 0.0 * w_3_0 + 0.0 * w_3_1 + 0.0 * w_3_2 + 0.0 * w_3_3 + 0.0 * w_3_5 + 0.0 * w_4_0 + 0.0 * w_4_1 + 0.0 * w_4_2 + 0.0 * w_4_3 + 0.0 * w_4_4 + 0.0 * w_5_0 + 0.0 * w_5_1 + 0.0 * w_5_2 + 0.0 * w_5_3 + 0.0 * w_5_4 + 0.0 * w_5_5\n",
      "Root Mean Square Error:  24.663672407428503\n"
     ]
    },
    {
     "data": {
      "image/png": "[encoded data removed]",
      "text/plain": [
       "<Figure size 432x288 with 1 Axes>"
      ]
     },
     "metadata": {
      "needs_background": "light"
     },
     "output_type": "display_data"
    },
    {
     "data": {
      "text/plain": [
       "<module 'matplotlib.pyplot' from '/opt/projects/diss/jupyter_nbs/py36/lib/python3.6/site-packages/matplotlib/pyplot.py'>"
      ]
     },
     "execution_count": 26,
     "metadata": {},
     "output_type": "execute_result"
    }
   ],
   "source": [
    "elnet = ElasticNet(fit_intercept=True, alpha=.3)\n",
    "              \n",
    "# Train the model using the training sets\n",
    "elnet.fit(X_train, Y_train) \n",
    "\n",
    "print (\"Elastic Net model: \", pretty_print_linear(elnet.coef_, names, sort = True))\n",
    "\n",
    "# Predict the values using the model\n",
    "Y_elnet_predict = elnet.predict(X_test)\n",
    "\n",
    "# Print the root mean square error \n",
    "print (\"Root Mean Square Error: \", root_mean_square_error(Y_elnet_predict,Y_test))\n",
    "plot_real_vs_predicted(Y_test,Y_elnet_predict, elnet)"
   ]
  },
  {
   "cell_type": "code",
   "execution_count": 27,
   "metadata": {
    "scrolled": true
   },
   "outputs": [
    {
     "name": "stdout",
     "output_type": "stream",
     "text": [
      "    Coefficients  Standard Errors  t values  Probabilites\n",
      "0       -48.1689              NaN       NaN           NaN\n",
      "1         0.0000              NaN       NaN           NaN\n",
      "2         3.9405              NaN       NaN           NaN\n",
      "3         0.0000              NaN       NaN           NaN\n",
      "4         0.0000              NaN       NaN           NaN\n",
      "5         0.0000              NaN       NaN           NaN\n",
      "6         0.0000              NaN       NaN           NaN\n",
      "7         0.0000              NaN       NaN           NaN\n",
      "8         0.0000              NaN       NaN           NaN\n",
      "9        -0.6679              NaN       NaN           NaN\n",
      "10        1.5003              NaN       NaN           NaN\n",
      "11        0.0000              NaN       NaN           NaN\n",
      "12        0.0000              NaN       NaN           NaN\n",
      "13        0.0000              NaN       NaN           NaN\n",
      "14        0.0000              NaN       NaN           NaN\n",
      "15        0.0000              NaN       NaN           NaN\n",
      "16        2.4903              NaN       NaN           NaN\n",
      "17        0.0000              NaN       NaN           NaN\n",
      "18        0.0000              NaN       NaN           NaN\n",
      "19        0.0000              NaN       NaN           NaN\n",
      "20        0.0000              NaN       NaN           NaN\n",
      "21        0.0000              NaN       NaN           NaN\n",
      "22        0.0000              NaN       NaN           NaN\n",
      "23        4.3977              NaN       NaN           NaN\n",
      "24        0.0000              NaN       NaN           NaN\n",
      "25        0.0000              NaN       NaN           NaN\n",
      "26        0.0000              NaN       NaN           NaN\n",
      "27        0.0000              NaN       NaN           NaN\n",
      "28        0.0000              NaN       NaN           NaN\n",
      "29        0.0000              NaN       NaN           NaN\n",
      "30        5.1995              NaN       NaN           NaN\n",
      "31        0.0000              NaN       NaN           NaN\n",
      "32        0.0000              NaN       NaN           NaN\n",
      "33        0.0000              NaN       NaN           NaN\n",
      "34        0.0000              NaN       NaN           NaN\n",
      "35        0.0000              NaN       NaN           NaN\n",
      "36        0.0000              NaN       NaN           NaN\n"
     ]
    }
   ],
   "source": [
    "generate_regression_values(elnet, X_test, Y_test)"
   ]
  },
  {
   "cell_type": "code",
   "execution_count": 28,
   "metadata": {},
   "outputs": [],
   "source": [
    "# X_train, X_test, Y_train, Y_test = split_data(X,Y)"
   ]
  },
  {
   "cell_type": "code",
   "execution_count": 29,
   "metadata": {},
   "outputs": [
    {
     "name": "stdout",
     "output_type": "stream",
     "text": [
      "Stochastic Gradient Descent model:  4.508 * w_4_5 + 3.988 * w_3_4 + 3.189 * w_0_1 + -1.779 * w_1_2 + 1.183 * w_2_3 + 0.132 * w_1_3 + 0.0 * w_0_0 + 0.0 * w_0_2 + 0.0 * w_0_3 + 0.0 * w_0_4 + 0.0 * w_0_5 + 0.0 * w_1_0 + 0.0 * w_1_1 + 0.0 * w_1_4 + 0.0 * w_1_5 + 0.0 * w_2_0 + 0.0 * w_2_1 + 0.0 * w_2_2 + 0.0 * w_2_4 + 0.0 * w_2_5 + 0.0 * w_3_0 + 0.0 * w_3_1 + 0.0 * w_3_2 + 0.0 * w_3_3 + 0.0 * w_3_5 + 0.0 * w_4_0 + 0.0 * w_4_1 + 0.0 * w_4_2 + 0.0 * w_4_3 + 0.0 * w_4_4 + 0.0 * w_5_0 + 0.0 * w_5_1 + 0.0 * w_5_2 + 0.0 * w_5_3 + 0.0 * w_5_4 + 0.0 * w_5_5\n",
      "Root Mean Square Error:  26.832363406580047\n"
     ]
    },
    {
     "data": {
      "image/png": "[encoded data removed]",
      "text/plain": [
       "<Figure size 432x288 with 1 Axes>"
      ]
     },
     "metadata": {
      "needs_background": "light"
     },
     "output_type": "display_data"
    },
    {
     "data": {
      "text/plain": [
       "<module 'matplotlib.pyplot' from '/opt/projects/diss/jupyter_nbs/py36/lib/python3.6/site-packages/matplotlib/pyplot.py'>"
      ]
     },
     "execution_count": 29,
     "metadata": {},
     "output_type": "execute_result"
    }
   ],
   "source": [
    "sgdreg = SGDRegressor(penalty='l2', alpha=0.15)\n",
    "\n",
    "# Train the model using the training sets\n",
    "sgdreg.fit(X_train, Y_train) \n",
    "\n",
    "print (\"Stochastic Gradient Descent model: \", pretty_print_linear(sgdreg.coef_, names, sort = True))\n",
    "\n",
    "# Predict the values using the model\n",
    "Y_sgdreg_predict = sgdreg.predict(X_test)\n",
    "\n",
    "# Print the root mean square error \n",
    "print (\"Root Mean Square Error: \", root_mean_square_error(Y_sgdreg_predict,Y_test))\n",
    "plot_real_vs_predicted(Y_test,Y_sgdreg_predict, sgdreg)"
   ]
  },
  {
   "cell_type": "markdown",
   "metadata": {},
   "source": [
    "#### Findings (Regression)\n",
    "Didn't do well. Lets's try cluster.\n"
   ]
  },
  {
   "cell_type": "markdown",
   "metadata": {},
   "source": [
    "### Label classifiers\n"
   ]
  },
  {
   "cell_type": "code",
   "execution_count": 30,
   "metadata": {},
   "outputs": [],
   "source": [
    "from sklearn.cluster import KMeans\n",
    "# X_train, X_test, Y_train, Y_test = split_data(X,Y)"
   ]
  },
  {
   "cell_type": "code",
   "execution_count": 31,
   "metadata": {},
   "outputs": [
    {
     "data": {
      "text/html": [
       "<div>\n",
       "<style scoped>\n",
       "    .dataframe tbody tr th:only-of-type {\n",
       "        vertical-align: middle;\n",
       "    }\n",
       "\n",
       "    .dataframe tbody tr th {\n",
       "        vertical-align: top;\n",
       "    }\n",
       "\n",
       "    .dataframe thead th {\n",
       "        text-align: right;\n",
       "    }\n",
       "</style>\n",
       "<table border=\"1\" class=\"dataframe\">\n",
       "  <thead>\n",
       "    <tr style=\"text-align: right;\">\n",
       "      <th></th>\n",
       "      <th>w_0_0</th>\n",
       "      <th>w_0_1</th>\n",
       "      <th>w_0_2</th>\n",
       "      <th>w_0_3</th>\n",
       "      <th>w_0_4</th>\n",
       "      <th>w_0_5</th>\n",
       "      <th>w_1_0</th>\n",
       "      <th>w_1_1</th>\n",
       "      <th>w_1_2</th>\n",
       "      <th>w_1_3</th>\n",
       "      <th>...</th>\n",
       "      <th>w_4_2</th>\n",
       "      <th>w_4_3</th>\n",
       "      <th>w_4_4</th>\n",
       "      <th>w_4_5</th>\n",
       "      <th>w_5_0</th>\n",
       "      <th>w_5_1</th>\n",
       "      <th>w_5_2</th>\n",
       "      <th>w_5_3</th>\n",
       "      <th>w_5_4</th>\n",
       "      <th>w_5_5</th>\n",
       "    </tr>\n",
       "  </thead>\n",
       "  <tbody>\n",
       "    <tr>\n",
       "      <th>count</th>\n",
       "      <td>670.0</td>\n",
       "      <td>670.000000</td>\n",
       "      <td>670.0</td>\n",
       "      <td>670.0</td>\n",
       "      <td>670.0</td>\n",
       "      <td>670.0</td>\n",
       "      <td>670.0</td>\n",
       "      <td>670.0</td>\n",
       "      <td>670.000000</td>\n",
       "      <td>670.000000</td>\n",
       "      <td>...</td>\n",
       "      <td>670.0</td>\n",
       "      <td>670.0</td>\n",
       "      <td>670.0</td>\n",
       "      <td>670.000000</td>\n",
       "      <td>670.0</td>\n",
       "      <td>670.0</td>\n",
       "      <td>670.0</td>\n",
       "      <td>670.0</td>\n",
       "      <td>670.0</td>\n",
       "      <td>670.0</td>\n",
       "    </tr>\n",
       "    <tr>\n",
       "      <th>mean</th>\n",
       "      <td>0.0</td>\n",
       "      <td>4.885746</td>\n",
       "      <td>0.0</td>\n",
       "      <td>0.0</td>\n",
       "      <td>0.0</td>\n",
       "      <td>0.0</td>\n",
       "      <td>0.0</td>\n",
       "      <td>0.0</td>\n",
       "      <td>5.138597</td>\n",
       "      <td>5.103030</td>\n",
       "      <td>...</td>\n",
       "      <td>0.0</td>\n",
       "      <td>0.0</td>\n",
       "      <td>0.0</td>\n",
       "      <td>5.176209</td>\n",
       "      <td>0.0</td>\n",
       "      <td>0.0</td>\n",
       "      <td>0.0</td>\n",
       "      <td>0.0</td>\n",
       "      <td>0.0</td>\n",
       "      <td>0.0</td>\n",
       "    </tr>\n",
       "    <tr>\n",
       "      <th>std</th>\n",
       "      <td>0.0</td>\n",
       "      <td>2.887095</td>\n",
       "      <td>0.0</td>\n",
       "      <td>0.0</td>\n",
       "      <td>0.0</td>\n",
       "      <td>0.0</td>\n",
       "      <td>0.0</td>\n",
       "      <td>0.0</td>\n",
       "      <td>2.857651</td>\n",
       "      <td>2.853627</td>\n",
       "      <td>...</td>\n",
       "      <td>0.0</td>\n",
       "      <td>0.0</td>\n",
       "      <td>0.0</td>\n",
       "      <td>2.858577</td>\n",
       "      <td>0.0</td>\n",
       "      <td>0.0</td>\n",
       "      <td>0.0</td>\n",
       "      <td>0.0</td>\n",
       "      <td>0.0</td>\n",
       "      <td>0.0</td>\n",
       "    </tr>\n",
       "    <tr>\n",
       "      <th>min</th>\n",
       "      <td>0.0</td>\n",
       "      <td>0.010000</td>\n",
       "      <td>0.0</td>\n",
       "      <td>0.0</td>\n",
       "      <td>0.0</td>\n",
       "      <td>0.0</td>\n",
       "      <td>0.0</td>\n",
       "      <td>0.0</td>\n",
       "      <td>0.010000</td>\n",
       "      <td>0.020000</td>\n",
       "      <td>...</td>\n",
       "      <td>0.0</td>\n",
       "      <td>0.0</td>\n",
       "      <td>0.0</td>\n",
       "      <td>0.010000</td>\n",
       "      <td>0.0</td>\n",
       "      <td>0.0</td>\n",
       "      <td>0.0</td>\n",
       "      <td>0.0</td>\n",
       "      <td>0.0</td>\n",
       "      <td>0.0</td>\n",
       "    </tr>\n",
       "    <tr>\n",
       "      <th>25%</th>\n",
       "      <td>0.0</td>\n",
       "      <td>2.500000</td>\n",
       "      <td>0.0</td>\n",
       "      <td>0.0</td>\n",
       "      <td>0.0</td>\n",
       "      <td>0.0</td>\n",
       "      <td>0.0</td>\n",
       "      <td>0.0</td>\n",
       "      <td>2.602500</td>\n",
       "      <td>2.650000</td>\n",
       "      <td>...</td>\n",
       "      <td>0.0</td>\n",
       "      <td>0.0</td>\n",
       "      <td>0.0</td>\n",
       "      <td>2.720000</td>\n",
       "      <td>0.0</td>\n",
       "      <td>0.0</td>\n",
       "      <td>0.0</td>\n",
       "      <td>0.0</td>\n",
       "      <td>0.0</td>\n",
       "      <td>0.0</td>\n",
       "    </tr>\n",
       "    <tr>\n",
       "      <th>50%</th>\n",
       "      <td>0.0</td>\n",
       "      <td>4.760000</td>\n",
       "      <td>0.0</td>\n",
       "      <td>0.0</td>\n",
       "      <td>0.0</td>\n",
       "      <td>0.0</td>\n",
       "      <td>0.0</td>\n",
       "      <td>0.0</td>\n",
       "      <td>5.010000</td>\n",
       "      <td>5.260000</td>\n",
       "      <td>...</td>\n",
       "      <td>0.0</td>\n",
       "      <td>0.0</td>\n",
       "      <td>0.0</td>\n",
       "      <td>5.230000</td>\n",
       "      <td>0.0</td>\n",
       "      <td>0.0</td>\n",
       "      <td>0.0</td>\n",
       "      <td>0.0</td>\n",
       "      <td>0.0</td>\n",
       "      <td>0.0</td>\n",
       "    </tr>\n",
       "    <tr>\n",
       "      <th>75%</th>\n",
       "      <td>0.0</td>\n",
       "      <td>7.377500</td>\n",
       "      <td>0.0</td>\n",
       "      <td>0.0</td>\n",
       "      <td>0.0</td>\n",
       "      <td>0.0</td>\n",
       "      <td>0.0</td>\n",
       "      <td>0.0</td>\n",
       "      <td>7.630000</td>\n",
       "      <td>7.517500</td>\n",
       "      <td>...</td>\n",
       "      <td>0.0</td>\n",
       "      <td>0.0</td>\n",
       "      <td>0.0</td>\n",
       "      <td>7.700000</td>\n",
       "      <td>0.0</td>\n",
       "      <td>0.0</td>\n",
       "      <td>0.0</td>\n",
       "      <td>0.0</td>\n",
       "      <td>0.0</td>\n",
       "      <td>0.0</td>\n",
       "    </tr>\n",
       "    <tr>\n",
       "      <th>max</th>\n",
       "      <td>0.0</td>\n",
       "      <td>9.990000</td>\n",
       "      <td>0.0</td>\n",
       "      <td>0.0</td>\n",
       "      <td>0.0</td>\n",
       "      <td>0.0</td>\n",
       "      <td>0.0</td>\n",
       "      <td>0.0</td>\n",
       "      <td>9.980000</td>\n",
       "      <td>10.000000</td>\n",
       "      <td>...</td>\n",
       "      <td>0.0</td>\n",
       "      <td>0.0</td>\n",
       "      <td>0.0</td>\n",
       "      <td>9.990000</td>\n",
       "      <td>0.0</td>\n",
       "      <td>0.0</td>\n",
       "      <td>0.0</td>\n",
       "      <td>0.0</td>\n",
       "      <td>0.0</td>\n",
       "      <td>0.0</td>\n",
       "    </tr>\n",
       "  </tbody>\n",
       "</table>\n",
       "<p>8 rows × 36 columns</p>\n",
       "</div>"
      ],
      "text/plain": [
       "       w_0_0       w_0_1  w_0_2  w_0_3  w_0_4  w_0_5  w_1_0  w_1_1  \\\n",
       "count  670.0  670.000000  670.0  670.0  670.0  670.0  670.0  670.0   \n",
       "mean     0.0    4.885746    0.0    0.0    0.0    0.0    0.0    0.0   \n",
       "std      0.0    2.887095    0.0    0.0    0.0    0.0    0.0    0.0   \n",
       "min      0.0    0.010000    0.0    0.0    0.0    0.0    0.0    0.0   \n",
       "25%      0.0    2.500000    0.0    0.0    0.0    0.0    0.0    0.0   \n",
       "50%      0.0    4.760000    0.0    0.0    0.0    0.0    0.0    0.0   \n",
       "75%      0.0    7.377500    0.0    0.0    0.0    0.0    0.0    0.0   \n",
       "max      0.0    9.990000    0.0    0.0    0.0    0.0    0.0    0.0   \n",
       "\n",
       "            w_1_2       w_1_3  ...  w_4_2  w_4_3  w_4_4       w_4_5  w_5_0  \\\n",
       "count  670.000000  670.000000  ...  670.0  670.0  670.0  670.000000  670.0   \n",
       "mean     5.138597    5.103030  ...    0.0    0.0    0.0    5.176209    0.0   \n",
       "std      2.857651    2.853627  ...    0.0    0.0    0.0    2.858577    0.0   \n",
       "min      0.010000    0.020000  ...    0.0    0.0    0.0    0.010000    0.0   \n",
       "25%      2.602500    2.650000  ...    0.0    0.0    0.0    2.720000    0.0   \n",
       "50%      5.010000    5.260000  ...    0.0    0.0    0.0    5.230000    0.0   \n",
       "75%      7.630000    7.517500  ...    0.0    0.0    0.0    7.700000    0.0   \n",
       "max      9.980000   10.000000  ...    0.0    0.0    0.0    9.990000    0.0   \n",
       "\n",
       "       w_5_1  w_5_2  w_5_3  w_5_4  w_5_5  \n",
       "count  670.0  670.0  670.0  670.0  670.0  \n",
       "mean     0.0    0.0    0.0    0.0    0.0  \n",
       "std      0.0    0.0    0.0    0.0    0.0  \n",
       "min      0.0    0.0    0.0    0.0    0.0  \n",
       "25%      0.0    0.0    0.0    0.0    0.0  \n",
       "50%      0.0    0.0    0.0    0.0    0.0  \n",
       "75%      0.0    0.0    0.0    0.0    0.0  \n",
       "max      0.0    0.0    0.0    0.0    0.0  \n",
       "\n",
       "[8 rows x 36 columns]"
      ]
     },
     "execution_count": 31,
     "metadata": {},
     "output_type": "execute_result"
    }
   ],
   "source": [
    "X_train.describe()"
   ]
  },
  {
   "cell_type": "code",
   "execution_count": 32,
   "metadata": {},
   "outputs": [
    {
     "data": {
      "image/png": "[encoded data removed]",
      "text/plain": [
       "<Figure size 432x288 with 36 Axes>"
      ]
     },
     "metadata": {
      "needs_background": "light"
     },
     "output_type": "display_data"
    }
   ],
   "source": [
    "X_train.hist(bins=15, color='steelblue', edgecolor='black', linewidth=1.0,\n",
    "           xlabelsize=8, ylabelsize=8, grid=False)    \n",
    "plt.tight_layout(rect=(0, 0, 1.2, 1.2))   "
   ]
  },
  {
   "cell_type": "code",
   "execution_count": 33,
   "metadata": {},
   "outputs": [
    {
     "name": "stdout",
     "output_type": "stream",
     "text": [
      "float64 float64\n",
      "521      6.130000\n",
      "737     51.190000\n",
      "740    104.333533\n",
      "660     11.019612\n",
      "411     93.500200\n",
      "          ...    \n",
      "506     50.020401\n",
      "342     53.666667\n",
      "485      0.218764\n",
      "711    105.820717\n",
      "133     52.166700\n",
      "Name: score, Length: 330, dtype: float64\n"
     ]
    }
   ],
   "source": [
    " X_train, X_test, Y_train, Y_test = split_data(X,Y)\n",
    "# Y_test.head()\n",
    "# X_test.info()\n",
    "X_train.isnull().values.any()\n",
    "print(Y_train.dtypes, Y_test.dtypes) # expecting floats for these regressors\n",
    "# Y_test = pd.to_numeric(Y_test)\n",
    "print(Y_test)"
   ]
  },
  {
   "cell_type": "code",
   "execution_count": 34,
   "metadata": {},
   "outputs": [
    {
     "data": {
      "image/png": "[encoded data removed]",
      "text/plain": [
       "<Figure size 432x288 with 1 Axes>"
      ]
     },
     "metadata": {
      "needs_background": "light"
     },
     "output_type": "display_data"
    },
    {
     "name": "stdout",
     "output_type": "stream",
     "text": [
      "Root Mean Square Error:  24.9814372893341\n"
     ]
    },
    {
     "data": {
      "image/png": "[encoded data removed]",
      "text/plain": [
       "<Figure size 432x288 with 1 Axes>"
      ]
     },
     "metadata": {
      "needs_background": "light"
     },
     "output_type": "display_data"
    },
    {
     "name": "stdout",
     "output_type": "stream",
     "text": [
      "Root Mean Square Error:  29.51802495753085\n"
     ]
    },
    {
     "data": {
      "image/png": "[encoded data removed]",
      "text/plain": [
       "<Figure size 432x288 with 1 Axes>"
      ]
     },
     "metadata": {
      "needs_background": "light"
     },
     "output_type": "display_data"
    },
    {
     "name": "stdout",
     "output_type": "stream",
     "text": [
      "Root Mean Square Error:  24.683214089557815\n"
     ]
    },
    {
     "data": {
      "image/png": "[encoded data removed]",
      "text/plain": [
       "<Figure size 432x288 with 1 Axes>"
      ]
     },
     "metadata": {
      "needs_background": "light"
     },
     "output_type": "display_data"
    },
    {
     "name": "stdout",
     "output_type": "stream",
     "text": [
      "Root Mean Square Error:  33.3595956514295\n"
     ]
    },
    {
     "data": {
      "image/png": "[encoded data removed]",
      "text/plain": [
       "<Figure size 432x288 with 1 Axes>"
      ]
     },
     "metadata": {
      "needs_background": "light"
     },
     "output_type": "display_data"
    },
    {
     "name": "stdout",
     "output_type": "stream",
     "text": [
      "Root Mean Square Error:  24.68082363904802\n"
     ]
    },
    {
     "data": {
      "image/png": "[encoded data removed]",
      "text/plain": [
       "<Figure size 432x288 with 1 Axes>"
      ]
     },
     "metadata": {
      "needs_background": "light"
     },
     "output_type": "display_data"
    },
    {
     "name": "stdout",
     "output_type": "stream",
     "text": [
      "Root Mean Square Error:  35.253938679777576\n"
     ]
    },
    {
     "data": {
      "image/png": "[encoded data removed]",
      "text/plain": [
       "<Figure size 432x288 with 1 Axes>"
      ]
     },
     "metadata": {
      "needs_background": "light"
     },
     "output_type": "display_data"
    },
    {
     "name": "stdout",
     "output_type": "stream",
     "text": [
      "Root Mean Square Error:  24.669944473924723\n"
     ]
    }
   ],
   "source": [
    "from sklearn import svm\n",
    "from sklearn import linear_model\n",
    "\n",
    "classifiers = [\n",
    "    svm.SVR(),\n",
    "    linear_model.SGDRegressor(),\n",
    "    linear_model.BayesianRidge(),\n",
    "    linear_model.LassoLars(),\n",
    "    linear_model.ARDRegression(),\n",
    "    linear_model.PassiveAggressiveRegressor(),\n",
    "    linear_model.TheilSenRegressor(),]\n",
    "\n",
    "predictYs = []\n",
    "for i, item in enumerate(classifiers):\n",
    "    clf = item\n",
    "    clf.fit(X_train, Y_train)\n",
    "    Y_predict = clf.predict(X_test)  # https://github.com/scikit-learn/scikit-learn/pull/12867 ? \n",
    "#     print(Y_predict.size, Y_test.size, X_test.size)\n",
    "    plot_real_vs_predicted(Y_test,Y_predict, item)\n",
    "    print (\"Root Mean Square Error: \", root_mean_square_error(Y_predict,Y_test))"
   ]
  },
  {
   "cell_type": "code",
   "execution_count": 35,
   "metadata": {},
   "outputs": [
    {
     "data": {
      "text/plain": [
       "<matplotlib.axes._subplots.AxesSubplot at 0x7ff57d3c5710>"
      ]
     },
     "execution_count": 35,
     "metadata": {},
     "output_type": "execute_result"
    },
    {
     "data": {
      "image/png": "[encoded data removed]",
      "text/plain": [
       "<Figure size 432x288 with 1 Axes>"
      ]
     },
     "metadata": {
      "needs_background": "light"
     },
     "output_type": "display_data"
    }
   ],
   "source": [
    "Y_train.hist()"
   ]
  },
  {
   "cell_type": "markdown",
   "metadata": {},
   "source": [
    "### Encode Y labels (Metric Value)"
   ]
  },
  {
   "cell_type": "code",
   "execution_count": 36,
   "metadata": {},
   "outputs": [
    {
     "name": "stdout",
     "output_type": "stream",
     "text": [
      "(670,)\n"
     ]
    },
    {
     "data": {
      "text/plain": [
       "(array([65., 69., 66., 69., 64., 68., 65., 67., 67., 70.]),\n",
       " array([  0.,  63., 126., 189., 252., 315., 378., 441., 504., 567., 630.]),\n",
       " <a list of 10 Patch objects>)"
      ]
     },
     "execution_count": 36,
     "metadata": {},
     "output_type": "execute_result"
    },
    {
     "data": {
      "image/png": "[encoded data removed]",
      "text/plain": [
       "<Figure size 432x288 with 1 Axes>"
      ]
     },
     "metadata": {
      "needs_background": "light"
     },
     "output_type": "display_data"
    }
   ],
   "source": [
    "from sklearn import preprocessing\n",
    "#creating labelEncoder\n",
    "le = preprocessing.LabelEncoder()\n",
    "# Converting string labels into numbers.\n",
    "y_train_encoded=le.fit_transform(Y_train)\n",
    "# print(y_train_encoded)\n",
    "print(y_train_encoded.shape)\n",
    "\n",
    "y_test_encoded=le.fit_transform(Y_test)\n",
    "plt.hist(y_train_encoded)"
   ]
  },
  {
   "cell_type": "code",
   "execution_count": 37,
   "metadata": {},
   "outputs": [
    {
     "name": "stdout",
     "output_type": "stream",
     "text": [
      "DecisionTreeClassifier\n",
      "{'criterion': 'gini', 'splitter': 'best', 'max_depth': 5, 'min_samples_split': 2, 'min_samples_leaf': 1, 'min_weight_fraction_leaf': 0.0, 'max_features': None, 'random_state': None, 'max_leaf_nodes': None, 'min_impurity_decrease': 0.0, 'min_impurity_split': None, 'class_weight': None, 'presort': 'deprecated', 'ccp_alpha': 0.0}\n"
     ]
    },
    {
     "data": {
      "image/png": "[encoded data removed]",
      "text/plain": [
       "<Figure size 432x288 with 1 Axes>"
      ]
     },
     "metadata": {
      "needs_background": "light"
     },
     "output_type": "display_data"
    },
    {
     "name": "stdout",
     "output_type": "stream",
     "text": [
      "Root Mean Square Error:  246.36284976608718\n",
      "RandomForestClassifier\n",
      "{'base_estimator': DecisionTreeClassifier(ccp_alpha=0.0, class_weight=None, criterion='gini',\n",
      "                       max_depth=None, max_features=None, max_leaf_nodes=None,\n",
      "                       min_impurity_decrease=0.0, min_impurity_split=None,\n",
      "                       min_samples_leaf=1, min_samples_split=2,\n",
      "                       min_weight_fraction_leaf=0.0, presort='deprecated',\n",
      "                       random_state=None, splitter='best'), 'n_estimators': 10, 'estimator_params': ('criterion', 'max_depth', 'min_samples_split', 'min_samples_leaf', 'min_weight_fraction_leaf', 'max_features', 'max_leaf_nodes', 'min_impurity_decrease', 'min_impurity_split', 'random_state', 'ccp_alpha'), 'bootstrap': True, 'oob_score': False, 'n_jobs': None, 'random_state': None, 'verbose': 0, 'warm_start': False, 'class_weight': None, 'max_samples': None, 'criterion': 'gini', 'max_depth': 5, 'min_samples_split': 2, 'min_samples_leaf': 1, 'min_weight_fraction_leaf': 0.0, 'max_features': 1, 'max_leaf_nodes': None, 'min_impurity_decrease': 0.0, 'min_impurity_split': None, 'ccp_alpha': 0.0}\n"
     ]
    },
    {
     "data": {
      "image/png": "[encoded data removed]",
      "text/plain": [
       "<Figure size 432x288 with 1 Axes>"
      ]
     },
     "metadata": {
      "needs_background": "light"
     },
     "output_type": "display_data"
    },
    {
     "name": "stdout",
     "output_type": "stream",
     "text": [
      "Root Mean Square Error:  294.7957912717237\n"
     ]
    }
   ],
   "source": [
    "from sklearn import svm\n",
    "from sklearn import tree\n",
    "from sklearn.tree import DecisionTreeClassifier\n",
    "from sklearn.ensemble import RandomForestClassifier\n",
    "from sklearn import linear_model\n",
    "\n",
    "# classifiers = [ # predict continuous values \n",
    "#     svm.SVR(),\n",
    "#     linear_model.SGDRegressor(),\n",
    "#     linear_model.BayesianRidge(),\n",
    "#     linear_model.LassoLars(),\n",
    "#     linear_model.ARDRegression(),\n",
    "#     linear_model.PassiveAggressiveRegressor(),\n",
    "#     linear_model.TheilSenRegressor(),]\n",
    "\n",
    "classifiers = [  # predict discrete values (labels)\n",
    "#     KNeighborsClassifier(3),\n",
    "#     SVC(kernel=\"linear\", C=0.025),\n",
    "#     SVC(gamma=2, C=1),\n",
    "#     GaussianProcessClassifier(1.0 * RBF(1.0)),\n",
    "    DecisionTreeClassifier(max_depth=5),\n",
    "    RandomForestClassifier(max_depth=5, n_estimators=10, max_features=1),\n",
    "#     MLPClassifier(alpha=1, max_iter=1000),\n",
    "#     AdaBoostClassifier(),\n",
    "#     GaussianNB(),\n",
    "#     QuadraticDiscriminantAnalysis()\n",
    "]\n",
    "\n",
    "def plot_real_vs_predicted(y_pred,y_test, obj=None):\n",
    "    plt.plot(y_pred,y_test,'ro')\n",
    "    plt.plot([0,50],[0,50], 'g-')\n",
    "    plt.xlabel('predicted')\n",
    "    plt.ylabel('real')\n",
    "    if obj:\n",
    "        plt.title(obj.__class__.__name__)\n",
    "    plt.show()\n",
    "    return plt\n",
    "\n",
    "\n",
    "predictYs = []\n",
    "for i, item in enumerate(classifiers):\n",
    "    print(item.__class__.__name__)\n",
    "    print(item.__dict__)\n",
    "    clf = item\n",
    "    clf.fit(X_train, y_train_encoded)\n",
    "    Y_predict = clf.predict(X_test)  # https://github.com/scikit-learn/scikit-learn/pull/12867 ? \n",
    "#     print(Y_predict.size, Y_test.size, X_test.size)\n",
    "    plot_real_vs_predicted(y_test_encoded,Y_predict, item)\n",
    "    print (\"Root Mean Square Error: \", root_mean_square_error(Y_predict,Y_test))"
   ]
  },
  {
   "cell_type": "code",
   "execution_count": null,
   "metadata": {},
   "outputs": [],
   "source": []
  },
  {
   "cell_type": "code",
   "execution_count": 38,
   "metadata": {},
   "outputs": [
    {
     "name": "stdout",
     "output_type": "stream",
     "text": [
      "(n=1) Root Mean Square Error: 314.33501892910715\n"
     ]
    },
    {
     "data": {
      "image/png": "[encoded data removed]",
      "text/plain": [
       "<Figure size 432x288 with 1 Axes>"
      ]
     },
     "metadata": {
      "needs_background": "light"
     },
     "output_type": "display_data"
    },
    {
     "data": {
      "text/plain": [
       "<module 'matplotlib.pyplot' from '/opt/projects/diss/jupyter_nbs/py36/lib/python3.6/site-packages/matplotlib/pyplot.py'>"
      ]
     },
     "execution_count": 38,
     "metadata": {},
     "output_type": "execute_result"
    }
   ],
   "source": [
    "\n",
    "\n",
    "# KNeighborsClassifier\n",
    "# now try kmean clustering\n",
    "knn = KNeighborsClassifier(n_neighbors=1)\n",
    "\n",
    "# Train the model using the training sets\n",
    "knn.fit(X_train,y_train_encoded)\n",
    "# print(knn.__dict__)\n",
    "# print (\"Linear model: \", pretty_print_linear(knn.coef_, names, sort = True))\n",
    "\n",
    "# Predict the values using the model\n",
    "Y_knn_predict = knn.predict(X_test)\n",
    "\n",
    "# Print the root mean square error \n",
    "print (\"(n=1) Root Mean Square Error: {}\".format(root_mean_square_error(Y_knn_predict,Y_test)))\n",
    "plot_real_vs_predicted(y_test_encoded,Y_knn_predict, knn)"
   ]
  },
  {
   "cell_type": "code",
   "execution_count": 39,
   "metadata": {},
   "outputs": [
    {
     "name": "stdout",
     "output_type": "stream",
     "text": [
      "(n=5) Root Mean Square Error: 181.97657649111267\n"
     ]
    },
    {
     "data": {
      "image/png": "[encoded data removed]",
      "text/plain": [
       "<Figure size 432x288 with 1 Axes>"
      ]
     },
     "metadata": {
      "needs_background": "light"
     },
     "output_type": "display_data"
    },
    {
     "data": {
      "text/plain": [
       "<module 'matplotlib.pyplot' from '/opt/projects/diss/jupyter_nbs/py36/lib/python3.6/site-packages/matplotlib/pyplot.py'>"
      ]
     },
     "execution_count": 39,
     "metadata": {},
     "output_type": "execute_result"
    }
   ],
   "source": [
    "\n",
    "# KNeighborsClassifier\n",
    "# now try kmean clustering\n",
    "knn = KNeighborsClassifier(n_neighbors=5)\n",
    "\n",
    "# Train the model using the training sets\n",
    "knn.fit(X_train,y_train_encoded)\n",
    "# print(knn.__dict__)\n",
    "# print (\"Linear model: \", pretty_print_linear(knn.coef_, names, sort = True))\n",
    "\n",
    "# Predict the values using the model\n",
    "Y_knn_predict = knn.predict(X_test)\n",
    "\n",
    "# Print the root mean square error \n",
    "print (\"(n=5) Root Mean Square Error: {}\".format(root_mean_square_error(Y_knn_predict,Y_test)))\n",
    "plot_real_vs_predicted(y_test_encoded,Y_knn_predict, knn)"
   ]
  },
  {
   "cell_type": "code",
   "execution_count": 40,
   "metadata": {},
   "outputs": [
    {
     "name": "stdout",
     "output_type": "stream",
     "text": [
      "(n=25) Root Mean Square Error: 155.1436658608156\n"
     ]
    },
    {
     "data": {
      "image/png": "[encoded data removed]",
      "text/plain": [
       "<Figure size 432x288 with 1 Axes>"
      ]
     },
     "metadata": {
      "needs_background": "light"
     },
     "output_type": "display_data"
    },
    {
     "data": {
      "text/plain": [
       "<module 'matplotlib.pyplot' from '/opt/projects/diss/jupyter_nbs/py36/lib/python3.6/site-packages/matplotlib/pyplot.py'>"
      ]
     },
     "execution_count": 40,
     "metadata": {},
     "output_type": "execute_result"
    }
   ],
   "source": [
    "# KNeighborsClassifier\n",
    "# now try kmean clustering\n",
    "knn = KNeighborsClassifier(n_neighbors=25)\n",
    "\n",
    "# Train the model using the training sets\n",
    "knn.fit(X_train,y_train_encoded)\n",
    "# print(knn.__dict__)\n",
    "# print (\"Linear model: \", pretty_print_linear(knn.coef_, names, sort = True))\n",
    "\n",
    "# Predict the values using the model\n",
    "Y_knn_predict = knn.predict(X_test)\n",
    "\n",
    "# Print the root mean square error \n",
    "print (\"(n=25) Root Mean Square Error: {}\".format(root_mean_square_error(Y_knn_predict,Y_test)))\n",
    "plot_real_vs_predicted(y_test_encoded,Y_knn_predict, knn)"
   ]
  },
  {
   "cell_type": "code",
   "execution_count": null,
   "metadata": {},
   "outputs": [],
   "source": []
  },
  {
   "cell_type": "markdown",
   "metadata": {},
   "source": [
    "## Clustering\n"
   ]
  },
  {
   "cell_type": "code",
   "execution_count": 41,
   "metadata": {},
   "outputs": [
    {
     "data": {
      "text/html": [
       "<div>\n",
       "<style scoped>\n",
       "    .dataframe tbody tr th:only-of-type {\n",
       "        vertical-align: middle;\n",
       "    }\n",
       "\n",
       "    .dataframe tbody tr th {\n",
       "        vertical-align: top;\n",
       "    }\n",
       "\n",
       "    .dataframe thead th {\n",
       "        text-align: right;\n",
       "    }\n",
       "</style>\n",
       "<table border=\"1\" class=\"dataframe\">\n",
       "  <thead>\n",
       "    <tr style=\"text-align: right;\">\n",
       "      <th></th>\n",
       "      <th>w_0_1</th>\n",
       "      <th>w_1_2</th>\n",
       "      <th>w_1_3</th>\n",
       "      <th>w_2_3</th>\n",
       "      <th>w_3_4</th>\n",
       "      <th>w_4_5</th>\n",
       "      <th>score</th>\n",
       "    </tr>\n",
       "  </thead>\n",
       "  <tbody>\n",
       "    <tr>\n",
       "      <th>count</th>\n",
       "      <td>1000.000000</td>\n",
       "      <td>1000.000000</td>\n",
       "      <td>1000.00000</td>\n",
       "      <td>1000.000000</td>\n",
       "      <td>1000.000000</td>\n",
       "      <td>1000.000000</td>\n",
       "      <td>1000.000000</td>\n",
       "    </tr>\n",
       "    <tr>\n",
       "      <th>mean</th>\n",
       "      <td>4.940850</td>\n",
       "      <td>5.121110</td>\n",
       "      <td>5.09931</td>\n",
       "      <td>5.012930</td>\n",
       "      <td>5.056450</td>\n",
       "      <td>5.032080</td>\n",
       "      <td>36.107870</td>\n",
       "    </tr>\n",
       "    <tr>\n",
       "      <th>std</th>\n",
       "      <td>2.875171</td>\n",
       "      <td>2.856995</td>\n",
       "      <td>2.85285</td>\n",
       "      <td>2.910674</td>\n",
       "      <td>2.913968</td>\n",
       "      <td>2.894216</td>\n",
       "      <td>35.488545</td>\n",
       "    </tr>\n",
       "    <tr>\n",
       "      <th>min</th>\n",
       "      <td>0.010000</td>\n",
       "      <td>0.010000</td>\n",
       "      <td>0.02000</td>\n",
       "      <td>0.020000</td>\n",
       "      <td>0.020000</td>\n",
       "      <td>0.000000</td>\n",
       "      <td>0.020600</td>\n",
       "    </tr>\n",
       "    <tr>\n",
       "      <th>25%</th>\n",
       "      <td>2.527500</td>\n",
       "      <td>2.607500</td>\n",
       "      <td>2.58000</td>\n",
       "      <td>2.467500</td>\n",
       "      <td>2.550000</td>\n",
       "      <td>2.580000</td>\n",
       "      <td>5.258434</td>\n",
       "    </tr>\n",
       "    <tr>\n",
       "      <th>50%</th>\n",
       "      <td>4.835000</td>\n",
       "      <td>5.115000</td>\n",
       "      <td>5.24000</td>\n",
       "      <td>4.975000</td>\n",
       "      <td>5.020000</td>\n",
       "      <td>5.015000</td>\n",
       "      <td>32.310100</td>\n",
       "    </tr>\n",
       "    <tr>\n",
       "      <th>75%</th>\n",
       "      <td>7.427500</td>\n",
       "      <td>7.592500</td>\n",
       "      <td>7.50250</td>\n",
       "      <td>7.685000</td>\n",
       "      <td>7.622500</td>\n",
       "      <td>7.630000</td>\n",
       "      <td>55.170250</td>\n",
       "    </tr>\n",
       "    <tr>\n",
       "      <th>max</th>\n",
       "      <td>9.990000</td>\n",
       "      <td>9.980000</td>\n",
       "      <td>10.00000</td>\n",
       "      <td>9.990000</td>\n",
       "      <td>9.990000</td>\n",
       "      <td>9.990000</td>\n",
       "      <td>191.833333</td>\n",
       "    </tr>\n",
       "  </tbody>\n",
       "</table>\n",
       "</div>"
      ],
      "text/plain": [
       "             w_0_1        w_1_2       w_1_3        w_2_3        w_3_4  \\\n",
       "count  1000.000000  1000.000000  1000.00000  1000.000000  1000.000000   \n",
       "mean      4.940850     5.121110     5.09931     5.012930     5.056450   \n",
       "std       2.875171     2.856995     2.85285     2.910674     2.913968   \n",
       "min       0.010000     0.010000     0.02000     0.020000     0.020000   \n",
       "25%       2.527500     2.607500     2.58000     2.467500     2.550000   \n",
       "50%       4.835000     5.115000     5.24000     4.975000     5.020000   \n",
       "75%       7.427500     7.592500     7.50250     7.685000     7.622500   \n",
       "max       9.990000     9.980000    10.00000     9.990000     9.990000   \n",
       "\n",
       "             w_4_5        score  \n",
       "count  1000.000000  1000.000000  \n",
       "mean      5.032080    36.107870  \n",
       "std       2.894216    35.488545  \n",
       "min       0.000000     0.020600  \n",
       "25%       2.580000     5.258434  \n",
       "50%       5.015000    32.310100  \n",
       "75%       7.630000    55.170250  \n",
       "max       9.990000   191.833333  "
      ]
     },
     "execution_count": 41,
     "metadata": {},
     "output_type": "execute_result"
    }
   ],
   "source": [
    "df_fnl.describe()\n",
    "df_reduced = df_fnl.drop(columns='sample_uri')\n",
    "cols_to_drop = df_reduced.columns[(df_reduced == 0).all()]\n",
    "df_reduced = df_reduced.drop(columns=cols_to_drop )\n",
    "df_reduced.describe()"
   ]
  },
  {
   "cell_type": "markdown",
   "metadata": {},
   "source": [
    "### Drop 0s columns.\n",
    "Whats left is the transition matrices for each sample in the weighted rows, and the score labels this each sample"
   ]
  },
  {
   "cell_type": "code",
   "execution_count": 42,
   "metadata": {},
   "outputs": [
    {
     "data": {
      "text/html": [
       "<div>\n",
       "<style scoped>\n",
       "    .dataframe tbody tr th:only-of-type {\n",
       "        vertical-align: middle;\n",
       "    }\n",
       "\n",
       "    .dataframe tbody tr th {\n",
       "        vertical-align: top;\n",
       "    }\n",
       "\n",
       "    .dataframe thead th {\n",
       "        text-align: right;\n",
       "    }\n",
       "</style>\n",
       "<table border=\"1\" class=\"dataframe\">\n",
       "  <thead>\n",
       "    <tr style=\"text-align: right;\">\n",
       "      <th></th>\n",
       "      <th>w_0_1</th>\n",
       "      <th>w_1_2</th>\n",
       "      <th>w_1_3</th>\n",
       "      <th>w_2_3</th>\n",
       "      <th>w_3_4</th>\n",
       "      <th>w_4_5</th>\n",
       "      <th>score</th>\n",
       "    </tr>\n",
       "  </thead>\n",
       "  <tbody>\n",
       "    <tr>\n",
       "      <th>0</th>\n",
       "      <td>5.49</td>\n",
       "      <td>5.81</td>\n",
       "      <td>6.14</td>\n",
       "      <td>5.13</td>\n",
       "      <td>6.53</td>\n",
       "      <td>5.07</td>\n",
       "      <td>4.00</td>\n",
       "    </tr>\n",
       "    <tr>\n",
       "      <th>1</th>\n",
       "      <td>7.74</td>\n",
       "      <td>5.21</td>\n",
       "      <td>6.01</td>\n",
       "      <td>5.47</td>\n",
       "      <td>8.06</td>\n",
       "      <td>6.43</td>\n",
       "      <td>12.00</td>\n",
       "    </tr>\n",
       "    <tr>\n",
       "      <th>2</th>\n",
       "      <td>6.21</td>\n",
       "      <td>1.85</td>\n",
       "      <td>7.61</td>\n",
       "      <td>7.01</td>\n",
       "      <td>7.01</td>\n",
       "      <td>8.10</td>\n",
       "      <td>16.00</td>\n",
       "    </tr>\n",
       "    <tr>\n",
       "      <th>3</th>\n",
       "      <td>2.05</td>\n",
       "      <td>5.71</td>\n",
       "      <td>5.51</td>\n",
       "      <td>3.23</td>\n",
       "      <td>1.92</td>\n",
       "      <td>4.82</td>\n",
       "      <td>0.75</td>\n",
       "    </tr>\n",
       "    <tr>\n",
       "      <th>4</th>\n",
       "      <td>7.00</td>\n",
       "      <td>9.67</td>\n",
       "      <td>8.45</td>\n",
       "      <td>5.70</td>\n",
       "      <td>7.00</td>\n",
       "      <td>7.84</td>\n",
       "      <td>40.50</td>\n",
       "    </tr>\n",
       "  </tbody>\n",
       "</table>\n",
       "</div>"
      ],
      "text/plain": [
       "   w_0_1  w_1_2  w_1_3  w_2_3  w_3_4  w_4_5  score\n",
       "0   5.49   5.81   6.14   5.13   6.53   5.07   4.00\n",
       "1   7.74   5.21   6.01   5.47   8.06   6.43  12.00\n",
       "2   6.21   1.85   7.61   7.01   7.01   8.10  16.00\n",
       "3   2.05   5.71   5.51   3.23   1.92   4.82   0.75\n",
       "4   7.00   9.67   8.45   5.70   7.00   7.84  40.50"
      ]
     },
     "execution_count": 42,
     "metadata": {},
     "output_type": "execute_result"
    }
   ],
   "source": [
    "df_reduced.head()"
   ]
  },
  {
   "cell_type": "markdown",
   "metadata": {},
   "source": [
    "### Load new X, Y and training sets here"
   ]
  },
  {
   "cell_type": "code",
   "execution_count": 43,
   "metadata": {},
   "outputs": [],
   "source": [
    "X = df_reduced.iloc[:,:-1]\n",
    "Y = df_reduced.iloc[:,-1]\n",
    "X_train, X_test, Y_train, Y_test = split_data(X,Y)"
   ]
  },
  {
   "cell_type": "code",
   "execution_count": 44,
   "metadata": {},
   "outputs": [
    {
     "data": {
      "text/plain": [
       "0        4.00000\n",
       "1       12.00000\n",
       "2       16.00000\n",
       "3        0.75000\n",
       "4       40.50000\n",
       "         ...    \n",
       "995    150.02012\n",
       "996      0.05030\n",
       "997      2.22012\n",
       "998    105.01920\n",
       "999     57.70010\n",
       "Name: score, Length: 1000, dtype: float64"
      ]
     },
     "execution_count": 44,
     "metadata": {},
     "output_type": "execute_result"
    }
   ],
   "source": [
    "# df_reduced.iloc[0:]\n",
    "df_reduced.iloc[:,0]\n",
    "df_reduced.iloc[:,-1]"
   ]
  },
  {
   "cell_type": "code",
   "execution_count": 45,
   "metadata": {},
   "outputs": [
    {
     "name": "stdout",
     "output_type": "stream",
     "text": [
      "     w_0_1  w_1_2  w_1_3  w_2_3  w_3_4  w_4_5      score\n",
      "0     5.49   5.81   6.14   5.13   6.53   5.07    4.00000\n",
      "1     7.74   5.21   6.01   5.47   8.06   6.43   12.00000\n",
      "2     6.21   1.85   7.61   7.01   7.01   8.10   16.00000\n",
      "3     2.05   5.71   5.51   3.23   1.92   4.82    0.75000\n",
      "4     7.00   9.67   8.45   5.70   7.00   7.84   40.50000\n",
      "..     ...    ...    ...    ...    ...    ...        ...\n",
      "995   8.75   2.09   7.80   1.56   8.94   9.08  150.02012\n",
      "996   2.32   2.52   1.78   0.02   1.92   0.69    0.05030\n",
      "997   3.44   2.56   7.56   0.84   5.35   6.30    2.22012\n",
      "998   8.76   0.14   6.52   8.05   8.88   3.11  105.01920\n",
      "999   7.75   7.52   6.70   1.19   9.55   3.85   57.70010\n",
      "\n",
      "[1000 rows x 7 columns]\n",
      "KMeans(algorithm='auto', copy_x=True, init='k-means++', max_iter=300,\n",
      "       n_clusters=6, n_init=10, n_jobs=None, precompute_distances='auto',\n",
      "       random_state=None, tol=0.0001, verbose=0)\n"
     ]
    },
    {
     "data": {
      "image/png": "[encoded data removed]",
      "text/plain": [
       "<Figure size 432x288 with 1 Axes>"
      ]
     },
     "metadata": {
      "needs_background": "light"
     },
     "output_type": "display_data"
    }
   ],
   "source": [
    "from sklearn.cluster import KMeans\n",
    "\n",
    "km = KMeans(n_clusters=6)\n",
    "clusters = km.fit(df_reduced)\n",
    "print(df_reduced)\n",
    "print(clusters)\n",
    "\n",
    "plt.scatter(df_reduced.iloc[:,-1] ,df_reduced.iloc[:,0],  label='w_0_1 score')\n",
    "plt.scatter(df_reduced.iloc[:,-1] ,df_reduced.iloc[:,1],  label='w_1_2 score')\n",
    "# plt.scatter(df_reduced.iloc[:,-1] ,df_reduced.iloc[:,2],  label='Datapoints')\n",
    "# plt.scatter(df_reduced.iloc[:,-1] ,df_reduced.iloc[:,3],  label='Datapoints')\n",
    "# plt.scatter(df_reduced.iloc[:,-1] ,df_reduced.iloc[:,4],  label='Datapoints')\n",
    "# plt.scatter(df_reduced.iloc[:,-1] ,df_reduced.iloc[:0,4],  label='Datapoints')\n",
    "plt.scatter(clusters.cluster_centers_[:, 0], clusters.cluster_centers_[:, 1], label='Clusters')\n",
    "plt.title(\"Sklearn version of KMeans\")\n",
    "plt.legend()\n",
    "plt.show()\n",
    "\n"
   ]
  },
  {
   "cell_type": "code",
   "execution_count": null,
   "metadata": {},
   "outputs": [],
   "source": []
  },
  {
   "cell_type": "code",
   "execution_count": 46,
   "metadata": {},
   "outputs": [
    {
     "data": {
      "text/plain": [
       "<matplotlib.axes._subplots.AxesSubplot at 0x7ff57ce54c18>"
      ]
     },
     "execution_count": 46,
     "metadata": {},
     "output_type": "execute_result"
    },
    {
     "data": {
      "image/png": "[encoded data removed]",
      "text/plain": [
       "<Figure size 432x288 with 1 Axes>"
      ]
     },
     "metadata": {
      "needs_background": "light"
     },
     "output_type": "display_data"
    }
   ],
   "source": [
    "df_reduced[\"score\"].hist()"
   ]
  },
  {
   "cell_type": "markdown",
   "metadata": {},
   "source": [
    "## Embedding and random walks\n",
    "\n",
    "Our clusters are weighted by euclidian distance, and our exp dist bunches everything towards the heavy side. We need a better way to measure the similarity between nodes in our transition graph. "
   ]
  },
  {
   "cell_type": "markdown",
   "metadata": {},
   "source": []
  },
  {
   "cell_type": "markdown",
   "metadata": {},
   "source": []
  },
  {
   "cell_type": "code",
   "execution_count": 91,
   "metadata": {},
   "outputs": [],
   "source": [
    "\"\"\"graph[ fontname = \"Helvetica-Oblique\",\n",
    "            fontsize = 12,\n",
    "            label = \"some label\",\n",
    "            size = \"7.75,10.25\" ];\"\"\"\n",
    "# Show an dot graph in this notebook\n",
    "def plot_dot(ag, title=None):\n",
    "    A = nx.nx_agraph.to_agraph(ag)\n",
    "    if title:\n",
    "        A.graph_attr.update(label=title, labelloc='top', labeljust='center', fontsize=24)\n",
    "    # A.layout('dot', args='-Nfontsize=10 -Nwidth=\".2\" -Nheight=\".2\" -Nmargin=0 -Gfontsize=8')\n",
    "    args = \"\"\"\n",
    "    -Gsize=5\n",
    "    -Nfontname=Roboto\n",
    "    -Efontname=Roboto\n",
    "    -Nfontsize=8\n",
    "    -Efontsize=8\n",
    "    \"\"\"\n",
    "    A.layout('dot', args=args )\n",
    "    # A.draw(self.outputDir + '/' + outfilename)\n",
    "    A.draw()\n",
    "    # plt.show()\n",
    "    return graphviz.Source(A.to_string())\n",
    "\n"
   ]
  },
  {
   "cell_type": "markdown",
   "metadata": {},
   "source": [
    "### DeepWalk"
   ]
  },
  {
   "cell_type": "code",
   "execution_count": 61,
   "metadata": {},
   "outputs": [
    {
     "name": "stdout",
     "output_type": "stream",
     "text": [
      "['13']\n"
     ]
    },
    {
     "data": {
      "text/plain": [
       "['0', '13', '8', '5', '3', '1']"
      ]
     },
     "execution_count": 61,
     "metadata": {},
     "output_type": "execute_result"
    }
   ],
   "source": [
    "# https://github.com/prateekjoshi565/DeepWalk/blob/master/deepwalk_space.ipynb\n",
    "import random\n",
    "print(list(ag_reduced.neighbors('0')))\n",
    "def get_randomwalk(node, path_length):\n",
    "    random_walk = [node]\n",
    "    for i in range(path_length-1):\n",
    "        temp = list(ag_reduced.neighbors(node))\n",
    "        temp = list(set(temp) - set(random_walk))    \n",
    "        if len(temp) == 0:\n",
    "            break\n",
    "        random_node = random.choice(temp)\n",
    "        random_walk.append(random_node)\n",
    "        node = random_node        \n",
    "    return random_walk\n",
    "\n",
    "get_randomwalk('0', 10)"
   ]
  },
  {
   "cell_type": "code",
   "execution_count": 94,
   "metadata": {},
   "outputs": [
    {
     "name": "stderr",
     "output_type": "stream",
     "text": [
      "100%|██████████| 6/6 [00:00<00:00, 4429.04it/s]\n"
     ]
    }
   ],
   "source": [
    "# Deepwalk looks a lot like our markov runner...\n",
    "from tqdm import tqdm\n",
    "from sklearn.decomposition import PCA\n",
    "all_nodes = list(ag_reduced.nodes())\n",
    "random_walks = []\n",
    "for n in tqdm(all_nodes):\n",
    "    for i in range(5):\n",
    "        random_walks.append(get_randomwalk(n,10))"
   ]
  },
  {
   "cell_type": "markdown",
   "metadata": {},
   "source": [
    "### Word2Vec"
   ]
  },
  {
   "cell_type": "code",
   "execution_count": 93,
   "metadata": {},
   "outputs": [
    {
     "name": "stderr",
     "output_type": "stream",
     "text": [
      "WARNING:gensim.models.base_any2vec:under 10 jobs per worker: consider setting a smaller `batch_words' for smoother alpha decay\n"
     ]
    },
    {
     "data": {
      "text/plain": [
       "(160, 2000)"
      ]
     },
     "execution_count": 93,
     "metadata": {},
     "output_type": "execute_result"
    }
   ],
   "source": [
    "# https://radimrehurek.com/gensim/index.html \n",
    "from gensim.models import Word2Vec\n",
    "import warnings\n",
    "warnings.filterwarnings('ignore')\n",
    "\n",
    "# train word2vec model\n",
    "model = Word2Vec(window = 4, sg = 1, hs = 0,\n",
    "                 negative = 10, # for negative sampling\n",
    "                 alpha=0.03, min_alpha=0.0007,\n",
    "                 seed = 14)\n",
    "\n",
    "model.build_vocab(random_walks, progress_per=2)\n",
    "\n",
    "model.train(random_walks, total_examples = model.corpus_count, epochs=20, report_delay=1)\n"
   ]
  },
  {
   "cell_type": "code",
   "execution_count": 87,
   "metadata": {},
   "outputs": [],
   "source": [
    "def plot_nodes(word_list, size=(12,9), title=None):\n",
    "    X = model[word_list]\n",
    "    \n",
    "    # reduce dimensions to 2\n",
    "    pca = PCA(n_components=2)\n",
    "    result = pca.fit_transform(X)    \n",
    "    \n",
    "    plt.figure(figsize=size)\n",
    "    # create a scatter plot of the projection\n",
    "    plt.scatter(result[:, 0], result[:, 1])\n",
    "    plt.title(title)\n",
    "    for i, word in enumerate(word_list):\n",
    "        plt.annotate(word, xy=(result[i, 0], result[i, 1]))        \n",
    "    plt.show()"
   ]
  },
  {
   "cell_type": "markdown",
   "metadata": {},
   "source": [
    "### DeepWalk and Word2Vec background here {citekey}"
   ]
  },
  {
   "cell_type": "code",
   "execution_count": 90,
   "metadata": {},
   "outputs": [
    {
     "data": {
      "image/png": "[encoded data removed]",
      "text/plain": [
       "<Figure size 576x360 with 1 Axes>"
      ]
     },
     "metadata": {
      "needs_background": "light"
     },
     "output_type": "display_data"
    },
    {
     "name": "stdout",
     "output_type": "stream",
     "text": [
      "Word2Vec(vocab=6, size=100, alpha=0.03)\n",
      "Find node similarity to (3):\n"
     ]
    },
    {
     "data": {
      "text/plain": [
       "[('0', 0.1788381040096283),\n",
       " ('3', 0.012232411652803421),\n",
       " ('13', -0.010226376354694366),\n",
       " ('1', -0.03246862813830376),\n",
       " ('8', -0.0985027551651001)]"
      ]
     },
     "execution_count": 90,
     "metadata": {},
     "output_type": "execute_result"
    }
   ],
   "source": [
    "terms= ag_reduced.nodes\n",
    "plot_nodes(terms, size=(8,5), title=\"DeepWalk: word2vec node embedding of reduced_ag \")\n",
    "\n",
    "\n",
    "print(model)\n",
    "# find top n similar nodes\n",
    "print('Find node similarity to (3):')\n",
    "model.similar_by_word('5')"
   ]
  },
  {
   "cell_type": "code",
   "execution_count": 92,
   "metadata": {},
   "outputs": [
    {
     "data": {
      "image/svg+xml": [
       "<?xml version=\"1.0\" encoding=\"UTF-8\" standalone=\"no\"?>\n",
       "<!DOCTYPE svg PUBLIC \"-//W3C//DTD SVG 1.1//EN\"\n",
       " \"http://www.w3.org/Graphics/SVG/1.1/DTD/svg11.dtd\">\n",
       "<!-- Generated by graphviz version 2.40.1 (20161225.0304)\n",
       " -->\n",
       "<!-- Title: single_host_1 Pages: 1 -->\n",
       "<svg width=\"273pt\" height=\"360pt\"\n",
       " viewBox=\"0.00 0.00 273.48 360.00\" xmlns=\"http://www.w3.org/2000/svg\" xmlns:xlink=\"http://www.w3.org/1999/xlink\">\n",
       "<g id=\"graph0\" class=\"graph\" transform=\"scale(.7073 .7073) rotate(0) translate(4 505)\">\n",
       "<title>single_host_1</title>\n",
       "<polygon fill=\"#ffffff\" stroke=\"transparent\" points=\"-4,4 -4,-505 382.6684,-505 382.6684,4 -4,4\"/>\n",
       "<text text-anchor=\"middle\" x=\"189.3342\" y=\"-477.8\" font-family=\"Times,serif\" font-size=\"24.00\" fill=\"#000000\">Model: &lt;single_host_1&gt;</text>\n",
       "<text text-anchor=\"middle\" x=\"189.3342\" y=\"-451.8\" font-family=\"Times,serif\" font-size=\"24.00\" fill=\"#000000\">Reduced Attack Graph</text>\n",
       "<!-- 1 -->\n",
       "<g id=\"node1\" class=\"node\">\n",
       "<title>1</title>\n",
       "<polygon fill=\"none\" stroke=\"#0000ff\" points=\"167,-36 59.5,-18 167,0 274.5,-18 167,-36\"/>\n",
       "<text text-anchor=\"middle\" x=\"167\" y=\"-16.1\" font-family=\"Roboto\" font-size=\"8.00\" fill=\"#000000\">1:execCode(workStation,root):0</text>\n",
       "</g>\n",
       "<!-- 3 -->\n",
       "<g id=\"node2\" class=\"node\">\n",
       "<title>3</title>\n",
       "<polygon fill=\"none\" stroke=\"#0000ff\" points=\"167,-117 0,-99 167,-81 334,-99 167,-117\"/>\n",
       "<text text-anchor=\"middle\" x=\"167\" y=\"-97.1\" font-family=\"Roboto\" font-size=\"8.00\" fill=\"#000000\">3:accessFile(workStation,write,&#39;/usr/local/share&#39;):0</text>\n",
       "</g>\n",
       "<!-- 3&#45;&gt;1 -->\n",
       "<g id=\"edge1\" class=\"edge\">\n",
       "<title>3&#45;&gt;1</title>\n",
       "<path fill=\"none\" stroke=\"#000000\" d=\"M167,-80.6198C167,-70.5034 167,-57.7309 167,-46.3637\"/>\n",
       "<polygon fill=\"#000000\" stroke=\"#000000\" points=\"170.5001,-46.0284 167,-36.0284 163.5001,-46.0284 170.5001,-46.0284\"/>\n",
       "<text text-anchor=\"middle\" x=\"173\" y=\"-56.6\" font-family=\"Roboto\" font-size=\"8.00\" fill=\"#000000\">1.0</text>\n",
       "</g>\n",
       "<!-- 5 -->\n",
       "<g id=\"node3\" class=\"node\">\n",
       "<title>5</title>\n",
       "<polygon fill=\"none\" stroke=\"#0000ff\" points=\"167,-198 37,-180 167,-162 297,-180 167,-198\"/>\n",
       "<text text-anchor=\"middle\" x=\"167\" y=\"-178.1\" font-family=\"Roboto\" font-size=\"8.00\" fill=\"#000000\">5:accessFile(fileServer,write,&#39;/export&#39;):0</text>\n",
       "</g>\n",
       "<!-- 5&#45;&gt;3 -->\n",
       "<g id=\"edge2\" class=\"edge\">\n",
       "<title>5&#45;&gt;3</title>\n",
       "<path fill=\"none\" stroke=\"#000000\" d=\"M167,-161.6198C167,-151.5034 167,-138.7309 167,-127.3637\"/>\n",
       "<polygon fill=\"#000000\" stroke=\"#000000\" points=\"170.5001,-127.0284 167,-117.0284 163.5001,-127.0284 170.5001,-127.0284\"/>\n",
       "<text text-anchor=\"middle\" x=\"173\" y=\"-137.6\" font-family=\"Roboto\" font-size=\"8.00\" fill=\"#000000\">0.2</text>\n",
       "</g>\n",
       "<!-- 8 -->\n",
       "<g id=\"node4\" class=\"node\">\n",
       "<title>8</title>\n",
       "<polygon fill=\"none\" stroke=\"#0000ff\" points=\"280,-279 181.163,-261 280,-243 378.837,-261 280,-279\"/>\n",
       "<text text-anchor=\"middle\" x=\"280\" y=\"-259.1\" font-family=\"Roboto\" font-size=\"8.00\" fill=\"#000000\">8:execCode(fileServer,root):0</text>\n",
       "</g>\n",
       "<!-- 8&#45;&gt;5 -->\n",
       "<g id=\"edge3\" class=\"edge\">\n",
       "<title>8&#45;&gt;5</title>\n",
       "<path fill=\"none\" stroke=\"#000000\" d=\"M259.7979,-246.5188C242.134,-233.8571 216.2618,-215.3115 196.32,-201.017\"/>\n",
       "<polygon fill=\"#000000\" stroke=\"#000000\" points=\"198.3445,-198.1619 188.1778,-195.1805 194.2663,-203.8512 198.3445,-198.1619\"/>\n",
       "<text text-anchor=\"middle\" x=\"232\" y=\"-218.6\" font-family=\"Roboto\" font-size=\"8.00\" fill=\"#000000\">1.0</text>\n",
       "</g>\n",
       "<!-- 13 -->\n",
       "<g id=\"node5\" class=\"node\">\n",
       "<title>13</title>\n",
       "<polygon fill=\"none\" stroke=\"#0000ff\" points=\"167,-360 52.0756,-342 167,-324 281.9244,-342 167,-360\"/>\n",
       "<text text-anchor=\"middle\" x=\"167\" y=\"-340.1\" font-family=\"Roboto\" font-size=\"8.00\" fill=\"#000000\">13:execCode(webServer,apache):0</text>\n",
       "</g>\n",
       "<!-- 13&#45;&gt;5 -->\n",
       "<g id=\"edge4\" class=\"edge\">\n",
       "<title>13&#45;&gt;5</title>\n",
       "<path fill=\"none\" stroke=\"#000000\" d=\"M164.4801,-324.1213C162.8369,-311.5341 160.8459,-294.2733 160,-279 159.1152,-263.0245 159.1152,-258.9755 160,-243 160.6344,-231.545 161.913,-218.9721 163.2058,-208.0913\"/>\n",
       "<polygon fill=\"#000000\" stroke=\"#000000\" points=\"166.715,-208.2352 164.4801,-197.8787 159.7688,-207.3684 166.715,-208.2352\"/>\n",
       "<text text-anchor=\"middle\" x=\"166\" y=\"-259.1\" font-family=\"Roboto\" font-size=\"8.00\" fill=\"#000000\">1.0</text>\n",
       "</g>\n",
       "<!-- 13&#45;&gt;8 -->\n",
       "<g id=\"edge5\" class=\"edge\">\n",
       "<title>13&#45;&gt;8</title>\n",
       "<path fill=\"none\" stroke=\"#000000\" d=\"M187.7259,-327.1434C205.5975,-314.3327 231.5814,-295.7071 251.4255,-281.4826\"/>\n",
       "<polygon fill=\"#000000\" stroke=\"#000000\" points=\"253.6971,-284.1606 259.7856,-275.4899 249.6189,-278.4713 253.6971,-284.1606\"/>\n",
       "<text text-anchor=\"middle\" x=\"232\" y=\"-299.6\" font-family=\"Roboto\" font-size=\"8.00\" fill=\"#000000\">1.0</text>\n",
       "</g>\n",
       "<!-- 0 -->\n",
       "<g id=\"node6\" class=\"node\">\n",
       "<title>0</title>\n",
       "<polygon fill=\"none\" stroke=\"#000000\" points=\"167,-405 194,-432 140,-432 167,-405\"/>\n",
       "<text text-anchor=\"middle\" x=\"167\" y=\"-421.1\" font-family=\"Roboto\" font-size=\"8.00\" fill=\"#000000\">0</text>\n",
       "</g>\n",
       "<!-- 0&#45;&gt;13 -->\n",
       "<g id=\"edge6\" class=\"edge\">\n",
       "<title>0&#45;&gt;13</title>\n",
       "<path fill=\"none\" stroke=\"#000000\" d=\"M167,-404.6198C167,-394.5034 167,-381.7309 167,-370.3637\"/>\n",
       "<polygon fill=\"#000000\" stroke=\"#000000\" points=\"170.5001,-370.0284 167,-360.0284 163.5001,-370.0284 170.5001,-370.0284\"/>\n",
       "<text text-anchor=\"middle\" x=\"173\" y=\"-380.6\" font-family=\"Roboto\" font-size=\"8.00\" fill=\"#000000\">0.2</text>\n",
       "</g>\n",
       "</g>\n",
       "</svg>\n"
      ],
      "text/plain": [
       "<graphviz.files.Source at 0x7ff57d0f3e10>"
      ]
     },
     "metadata": {},
     "output_type": "display_data"
    }
   ],
   "source": [
    "\n",
    "import IPython.display\n",
    "display(plot_dot(ag_reduced, \"Model: <{}>\\nReduced Attack Graph\".format(ag_reduced.name)))"
   ]
  },
  {
   "cell_type": "code",
   "execution_count": null,
   "metadata": {},
   "outputs": [],
   "source": []
  },
  {
   "cell_type": "code",
   "execution_count": null,
   "metadata": {},
   "outputs": [],
   "source": []
  },
  {
   "cell_type": "markdown",
   "metadata": {},
   "source": [
    "### StellarGraph loading (more impls)"
   ]
  },
  {
   "cell_type": "code",
   "execution_count": 96,
   "metadata": {},
   "outputs": [],
   "source": [
    "import stellargraph as sg\n",
    "\n",
    "try:\n",
    "    sg.utils.validate_notebook_version(\"1.0.0rc2\")\n",
    "except AttributeError:\n",
    "    raise ValueError(\n",
    "        f\"This notebook requires StellarGraph version 1.0.0rc2, but a different version {sg.__version__} is installed.  Please see <https://github.com/stellargraph/stellargraph/issues/1172>.\"\n",
    "    ) from None\n",
    "\n",
    "from stellargraph import StellarGraph"
   ]
  },
  {
   "cell_type": "code",
   "execution_count": 99,
   "metadata": {},
   "outputs": [],
   "source": [
    "def compute_features(g):\n",
    "    \"\"\"Manually add features vectors to a nx graph\"\"\"\n",
    "    for node in g.nodes().keys():\n",
    "#         print(g.nodes[node].keys())\n",
    "        if 'mttf'in g.nodes[node].keys():\n",
    "            g.nodes[node][\"feature\"] = [float(g.nodes[node]['mttf'])]\n",
    "    for u,v,k,e in g.edges(keys=True, data=True):\n",
    "#         print(e.keys())\n",
    "        e[\"feature\"] = [float(e['weight']),float(e['score']), float(e['score_orig'])]\n",
    "\n",
    "\n",
    "\n"
   ]
  },
  {
   "cell_type": "code",
   "execution_count": 101,
   "metadata": {},
   "outputs": [
    {
     "name": "stdout",
     "output_type": "stream",
     "text": [
      "StellarDiGraph: Directed multigraph\n",
      " Nodes: 6, Edges: 6\n",
      "\n",
      " Node types:\n",
      "  OR: [5]\n",
      "    Features: float32 vector, length 1\n",
      "    Edge types: OR-0.2->OR, OR-1.0->OR\n",
      "  attacker_origin: [1]\n",
      "    Features: float32 vector, length 1\n",
      "    Edge types: attacker_origin-0.2->OR\n",
      "\n",
      " Edge types:\n",
      "    OR-1.0->OR: [4]\n",
      "        Weights: all 1 (default)\n",
      "    attacker_origin-0.2->OR: [1]\n",
      "        Weights: all 0.2\n",
      "    OR-0.2->OR: [1]\n",
      "        Weights: all 0.2\n"
     ]
    }
   ],
   "source": [
    " \n",
    "sg_ag = StellarGraph.from_n etworkx(ag, node_type_attr=\"type\")\n",
    "# print(sg_ag.info())\n",
    "\n",
    "compute_features(ag_reduced) # add feature vectors to graph before sg load\n",
    "# print(ag_reduced.to_dots())\n",
    "sg_ag_reduced = StellarGraph.from_networkx(ag_reduced, node_type_attr=\"type\", node_features=\"feature\")\n",
    "print(sg_ag_reduced.info())\n"
   ]
  },
  {
   "cell_type": "code",
   "execution_count": 102,
   "metadata": {},
   "outputs": [
    {
     "name": "stdout",
     "output_type": "stream",
     "text": [
      "StellarDiGraph: Directed multigraph\n",
      " Nodes: 4, Edges: 13\n",
      "\n",
      " Node types:\n",
      "  HOST: [4]\n",
      "    Features: none\n",
      "    Edge types: HOST-default->HOST\n",
      "\n",
      " Edge types:\n",
      "    HOST-default->HOST: [13]\n",
      "        Weights: all 1 (default)\n"
     ]
    }
   ],
   "source": [
    "\n",
    "sg_fg = StellarGraph.from_networkx(fg, node_type_attr=\"type\")\n",
    "print(sg_fg.info())"
   ]
  },
  {
   "cell_type": "code",
   "execution_count": null,
   "metadata": {},
   "outputs": [],
   "source": []
  },
  {
   "cell_type": "code",
   "execution_count": 112,
   "metadata": {},
   "outputs": [
    {
     "name": "stdout",
     "output_type": "stream",
     "text": [
      "[('webServer', {'color': 'blue', 's': 's', 'shape': 'box', 'type': 'HOST'}), ('fileServer', {'color': 'blue', 's': 's', 'shape': 'box', 'type': 'HOST'}), ('internet', {'color': 'blue', 's': 's', 'shape': 'box', 'type': 'HOST'}), ('workStation', {'color': 'blue', 's': 's', 'shape': 'box', 'type': 'HOST'})]\n"
     ]
    }
   ],
   "source": [
    "print(fg.nodes(data=True))"
   ]
  },
  {
   "cell_type": "code",
   "execution_count": null,
   "metadata": {},
   "outputs": [],
   "source": []
  },
  {
   "cell_type": "code",
   "execution_count": null,
   "metadata": {},
   "outputs": [],
   "source": []
  },
  {
   "cell_type": "code",
   "execution_count": null,
   "metadata": {},
   "outputs": [],
   "source": []
  },
  {
   "cell_type": "code",
   "execution_count": null,
   "metadata": {},
   "outputs": [],
   "source": []
  },
  {
   "cell_type": "code",
   "execution_count": null,
   "metadata": {},
   "outputs": [],
   "source": []
  },
  {
   "cell_type": "code",
   "execution_count": null,
   "metadata": {},
   "outputs": [],
   "source": []
  },
  {
   "cell_type": "code",
   "execution_count": null,
   "metadata": {},
   "outputs": [],
   "source": []
  },
  {
   "cell_type": "markdown",
   "metadata": {},
   "source": [
    "## Conclusion"
   ]
  },
  {
   "cell_type": "code",
   "execution_count": null,
   "metadata": {},
   "outputs": [],
   "source": []
  },
  {
   "cell_type": "code",
   "execution_count": null,
   "metadata": {},
   "outputs": [],
   "source": []
  },
  {
   "cell_type": "code",
   "execution_count": null,
   "metadata": {},
   "outputs": [],
   "source": []
  },
  {
   "cell_type": "code",
   "execution_count": null,
   "metadata": {},
   "outputs": [],
   "source": []
  },
  {
   "cell_type": "code",
   "execution_count": null,
   "metadata": {},
   "outputs": [],
   "source": []
  },
  {
   "cell_type": "code",
   "execution_count": null,
   "metadata": {},
   "outputs": [],
   "source": []
  }
 ],
 "metadata": {
  "kernelspec": {
   "display_name": "Python 3",
   "language": "python",
   "name": "python3"
  },
  "language_info": {
   "codemirror_mode": {
    "name": "ipython",
    "version": 3
   },
   "file_extension": ".py",
   "mimetype": "text/x-python",
   "name": "python",
   "nbconvert_exporter": "python",
   "pygments_lexer": "ipython3",
   "version": "3.6.8"
  }
 },
 "nbformat": 4,
 "nbformat_minor": 4
}
