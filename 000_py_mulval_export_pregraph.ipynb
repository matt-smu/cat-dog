{
 "cells": [
  {
   "cell_type": "markdown",
   "metadata": {
    "toc-hr-collapsed": false
   },
   "source": [
    "# Title: py_mulval export pregraph\n",
    "### Purpose: Show how to load an XSB fact file and dump a netgraph (not attack graph)\n",
    "### Author: @mjz"
   ]
  },
  {
   "cell_type": "markdown",
   "metadata": {},
   "source": []
  },
  {
   "cell_type": "markdown",
   "metadata": {},
   "source": [
    "## Global imports and setup here"
   ]
  },
  {
   "cell_type": "code",
   "execution_count": 1,
   "metadata": {},
   "outputs": [
    {
     "data": {
      "text/plain": [
       "['/opt/projects/diss/jupyter_nbs/py36/lib/python3.6/site-packages/ipykernel_launcher.py']"
      ]
     },
     "execution_count": 1,
     "metadata": {},
     "output_type": "execute_result"
    }
   ],
   "source": [
    "\n",
    "import logging\n",
    "import os\n",
    "import sys\n",
    "import uuid\n",
    "import pathlib\n",
    "\n",
    "py_mulval_path = r'/opt/projects/diss/py-mulval/src'\n",
    "sys.path.append(py_mulval_path)\n",
    "\n",
    "# Just importing for their flags right now\n",
    "import py_mulval.py_mulval as py_mulval\n",
    "import py_mulval.boromir as boromir\n",
    "import py_mulval.log_util as log_util\n",
    "import py_mulval.mulpy as mulpy\n",
    "import py_mulval.metrics as secmet\n",
    "import py_mulval.attack_graph as attack_graph\n",
    "\n",
    "from py_mulval import flags\n",
    "FLAGS = flags.FLAGS\n",
    "FLAGS([sys.argv[0]]) # dont expect cli args from jupyter"
   ]
  },
  {
   "cell_type": "code",
   "execution_count": 2,
   "metadata": {
    "scrolled": true
   },
   "outputs": [
    {
     "name": "stdout",
     "output_type": "stream",
     "text": [
      "--noonly_check_args\n",
      "--nopdb_post_mortem\n",
      "--norun_with_pdb\n",
      "--norun_with_profiling\n",
      "--use_cprofile_for_profiling\n",
      "--noalsologtostderr\n",
      "--log_dir=\n",
      "--nologtostderr\n",
      "--showprefixforinfo\n",
      "--stderrthreshold=fatal\n",
      "--verbosity=-1\n",
      "--num_benchmark_copies=1\n",
      "--benchmark_compatibility_checking=strict\n",
      "--cloud=GCP\n",
      "--after_prepare_sleep_time=0\n",
      "--after_run_sleep_time=0\n",
      "--nobefore_cleanup_pause\n",
      "--benchmarks=standard_set\n",
      "--noboot_samples\n",
      "--boromir_run_count=1\n",
      "--nocreate_failed_run_samples\n",
      "--nocreate_started_run_sample\n",
      "--nodisable_interrupt_moderation\n",
      "--nodisable_rss\n",
      "--nodry_run\n",
      "--extra_zones=\n",
      "--failed_run_samples_error_length=10240\n",
      "--file_log_level=debug\n",
      "--ftp_proxy=\n",
      "--helpmatch=\n",
      "--helpmatchmd=\n",
      "--http_proxy=\n",
      "--https_proxy=\n",
      "--noignore_package_requirements\n",
      "--nolog_dmesg\n",
      "--log_level=info\n",
      "--num_vms=1\n",
      "--owner=toor\n",
      "--persistent_timeout_minutes=240\n",
      "--nopublish_after_run\n",
      "--norandomize_run_order\n",
      "--record_lscpu\n",
      "--record_proccpu\n",
      "--run_stage_iterations=1\n",
      "--run_stage_retries=0\n",
      "--run_stage_time=0\n",
      "--ssh_options=\n",
      "--nostop_after_benchmark_failure\n",
      "--notime_commands\n",
      "--timeout_minutes=240\n",
      "--nouse_ipv6\n",
      "--use_pkb_logging\n",
      "--nouse_vpn\n",
      "--noversion\n",
      "\n",
      "--zones=\n",
      "--data_search_paths=.\n",
      "--nosecmet_plot_intermediate_graphs\n",
      "--nosecmet_random_cvss_score\n",
      "--os_type=ubuntu1604\n",
      "--additional_gcloud_flags=\n",
      "--nogce_firewall_rules_clean_all\n",
      "--gce_migrate_on_maintenance\n",
      "--gce_network_tier=premium\n",
      "--gce_num_local_ssds=0\n",
      "--nogce_preemptible_vms\n",
      "--nogce_shielded_secure_boot\n",
      "--gce_ssd_interface=SCSI\n",
      "--gce_subnet_addr=10.128.0.0/20\n",
      "--gcloud_path=gcloud\n",
      "\n",
      "\n",
      "\n",
      "--nogcp_internal_ip\n",
      "--gcp_redis_gb=5\n",
      "--gcp_retry_on_rate_limited\n",
      "--nogke_enable_alpha\n",
      "--bq_path=bq\n",
      "--collapse_labels\n",
      "--es_index=perfkit\n",
      "--es_type=result\n",
      "--gsutil_path=gsutil\n",
      "--nohostname_metadata\n",
      "--influx_db_name=perfkit\n",
      "--json_write_mode=w\n",
      "\n",
      "--noofficial\n",
      "--product_name=py_mulval\n",
      "--arclabel\n",
      "--cvss\n",
      "--ma\n",
      "--nometric\n",
      "--reverse\n",
      "--sat\n",
      "--satgui\n",
      "--simple\n",
      "--trace=completeTrace2\n",
      "--trim\n",
      "--trimdom\n",
      "--visualize\n",
      "--write_csv\n",
      "--run_stage=provision,prepare,run,cleanup,teardown\n",
      "--temp_dir=/tmp/mulpy\n",
      "--timing_measurements=end_to_end_runtime\n",
      "--background_network_ip_type=EXTERNAL\n",
      "--burn_cpu_seconds=0\n",
      "--burn_cpu_threads=1\n",
      "--default_timeout=1200\n",
      "--ip_addresses=REACHABLE\n",
      "--nosimulate_maintenance\n",
      "--simulate_maintenance_delay=0\n",
      "--ssh_connect_timeout=5\n",
      "--ssh_control_persist=30m\n",
      "--ssh_reuse_connections\n",
      "--ssh_server_alive_count_max=10\n",
      "--ssh_server_alive_interval=30\n",
      "\n"
     ]
    }
   ],
   "source": [
    "print(FLAGS.flags_into_string())"
   ]
  },
  {
   "cell_type": "markdown",
   "metadata": {},
   "source": [
    "The MulVal wrapper we developed preserves the same flags as the original and adds some new features too."
   ]
  },
  {
   "cell_type": "markdown",
   "metadata": {},
   "source": [
    "## MulVal instrumented example end-2-end\n",
    "\n",
    "`run.py` simply calls `mulpy.py` Main() method here and forwards flags. "
   ]
  },
  {
   "cell_type": "code",
   "execution_count": 3,
   "metadata": {
    "scrolled": true
   },
   "outputs": [
    {
     "name": "stdout",
     "output_type": "stream",
     "text": [
      "@@@@@@@@@@@@@@Done transforming in mode dynamic_decl\n",
      "\n",
      "@@@@@@@@@@@@@@Done transforming in mode completeTrace2\n",
      "\n",
      "@@@@@@@@@@@@@@Done transforming in mode completeTrace2\n",
      "\n",
      "@@@@@@@@@@@@@@Done transforming in mode stripExplanation\n",
      "\n",
      "Running attack simulation...\n",
      "/opt/projects/diss/mulval/mulval\n",
      "Producing attack graph through GraphViz\n",
      "MULVAL_HOME is:  /opt/projects/diss/mulval/mulval\n",
      "MULVALROOT is:  /opt/projects/diss/mulval/mulval\n",
      "If successfully produced, the attack graph should be in AttackGraph.pdf\n"
     ]
    },
    {
     "name": "stderr",
     "output_type": "stream",
     "text": [
      "2020-04-29 11:59:38,394 [MainThread  ] [INFO ] Basic Logging configured.\n",
      "2020-04-29 11:59:38,395 [MainThread  ] [DEBUG] Parsed command line flags: single_host_1.P\n",
      "2020-04-29 11:59:38,395 [MainThread  ] [INFO ] Setting up Mulpy environment...\n",
      "2020-04-29 11:59:38,395 [MainThread  ] [INFO ] Run ID initialized: 24090b91\n",
      "2020-04-29 11:59:38,395 [MainThread  ] [INFO ] Base directory set to: /tmp/mulpy/runs/24090b91\n",
      "2020-04-29 11:59:38,395 24090b91 MainThread INFO     Verbose logging to: /tmp/mulpy/runs/24090b91/cat-dog.log\n",
      "2020-04-29 11:59:38,396 24090b91 MainThread INFO     running command line: /opt/projects/diss/py-mulval/src/run.py --input_file=single_host_1.P -r local_exploit_rules.P --models_dir=/opt/projects/diss/py-mulval/data/models --rules_dir=/opt/projects/diss/py-mulval/data/rules --data_dir=/opt/projects/diss/py-mulval/data\n",
      "2020-04-29 11:59:38,396 24090b91 MainThread INFO     Models directory set to: /opt/projects/diss/py-mulval/data/models\n",
      "2020-04-29 11:59:38,396 24090b91 MainThread INFO     Output directory set to: /tmp/mulpy/runs/24090b91/output\n",
      "2020-04-29 11:59:38,396 24090b91 MainThread DEBUG    creating input file: /tmp/mulpy/runs/24090b91/single_host_1.P\n",
      "2020-04-29 11:59:38,396 24090b91 MainThread DEBUG    creating input file: /tmp/mulpy/runs/24090b91/single_host_1.P\n",
      "2020-04-29 11:59:38,396 24090b91 MainThread INFO     writing rule files to working directory /tmp/mulpy/runs/24090b91...\n",
      "2020-04-29 11:59:38,396 24090b91 MainThread DEBUG    rulefiles to write from: ['/opt/projects/diss/py-mulval/data/rules/local_exploit_rules.P'] \n",
      "2020-04-29 11:59:38,396 24090b91 MainThread DEBUG    rule files: ['/opt/projects/diss/mulval/mulval/kb/interaction_rules.P', '/opt/projects/diss/py-mulval/data/rules/local_exploit_rules.P']\n",
      "2020-04-29 11:59:38,396 24090b91 MainThread DEBUG    additional rule files: []\n",
      "2020-04-29 11:59:38,396 24090b91 MainThread INFO     writing environment file /tmp/mulpy/runs/24090b91/environment.P...\n",
      "2020-04-29 11:59:38,400 24090b91 MainThread DEBUG    locals: {'tm': <Template memory:7fcdd0e56f98>, 'rulefiles': ['/opt/projects/diss/py-mulval/data/rules/local_exploit_rules.P'], '_goal': None, '_cvss': False, '_no_trim_rules': '/opt/projects/diss/mulval/mulval/src/analyzer/advances_notrim.P', '_trim_rules': '/opt/projects/diss/mulval/mulval/src/analyzer/advances_trim.P', '_trim': False, '_dynamic_file': None, '_tracemode': 'completeTrace2', '_type': None, '_MULVALROOT': '/opt/projects/diss/mulval/mulval', '_input_file': 'single_host_1.P', 'kwargs': {}, 'args': (), 'self': <py_mulval.py_mulval.graph_gen object at 0x7fcdd0e56fd0>}\n",
      "2020-04-29 11:59:38,400 24090b91 MainThread INFO     writing run file /tmp/mulpy/runs/24090b91/run.P...\n",
      "2020-04-29 11:59:38,401 24090b91 MainThread INFO     running mulval in xsb...\n",
      "[xsb_configuration loaded, cpu time used: 0.0010 seconds]\n",
      "[sysinitrc loaded]\n",
      "[xsbbrat loaded]\n",
      "2020-04-29 11:59:38,413 24090b91 MainThread INFO     [XSBFunctor(name=ret, module=None, args=[XSBAtom(name=/tmp/mulpy/runs/24090b91)])]\n",
      "[Compiling ./environment]\n",
      "[environment compiled, cpu time used: 0.0070 seconds]\n",
      "[environment loaded]\n",
      "[libmulval loaded]\n",
      "[translate loaded]\n",
      "[attack_trace loaded]\n",
      "[auxiliary loaded]\n",
      "[/tmp/mulpy/runs/24090b91/running_rules.P dynamically loaded, cpu time used: 0.0030 seconds]\n",
      "[/tmp/mulpy/runs/24090b91/single_host_1.P dynamically loaded, cpu time used: 0.0010 seconds]\n",
      "[/opt/projects/diss/mulval/mulval/src/analyzer/advances_notrim.P dynamically loaded, cpu time used: 0.0000 seconds]\n",
      "[Compiling ./run]\n",
      "[run compiled, cpu time used: 0.0010 seconds]\n",
      "[run loaded]\n",
      "[libmulval loaded]\n",
      "[translate loaded]\n",
      "[attack_trace loaded]\n",
      "[auxiliary loaded]\n",
      "[/tmp/mulpy/runs/24090b91/running_rules.P dynamically loaded, cpu time used: 0.0030 seconds]\n",
      "[/tmp/mulpy/runs/24090b91/single_host_1.P dynamically loaded, cpu time used: 0.0010 seconds]\n",
      "[/opt/projects/diss/mulval/mulval/src/analyzer/advances_notrim.P dynamically loaded, cpu time used: 0.0000 seconds]\n",
      "[/tmp/mulpy/runs/24090b91/dynamic_decl.gen dynamically loaded, cpu time used: 0.0010 seconds]\n"
     ]
    }
   ],
   "source": [
    "%%bash\n",
    "/opt/projects/diss/py-mulval/src/run.py --input_file=single_host_1.P -r local_exploit_rules.P --models_dir=/opt/projects/diss/py-mulval/data/models --rules_dir=/opt/projects/diss/py-mulval/data/rules --data_dir=/opt/projects/diss/py-mulval/data"
   ]
  },
  {
   "cell_type": "markdown",
   "metadata": {
    "toc-hr-collapsed": false
   },
   "source": [
    "## py_mulval constants and setup here\n",
    "\n",
    "these are passed as flags in the library, but we set them here for the notebook env"
   ]
  },
  {
   "cell_type": "code",
   "execution_count": 4,
   "metadata": {},
   "outputs": [],
   "source": [
    "SEP = os.path.sep\n",
    "# needed if pyxsb can't find xsb\n",
    "XSB_ARCH_DIR = '/opt/apps/xsb/XSB/config/x86_64-unknown-linux-gnu'\n",
    "# MulVal Install Files\n",
    "MULVALROOT = '/opt/mulval'\n",
    "MULVALROOT = '/opt/projects/diss/mulval/mulval'\n",
    "INTERACTIONRULES = SEP.join((MULVALROOT, 'kb/interaction_rules.P'))\n",
    "INTERACTIONRULES_CVSS = SEP.join(\n",
    "    (MULVALROOT, 'kb/interaction_rules_with_metrics.P'))\n",
    "RULES_WITH_METRIC_ARTIFACTS = SEP.join(\n",
    "    (MULVALROOT, 'kb/interaction_rules_with_metric_artifacts.P'))\n",
    "ATTACK_GRAPH_BIN = SEP.join((MULVALROOT, \"bin/attack_graph\"))\n",
    "RUNNING_RULES_NAME = 'running_rules.P'\n",
    "ENV_FILE_NAME = 'environment.P'\n",
    "RUN_FILE_NAME = 'run.P'\n",
    "INPUT_FILE = 'single_host_1.P'\n",
    "MODELS_DIR = '/opt/projects/diss/py-mulval/data/models'\n",
    "RULES_DIR = '/opt/projects/diss/py-mulval/data/rules'\n",
    "\n",
    "\n",
    "if not FLAGS.rule: FLAGS['rule'].parse('local_exploit_rules.P')\n",
    "FLAGS['input_file'].parse(INPUT_FILE)\n",
    "FLAGS['models_dir'].parse(MODELS_DIR)\n",
    "FLAGS['rules_dir'].parse(RULES_DIR)\n",
    "# FLAGS['rule'].parse(RULES_DIR)\n",
    "\n",
    "\n",
    "def writeFile(file_name, file_text, mode='w+'):\n",
    "  \"\"\"\n",
    "  w  write mode\n",
    "  r  read mode\n",
    "  a  append mode\n",
    "  w+  create file if it doesn't exist and open it in (over)write mode\n",
    "      [it overwrites the file if it already exists]\n",
    "  r+  open an existing file in read+write mode\n",
    "  a+  create file if it doesn't exist and open it in append mode\n",
    "  \"\"\"\n",
    "  with open(file_name, mode) as file:\n",
    "    file.write(file_text)\n",
    "\n",
    "def _SetModelsDir():\n",
    "  if not FLAGS.models_dir:\n",
    "    FLAGS.models_dir = SEP.join((FLAGS.base_dir, 'models'))\n",
    "  logging.info('Models directory set to: {}'.format(FLAGS.models_dir))\n",
    "  if not pathlib.Path(FLAGS.models_dir).exists():\n",
    "    pathlib.Path(FLAGS.models_dir).mkdir(parents=True, exist_ok=True)\n",
    "\n",
    "def _SetOutputDir():\n",
    "  if not FLAGS.output_dir:\n",
    "    FLAGS.output_dir = SEP.join((FLAGS.base_dir, 'output'))\n",
    "  logging.info('Output directory set to: {}'.format(FLAGS.output_dir))\n",
    "  if not pathlib.Path(FLAGS.output_dir).exists():\n",
    "    pathlib.Path(FLAGS.output_dir).mkdir(parents=True, exist_ok=True)\n",
    "\n",
    "def SetupMulpy():\n",
    "  log_util.ConfigureBasicLogging()\n",
    "  logging.info('Setting up Mulpy environment...')\n",
    "  if not FLAGS.run_uri: \n",
    "        FLAGS.run_uri = str(uuid.uuid4())[-8:]\n",
    "  if not FLAGS.base_dir:\n",
    "    FLAGS.base_dir = SEP.join(('/tmp', 'mulpy', 'runs', FLAGS.run_uri))\n",
    "#   FLAGS.base_dir = SEP.join((FLAGS.base_dir, FLAGS.run_uri))\n",
    "  logging.info('Base directory set to: {}'.format(FLAGS.base_dir))\n",
    "  if not pathlib.Path(FLAGS.base_dir).exists():\n",
    "    pathlib.Path(FLAGS.base_dir).mkdir(parents=True, exist_ok=True)\n",
    "\n",
    "  # setup logging once we have a run_uri and base dir\n",
    "  log_util.ConfigureLogging(logging.DEBUG,\n",
    "                            SEP.join((FLAGS.base_dir, 'cat-dog.log')),\n",
    "                            FLAGS.run_uri)\n",
    "  # try to get cli into main log... not always trustworthy\n",
    "  logging.info('running command line: %s' % ' '.join(sys.argv))\n",
    "  \n",
    "\n",
    "  _SetModelsDir()\n",
    "  # _SetRulesDir() # if no rules_dir just use default set\n",
    "  _SetOutputDir()\n",
    "  # Copy model or example into base_dir\n",
    "  if pathlib.Path(SEP.join((FLAGS.models_dir, FLAGS.input_file))).exists():\n",
    "    input_p = pathlib.Path(\n",
    "      SEP.join((FLAGS.models_dir, FLAGS.input_file))).read_text()\n",
    "  else:\n",
    "    input_p = \"\"\"attackerLocated(internet).\n",
    "  attackGoal(execCode(workStation,_)).\n",
    "\n",
    "  hacl(internet, webServer, tcp, 80).\n",
    "  hacl(webServer, _,  _, _).\n",
    "  hacl(fileServer, _, _, _).\n",
    "  hacl(workStation, _, _, _).\n",
    "  hacl(H,H,_,_).\n",
    "\n",
    "  /* configuration information of fileServer */\n",
    "  networkServiceInfo(fileServer, mountd, rpc, 100005, root).\n",
    "  nfsExportInfo(fileServer, '/export', _anyAccess, workStation).\n",
    "  nfsExportInfo(fileServer, '/export', _anyAccess, webServer).\n",
    "  vulExists(fileServer, vulID, mountd).\n",
    "  vulProperty(vulID, remoteExploit, privEscalation).\n",
    "  localFileProtection(fileServer, root, _, _).\n",
    "\n",
    "  /* configuration information of webServer */\n",
    "  vulExists(webServer, 'CAN-2002-0392', httpd).\n",
    "  vulProperty('CAN-2002-0392', remoteExploit, privEscalation).\n",
    "  networkServiceInfo(webServer , httpd, tcp , 80 , apache).\n",
    "\n",
    "  /* configuration information of workStation */\n",
    "  nfsMounted(workStation, '/usr/local/share', fileServer, '/export', read).\n",
    "  \"\"\"\n",
    "  # write input file to working directory if it doesn't exist\n",
    "  outfile = SEP.join((FLAGS.base_dir, FLAGS.input_file))\n",
    "  logging.debug(('creating input file: %s') % outfile)\n",
    "  if not pathlib.Path(outfile).exists():\n",
    "    with open(outfile, 'w+') as file:\n",
    "      file.write(input_p)\n",
    "    logging.debug(('creating input file: %s') % outfile)\n"
   ]
  },
  {
   "cell_type": "markdown",
   "metadata": {},
   "source": [
    "## Step by step"
   ]
  },
  {
   "cell_type": "code",
   "execution_count": 5,
   "metadata": {},
   "outputs": [
    {
     "name": "stderr",
     "output_type": "stream",
     "text": [
      "2020-04-29 11:59:38,775 [MainThread  ] [INFO ] Setting up Mulpy environment...\n",
      "2020-04-29 11:59:38,776 [MainThread  ] [INFO ] Base directory set to: /tmp/mulpy/runs/d82049aa\n",
      "2020-04-29 11:59:38,777 d82049aa MainThread INFO     Verbose logging to: /tmp/mulpy/runs/d82049aa/cat-dog.log\n",
      "2020-04-29 11:59:38,779 d82049aa MainThread INFO     running command line: /opt/projects/diss/jupyter_nbs/py36/lib/python3.6/site-packages/ipykernel_launcher.py -f /home/toor/.local/share/jupyter/runtime/kernel-0691037b-1181-41bc-a63d-5c7cfe0f6b77.json\n",
      "2020-04-29 11:59:38,779 d82049aa MainThread INFO     Models directory set to: /opt/projects/diss/py-mulval/data/models\n",
      "2020-04-29 11:59:38,780 d82049aa MainThread INFO     Output directory set to: /tmp/mulpy/runs/d82049aa/output\n",
      "2020-04-29 11:59:38,781 d82049aa MainThread DEBUG    creating input file: /tmp/mulpy/runs/d82049aa/single_host_1.P\n",
      "2020-04-29 11:59:38,781 d82049aa MainThread DEBUG    creating input file: /tmp/mulpy/runs/d82049aa/single_host_1.P\n",
      "2020-04-29 11:59:38,782 d82049aa MainThread INFO     writing rule files to working directory /tmp/mulpy/runs/d82049aa...\n",
      "2020-04-29 11:59:38,782 d82049aa MainThread DEBUG    rulefiles to write from: ['/opt/projects/diss/py-mulval/data/rules/local_exploit_rules.P'] \n",
      "2020-04-29 11:59:38,783 d82049aa MainThread DEBUG    rule files: ['/opt/projects/diss/mulval/mulval/kb/interaction_rules.P', '/opt/projects/diss/py-mulval/data/rules/local_exploit_rules.P']\n",
      "2020-04-29 11:59:38,783 d82049aa MainThread DEBUG    additional rule files: []\n",
      "2020-04-29 11:59:38,784 d82049aa MainThread INFO     writing environment file /tmp/mulpy/runs/d82049aa/environment.P...\n",
      "2020-04-29 11:59:38,789 d82049aa MainThread DEBUG    locals: {'tm': <Template memory:7fd97c12d9b0>, 'rulefiles': ['/opt/projects/diss/py-mulval/data/rules/local_exploit_rules.P'], '_goal': None, '_cvss': False, '_no_trim_rules': '/opt/projects/diss/mulval/mulval/src/analyzer/advances_notrim.P', '_trim_rules': '/opt/projects/diss/mulval/mulval/src/analyzer/advances_trim.P', '_trim': False, '_dynamic_file': None, '_tracemode': 'completeTrace2', '_type': None, '_MULVALROOT': '/opt/projects/diss/mulval/mulval', '_input_file': 'single_host_1.P', 'kwargs': {}, 'args': (), 'self': <py_mulval.py_mulval.graph_gen object at 0x7fd913802d30>}\n",
      "2020-04-29 11:59:38,790 d82049aa MainThread INFO     writing run file /tmp/mulpy/runs/d82049aa/run.P...\n",
      "2020-04-29 11:59:38,791 d82049aa MainThread INFO     running mulval in xsb...\n",
      "2020-04-29 11:59:38,806 d82049aa MainThread INFO     [XSBFunctor(name=ret, module=None, args=[XSBAtom(name=/tmp/mulpy/runs/d82049aa)])]\n"
     ]
    }
   ],
   "source": [
    "# FLAGS([sys.argv[0]]) # dont expect cli args from jupyter\n",
    "\n",
    "\n",
    "SetupMulpy()\n",
    "\n",
    "\n",
    "# MulVal needs an input file. Other oprions available...\n",
    "mulval_args = {}\n",
    "\n",
    "#####\n",
    "## graph_gen.sh is the entrypoint to the original MulVal. Here we can pass the same flags MulVal shell controller accepted\n",
    "####\n",
    "\n",
    "gg = py_mulval.graph_gen(**mulval_args)\n",
    "gg.graph_gen()\n",
    "\n"
   ]
  },
  {
   "cell_type": "code",
   "execution_count": 12,
   "metadata": {},
   "outputs": [
    {
     "data": {
      "text/plain": [
       "'/tmp/mulpy/runs/3b889344'"
      ]
     },
     "execution_count": 12,
     "metadata": {},
     "output_type": "execute_result"
    }
   ],
   "source": [
    "FLAGS.base_dir\n",
    "# FLAGS.rules_dir\n",
    "# FLAGS.input_file\n",
    "# FLAGS.models_dir\n",
    "# FLAGS.rule"
   ]
  },
  {
   "cell_type": "code",
   "execution_count": null,
   "metadata": {},
   "outputs": [],
   "source": []
  },
  {
   "cell_type": "code",
   "execution_count": null,
   "metadata": {},
   "outputs": [],
   "source": []
  },
  {
   "cell_type": "code",
   "execution_count": null,
   "metadata": {},
   "outputs": [],
   "source": []
  },
  {
   "cell_type": "code",
   "execution_count": null,
   "metadata": {},
   "outputs": [],
   "source": []
  },
  {
   "cell_type": "markdown",
   "metadata": {},
   "source": [
    "## MulVal Input Network Transformer\n",
    "\n",
    "We need a representation of our network model as it is available to attack graph generation. So, just before we run mulval,  let's dump a .dot representation of current knowledge base. "
   ]
  },
  {
   "cell_type": "code",
   "execution_count": null,
   "metadata": {},
   "outputs": [],
   "source": []
  },
  {
   "cell_type": "code",
   "execution_count": null,
   "metadata": {},
   "outputs": [],
   "source": []
  },
  {
   "cell_type": "code",
   "execution_count": null,
   "metadata": {},
   "outputs": [],
   "source": []
  }
 ],
 "metadata": {
  "kernelspec": {
   "display_name": "Python 3",
   "language": "python",
   "name": "python3"
  },
  "language_info": {
   "codemirror_mode": {
    "name": "ipython",
    "version": 3
   },
   "file_extension": ".py",
   "mimetype": "text/x-python",
   "name": "python",
   "nbconvert_exporter": "python",
   "pygments_lexer": "ipython3",
   "version": "3.6.8"
  }
 },
 "nbformat": 4,
 "nbformat_minor": 4
}
