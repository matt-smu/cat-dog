{
 "cells": [
  {
   "cell_type": "markdown",
   "metadata": {},
   "source": [
    "# Title: Notebook_Title_Here\n",
    "### Purpose: Snippets to do a thing\n",
    "### Author: @mjz\n"
   ]
  },
  {
   "cell_type": "markdown",
   "metadata": {},
   "source": [
    "\n",
    "## Global imports and notebook setup here"
   ]
  },
  {
   "cell_type": "code",
   "execution_count": 2,
   "metadata": {},
   "outputs": [
    {
     "data": {
      "text/plain": [
       "['/opt/projects/diss/jupyter_nbs/py36/lib/python3.6/site-packages/ipykernel_launcher.py']"
      ]
     },
     "execution_count": 2,
     "metadata": {},
     "output_type": "execute_result"
    }
   ],
   "source": [
    "%matplotlib inline\n",
    "\n",
    "#------ python libs ----------\n",
    "import logging\n",
    "import os\n",
    "SEP = os.path.sep\n",
    "import sys\n",
    "import uuid\n",
    "import pathlib\n",
    "\n",
    "#------ notebook libs ----------\n",
    "import matplotlib.pyplot as plt\n",
    "import networkx as nx\n",
    "import graphviz\n",
    "import IPython.display\n",
    "import numpy as np\n",
    "# import scipy.stats as st\n",
    "# import scipy.special\n",
    "# # bokeh plotting setup\n",
    "# import bokeh.io\n",
    "# import bokeh.plotting\n",
    "# import bokeh.application\n",
    "# import bokeh.application.handlers\n",
    "# bokeh.io.output_notebook()\n",
    "# notebook_url = 'localhost:8888'\n",
    "\n",
    "#------ data connectors ----------\n",
    "# -- bq --\n",
    "# from google.cloud import bigquery\n",
    "## %reload_ext google.cloud.bigquery # %%bigquery df\n",
    "## os.environ['GOOGLE_APPLICATION_CREDENTIALS'] = key_loc # bq_client needs this (svc_acct auth)\n",
    "# bigquery_client = bigquery.Client(project=proj) # \n",
    "# -- influx--\n",
    "# from influxdb import InfluxDBClient\n",
    "# from influxdb import DataFrameClient\n",
    "# client = InfluxDBClient('192.168.0.115', '8086')\n",
    "# dbs = client.get_list_database()\n",
    "# -- mongo--\n",
    "# import pymongo \n",
    "# from pymongo import MongoClient\n",
    "# client = MongoClient('localhost', 27017)\n",
    "# print(client.list_database_names())\n",
    "\n",
    "\n",
    "#------ project libs ----------\n",
    "py_mulval_path = r'/opt/projects/diss/py-mulval/src'\n",
    "sys.path.append(py_mulval_path)\n",
    "\n",
    "# Just importing for their flags right now\n",
    "import py_mulval.py_mulval as py_mulval\n",
    "import py_mulval.boromir as boromir\n",
    "import py_mulval.log_util as log_util\n",
    "import py_mulval.mulpy as mulpy\n",
    "import py_mulval.metrics as secmet\n",
    "import py_mulval.attack_graph as attack_graph\n",
    "\n",
    "from py_mulval import flags\n",
    "FLAGS = flags.FLAGS\n",
    "FLAGS([sys.argv[0]]) # dont expect cli args from jupyter"
   ]
  },
  {
   "cell_type": "code",
   "execution_count": 1,
   "metadata": {},
   "outputs": [],
   "source": [
    "# Show an attack graph in this notebook\n",
    "def plot_dot(g, title=None):\n",
    "    A = nx.nx_agraph.to_agraph(g)\n",
    "    if title:\n",
    "        A.graph_attr.update(label=title, labelloc='top', labeljust='center', fontsize=24)\n",
    "    # A.layout('dot', args='-Nfontsize=10 -Nwidth=\".2\" -Nheight=\".2\" -Nmargin=0 -Gfontsize=8')\n",
    "    args = \"\"\"\n",
    "    -Gsize=17\n",
    "    -Nfontname=Roboto\n",
    "    -Efontname=Roboto\n",
    "    -Nfontsize=14\n",
    "    -Efontsize=14\n",
    "    \"\"\"\n",
    "    A.layout('dot', args=args )\n",
    "    # A.draw(self.outputDir + '/' + outfilename)\n",
    "    A.draw()\n",
    "    # plt.show()\n",
    "    return graphviz.Source(A.to_string())"
   ]
  },
  {
   "cell_type": "markdown",
   "metadata": {},
   "source": [
    "## Background Info\n"
   ]
  },
  {
   "cell_type": "code",
   "execution_count": null,
   "metadata": {},
   "outputs": [],
   "source": []
  },
  {
   "cell_type": "markdown",
   "metadata": {},
   "source": [
    "## Another Section\n"
   ]
  },
  {
   "cell_type": "code",
   "execution_count": null,
   "metadata": {},
   "outputs": [],
   "source": []
  },
  {
   "cell_type": "markdown",
   "metadata": {},
   "source": [
    "### subsection"
   ]
  },
  {
   "cell_type": "code",
   "execution_count": null,
   "metadata": {},
   "outputs": [],
   "source": []
  },
  {
   "cell_type": "markdown",
   "metadata": {},
   "source": [
    "## Conclusion"
   ]
  },
  {
   "cell_type": "code",
   "execution_count": null,
   "metadata": {},
   "outputs": [],
   "source": []
  },
  {
   "cell_type": "code",
   "execution_count": null,
   "metadata": {},
   "outputs": [],
   "source": []
  },
  {
   "cell_type": "code",
   "execution_count": null,
   "metadata": {},
   "outputs": [],
   "source": []
  },
  {
   "cell_type": "code",
   "execution_count": null,
   "metadata": {},
   "outputs": [],
   "source": []
  },
  {
   "cell_type": "code",
   "execution_count": null,
   "metadata": {},
   "outputs": [],
   "source": []
  },
  {
   "cell_type": "code",
   "execution_count": null,
   "metadata": {},
   "outputs": [],
   "source": []
  }
 ],
 "metadata": {
  "kernelspec": {
   "display_name": "Python 3",
   "language": "python",
   "name": "python3"
  },
  "language_info": {
   "codemirror_mode": {
    "name": "ipython",
    "version": 3
   },
   "file_extension": ".py",
   "mimetype": "text/x-python",
   "name": "python",
   "nbconvert_exporter": "python",
   "pygments_lexer": "ipython3",
   "version": "3.6.8"
  }
 },
 "nbformat": 4,
 "nbformat_minor": 4
}
