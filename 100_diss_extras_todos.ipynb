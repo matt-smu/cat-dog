{
 "cells": [
  {
   "cell_type": "markdown",
   "metadata": {},
   "source": [
    "# Title: PhD Attack Graph Extras\n",
    "## Purpose: New and interesting AG Things\n",
    "## @author: mjz"
   ]
  },
  {
   "cell_type": "code",
   "execution_count": null,
   "metadata": {},
   "outputs": [],
   "source": []
  },
  {
   "cell_type": "markdown",
   "metadata": {},
   "source": [
    "## On Regenerating Paths with updated permissions\n",
    "As it stands we have a fundamental disconnect in the survivorship bias of attack graphs. \n",
    "\n",
    "First, attack graphs are only generated when a path exists to the goal.\n",
    "\n",
    "This means that any attack graph based metric only measures how insecure a system already is. We've already lost if we're at this stage.\n",
    "\n",
    "But, on top of that, an attack graph only measures paths based on permissions gained from the original entry point. Subsequent priv escalations should create further attack paths from nodes discarded in the original network model.\n",
    "\n",
    "Our job is to verify that the presumption of security is not only naive from a monotonic permissions perspective, but also from a reduced subset of standard network model.\n"
   ]
  },
  {
   "cell_type": "code",
   "execution_count": null,
   "metadata": {},
   "outputs": [],
   "source": []
  },
  {
   "cell_type": "markdown",
   "metadata": {},
   "source": [
    "## On Coffee With Crackers\n",
    "We assert that the substrate between the standard network model and the derived attack graph occurs on multiple levels, between each logical boundary in the systen (phys<=>net<=>transport<=>business...)\n",
    "\n",
    "The union of these layers provides the full system connectivity, and also the full set of options for an attacker to pivot\n",
    "\n",
    "We assert this connectivity can be modeled as a 2-d or 3-d or n-d lattice\n",
    "\n",
    "We assert the properties of this lattice include the phase-change point under global connectivity percolation paramater.\n",
    "\n",
    "The value and characteristic of this parameter define the actual security of the system."
   ]
  },
  {
   "cell_type": "code",
   "execution_count": null,
   "metadata": {},
   "outputs": [],
   "source": []
  },
  {
   "cell_type": "code",
   "execution_count": null,
   "metadata": {},
   "outputs": [],
   "source": []
  }
 ],
 "metadata": {
  "kernelspec": {
   "display_name": "Python 3",
   "language": "python",
   "name": "python3"
  },
  "language_info": {
   "codemirror_mode": {
    "name": "ipython",
    "version": 3
   },
   "file_extension": ".py",
   "mimetype": "text/x-python",
   "name": "python",
   "nbconvert_exporter": "python",
   "pygments_lexer": "ipython3",
   "version": "3.6.8"
  }
 },
 "nbformat": 4,
 "nbformat_minor": 4
}
