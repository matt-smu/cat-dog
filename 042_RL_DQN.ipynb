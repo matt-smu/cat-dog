{
 "cells": [
  {
   "cell_type": "markdown",
   "metadata": {},
   "source": [
    "# Title: Graph Based Deep-Q Networks\n",
    "### Purpose: Can we make use of existing system and threat models, along with associated security metrics, to better model attacker behavior and improve incident response? \n",
    "### Author: @mjz\n"
   ]
  },
  {
   "cell_type": "markdown",
   "metadata": {},
   "source": [
    "\n",
    "## Global imports and notebook setup here"
   ]
  },
  {
   "cell_type": "code",
   "execution_count": 2,
   "metadata": {},
   "outputs": [
    {
     "data": {
      "text/plain": [
       "['/opt/projects/diss/jupyter_nbs/py36/lib/python3.6/site-packages/ipykernel_launcher.py']"
      ]
     },
     "execution_count": 2,
     "metadata": {},
     "output_type": "execute_result"
    }
   ],
   "source": [
    "%matplotlib inline\n",
    "\n",
    "#------ python libs ----------\n",
    "import logging\n",
    "import os\n",
    "import sys\n",
    "import uuid\n",
    "import pathlib\n",
    "\n",
    "#------ notebook libs ----------\n",
    "import matplotlib.pyplot as plt\n",
    "import networkx as nx\n",
    "import graphviz\n",
    "import IPython.display\n",
    "import numpy as np\n",
    "# import scipy.stats as st\n",
    "# import scipy.special\n",
    "# # bokeh plotting setup\n",
    "# import bokeh.io\n",
    "# import bokeh.plotting\n",
    "# import bokeh.application\n",
    "# import bokeh.application.handlers\n",
    "# bokeh.io.output_notebook()\n",
    "# notebook_url = 'localhost:8888'\n",
    "\n",
    "\n",
    "#------ project libs ----------\n",
    "py_mulval_path = r'/opt/projects/diss/py-mulval/src'\n",
    "sys.path.append(py_mulval_path)\n",
    "\n",
    "# Just importing for their flags right now\n",
    "import py_mulval.py_mulval as py_mulval\n",
    "import py_mulval.boromir as boromir\n",
    "import py_mulval.log_util as log_util\n",
    "import py_mulval.mulpy as mulpy\n",
    "import py_mulval.metrics as secmet\n",
    "import py_mulval.attack_graph as attack_graph\n",
    "\n",
    "from py_mulval import flags\n",
    "FLAGS = flags.FLAGS\n",
    "FLAGS([sys.argv[0]]) # dont expect cli args from jupyter"
   ]
  },
  {
   "cell_type": "code",
   "execution_count": null,
   "metadata": {},
   "outputs": [],
   "source": []
  },
  {
   "cell_type": "markdown",
   "metadata": {},
   "source": [
    "## Background Info\n"
   ]
  },
  {
   "cell_type": "code",
   "execution_count": null,
   "metadata": {},
   "outputs": [],
   "source": []
  },
  {
   "cell_type": "markdown",
   "metadata": {},
   "source": [
    "## Another Section\n"
   ]
  },
  {
   "cell_type": "code",
   "execution_count": null,
   "metadata": {},
   "outputs": [],
   "source": []
  },
  {
   "cell_type": "markdown",
   "metadata": {},
   "source": [
    "### subsection"
   ]
  },
  {
   "cell_type": "code",
   "execution_count": null,
   "metadata": {},
   "outputs": [],
   "source": []
  },
  {
   "cell_type": "markdown",
   "metadata": {},
   "source": [
    "## Conclusion"
   ]
  },
  {
   "cell_type": "code",
   "execution_count": null,
   "metadata": {},
   "outputs": [],
   "source": []
  },
  {
   "cell_type": "code",
   "execution_count": null,
   "metadata": {},
   "outputs": [],
   "source": []
  },
  {
   "cell_type": "code",
   "execution_count": null,
   "metadata": {},
   "outputs": [],
   "source": []
  },
  {
   "cell_type": "code",
   "execution_count": null,
   "metadata": {},
   "outputs": [],
   "source": []
  },
  {
   "cell_type": "code",
   "execution_count": null,
   "metadata": {},
   "outputs": [],
   "source": []
  },
  {
   "cell_type": "code",
   "execution_count": null,
   "metadata": {},
   "outputs": [],
   "source": []
  }
 ],
 "metadata": {
  "kernelspec": {
   "display_name": "Python 3",
   "language": "python",
   "name": "python3"
  },
  "language_info": {
   "codemirror_mode": {
    "name": "ipython",
    "version": 3
   },
   "file_extension": ".py",
   "mimetype": "text/x-python",
   "name": "python",
   "nbconvert_exporter": "python",
   "pygments_lexer": "ipython3",
   "version": "3.6.8"
  }
 },
 "nbformat": 4,
 "nbformat_minor": 4
}
