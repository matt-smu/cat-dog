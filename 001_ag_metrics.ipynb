{
 "cells": [
  {
   "cell_type": "markdown",
   "metadata": {},
   "source": [
    "# Title: Attack Graph Metrics\n",
    "### Purpose: Snippets to review published AG Metrics\n",
    "### Author: @mjz\n"
   ]
  },
  {
   "cell_type": "markdown",
   "metadata": {},
   "source": [
    "## Background/Sec0\n"
   ]
  },
  {
   "cell_type": "code",
   "execution_count": null,
   "metadata": {},
   "outputs": [],
   "source": [
    "\n"
   ]
  },
  {
   "cell_type": "code",
   "execution_count": 28,
   "metadata": {
    "scrolled": true
   },
   "outputs": [
    {
     "name": "stdout",
     "output_type": "stream",
     "text": [
      "/tmp/mulpy/runs/87b65a12/single_host_1.csv\n",
      "\n",
      "-------------------------BOROMIR Results Summary-------------------------\n",
      "SHORTEST_ATTACK_PATH:\n",
      "  all_paths_before=\"[[\"18\", \"16\", \"15\", \"14\", \"13\", \"11\", \"10\", \"9\", \"8\", \"6\", \"5\", \"4\", \"3\", \"2\", \"1\"], [\"18\", \"16\", \"15\", \"14\", \"13\", \"23\", \"5\", \"4\", \"3\", \"2\", \"1\"]]\" attack_graph_name=\"single_host_1\" citation=\"Rodolphe Ortalo, Yves Deswarte, and Mohamed Kaâniche. 1999. Experimenting with quantitative evaluation tools for monitoring operational security. IEEE Transactions on Software Engineering 25, 5 (1999), 633–650.\n",
      "\" cite_key=\"Ortalo1999\" run_number=\"0\" shortest_path_length_after=\"4\" shortest_path_length_before=\"11\"\n",
      "  Shortest Path Length                  4.000000 path length                   \n",
      "  End to End Runtime                    1.054156 seconds                       \n",
      "\n",
      "-------------------------\n",
      "For all tests: all_paths_after=\"[['13', '5', '3', '1'], ['13', '8', '5', '3', '1']]\" shortest_path_after=\"['13', '5', '3', '1']\" shortest_path_before=\"['18', '16', '15', '14', '13', '23', '5', '4', '3', '2', '1']\"\n"
     ]
    },
    {
     "name": "stderr",
     "output_type": "stream",
     "text": [
      "2020-01-23 20:49:50,004 87b65a12 MainThread INFO     Verbose logging to: /tmp/mulpy/runs/87b65a12/pkb.log\n",
      "2020-01-23 20:49:50,004 87b65a12 MainThread INFO     PerfKitBenchmarker version: unknown\n",
      "2020-01-23 20:49:50,005 87b65a12 MainThread INFO     Flag values:\n",
      "--benchmark_config_file=test_flags_in_config.yml\n",
      "--secmet_plot_intermediate_graphs\n",
      "--secmet_fix_cvss_score=1.0\n",
      "--benchmarks=shortest_attack_path\n",
      "2020-01-23 20:49:50,019 87b65a12 MainThread INFO     Running: ssh-keygen -t rsa -N  -m PEM -q -f /tmp/mulpy/runs/87b65a12/py_mulval_keyfile\n",
      "2020-01-23 20:49:50,209 87b65a12 MainThread INFO     Setting --max_concurrent_threads=200.\n",
      "2020-01-23 20:49:50,262 87b65a12 MainThread shortest_attack_path(1/1) INFO     Provisioning resources for benchmark shortest_attack_path\n",
      "2020-01-23 20:49:50,263 87b65a12 MainThread shortest_attack_path(1/1) INFO     Preparing benchmark shortest_attack_path\n",
      "2020-01-23 20:49:50,263 87b65a12 MainThread shortest_attack_path(1/1) INFO     Running benchmark shortest_attack_path\n",
      "2020-01-23 20:49:51,312 87b65a12 MainThread shortest_attack_path(1/1) INFO     ('Writing transition matrix to: ', '/tmp/mulpy/runs/87b65a12/single_host_1.csv')\n",
      "2020-01-23 20:49:51,316 87b65a12 MainThread shortest_attack_path(1/1) INFO     Cleaning up benchmark shortest_attack_path\n",
      "2020-01-23 20:49:51,317 87b65a12 MainThread shortest_attack_path(1/1) INFO     Tearing down resources for benchmark shortest_attack_path\n",
      "2020-01-23 20:49:51,317 87b65a12 MainThread INFO     \n",
      "-------------------------BOROMIR Complete Results-------------------------\n",
      "{'metadata': {'all_paths_after': [['13', '5', '3', '1'],\n",
      "                                  ['13', '8', '5', '3', '1']],\n",
      "              'all_paths_before': '[[\"18\", \"16\", \"15\", \"14\", \"13\", \"11\", \"10\", '\n",
      "                                  '\"9\", \"8\", \"6\", \"5\", \"4\", \"3\", \"2\", \"1\"], '\n",
      "                                  '[\"18\", \"16\", \"15\", \"14\", \"13\", \"23\", \"5\", '\n",
      "                                  '\"4\", \"3\", \"2\", \"1\"]]',\n",
      "              'attack_graph_name': 'single_host_1',\n",
      "              'citation': 'Rodolphe Ortalo, Yves Deswarte, and Mohamed '\n",
      "                          'Kaâniche. 1999. Experimenting with quantitative '\n",
      "                          'evaluation tools for monitoring operational '\n",
      "                          'security. IEEE Transactions on Software Engineering '\n",
      "                          '25, 5 (1999), 633–650.\\n',\n",
      "              'cite_key': 'Ortalo1999',\n",
      "              'run_number': 0,\n",
      "              'shortest_path_after': ['13', '5', '3', '1'],\n",
      "              'shortest_path_before': ['18',\n",
      "                                       '16',\n",
      "                                       '15',\n",
      "                                       '14',\n",
      "                                       '13',\n",
      "                                       '23',\n",
      "                                       '5',\n",
      "                                       '4',\n",
      "                                       '3',\n",
      "                                       '2',\n",
      "                                       '1'],\n",
      "              'shortest_path_length_after': 4,\n",
      "              'shortest_path_length_before': 11},\n",
      " 'metric': 'Shortest Path Length',\n",
      " 'official': False,\n",
      " 'owner': 'cat-dog',\n",
      " 'product_name': 'py_mulval',\n",
      " 'run_id': None,\n",
      " 'sample_uri': 'a94fd3f9-ec7c-48cc-b1c7-47ca9c86774a',\n",
      " 'test': 'shortest_attack_path',\n",
      " 'timestamp': 1579834191.316693,\n",
      " 'unit': 'path length',\n",
      " 'value': 4}\n",
      "{'metadata': {},\n",
      " 'metric': 'End to End Runtime',\n",
      " 'official': False,\n",
      " 'owner': 'cat-dog',\n",
      " 'product_name': 'py_mulval',\n",
      " 'run_id': None,\n",
      " 'sample_uri': 'bc47cb22-96cf-4378-a233-ce50a440864a',\n",
      " 'test': 'shortest_attack_path',\n",
      " 'timestamp': 1579834191.3170867,\n",
      " 'unit': 'seconds',\n",
      " 'value': 1.0541560649871826}\n",
      "\n",
      "2020-01-23 20:49:51,318 87b65a12 MainThread INFO     Publishing 2 samples to /tmp/mulpy/runs/87b65a12/py_mulval_results.json\n",
      "2020-01-23 20:49:51,318 87b65a12 MainThread INFO     Benchmark run statuses:\n",
      "------------------------------------------------------------------------\n",
      "Name                  UID                    Status     Failed Substatus\n",
      "------------------------------------------------------------------------\n",
      "shortest_attack_path  shortest_attack_path0  SUCCEEDED                  \n",
      "------------------------------------------------------------------------\n",
      "Success rate: 100.00% (1/1)\n",
      "2020-01-23 20:49:51,318 87b65a12 MainThread INFO     Complete logs can be found at: /tmp/mulpy/runs/87b65a12/pkb.log\n",
      "2020-01-23 20:49:51,318 87b65a12 MainThread INFO     Completion statuses can be found at: /tmp/mulpy/runs/87b65a12/completion_statuses.json\n"
     ]
    }
   ],
   "source": [
    "\n",
    "%%bash\n",
    "/opt/projects/diss/py-mulval/src/run_boromir.py --benchmarks=shortest_attack_path --benchmark_config_file=test_flags_in_config.yml --secmet_plot_intermediate_graphs --secmet_fix_cvss_score=1 "
   ]
  },
  {
   "cell_type": "code",
   "execution_count": null,
   "metadata": {},
   "outputs": [],
   "source": []
  },
  {
   "cell_type": "code",
   "execution_count": 1,
   "metadata": {},
   "outputs": [],
   "source": [
    "%matplotlib inline\n",
    "import matplotlib.pyplot as plt\n",
    "import os\n",
    "import sys\n",
    "import networkx as nx\n",
    "import graphviz\n",
    "\n",
    "\n",
    "import numpy as np\n",
    "from itertools import chain\n",
    "\n",
    "py_mulval_path = r'/opt/projects/diss/py-mulval/src'\n",
    "sys.path.append(py_mulval_path)\n",
    "\n",
    "from py_mulval.attack_graph import AttackGraph\n",
    "\n",
    "def plot_ag(ag):\n",
    "    A = nx.nx_agraph.to_agraph(ag)\n",
    "    # A.layout('dot', args='-Nfontsize=10 -Nwidth=\".2\" -Nheight=\".2\" -Nmargin=0 -Gfontsize=8')\n",
    "    args = \"\"\"\n",
    "    -Gsize=17\n",
    "    -Nfontname=Roboto\n",
    "    -Efontname=Roboto\n",
    "    -Nfontsize=14\n",
    "    -Efontsize=14\n",
    "    \"\"\"\n",
    "    A.layout('dot', args=args )\n",
    "    # A.draw(self.outputDir + '/' + outfilename)\n",
    "    A.draw()\n",
    "    # plt.show()\n",
    "    return graphviz.Source(A.to_string())"
   ]
  },
  {
   "cell_type": "code",
   "execution_count": 2,
   "metadata": {},
   "outputs": [
    {
     "name": "stdout",
     "output_type": "stream",
     "text": [
      "[[0.33333333 0.30769231 0.35897436 0.         0.        ]\n",
      " [0.         0.42857143 0.57142857 0.         0.        ]\n",
      " [0.         0.         0.625      0.375      0.        ]\n",
      " [0.         0.         0.         0.69230769 0.30769231]\n",
      " [0.         0.         0.         0.         1.        ]]\n"
     ]
    },
    {
     "data": {
      "image/svg+xml": [
       "<?xml version=\"1.0\" encoding=\"UTF-8\" standalone=\"no\"?>\n",
       "<!DOCTYPE svg PUBLIC \"-//W3C//DTD SVG 1.1//EN\"\n",
       " \"http://www.w3.org/Graphics/SVG/1.1/DTD/svg11.dtd\">\n",
       "<!-- Generated by graphviz version 2.40.1 (20161225.0304)\n",
       " -->\n",
       "<!-- Title: small_enterprise Pages: 1 -->\n",
       "<svg width=\"675pt\" height=\"392pt\"\n",
       " viewBox=\"0.00 0.00 675.00 392.00\" xmlns=\"http://www.w3.org/2000/svg\" xmlns:xlink=\"http://www.w3.org/1999/xlink\">\n",
       "<g id=\"graph0\" class=\"graph\" transform=\"scale(1 1) rotate(0) translate(4 388)\">\n",
       "<title>small_enterprise</title>\n",
       "<polygon fill=\"#ffffff\" stroke=\"transparent\" points=\"-4,4 -4,-388 671,-388 671,4 -4,4\"/>\n",
       "<!-- 1 -->\n",
       "<g id=\"node1\" class=\"node\">\n",
       "<title>1</title>\n",
       "<polygon fill=\"none\" stroke=\"#0000ff\" points=\"310,-36 110.5,-18 310,0 509.5,-18 310,-36\"/>\n",
       "<text text-anchor=\"middle\" x=\"310\" y=\"-14.3\" font-family=\"Roboto\" font-size=\"14.00\" fill=\"#000000\">1:execCode(workStation,root):0</text>\n",
       "</g>\n",
       "<!-- 1&#45;&gt;1 -->\n",
       "<g id=\"edge1\" class=\"edge\">\n",
       "<title>1&#45;&gt;1</title>\n",
       "<path fill=\"none\" stroke=\"#000000\" d=\"M424.4154,-25.6875C479.2005,-26.6226 527.5,-24.0601 527.5,-18 527.5,-12.3187 485.0492,-9.7114 434.6014,-10.1781\"/>\n",
       "<polygon fill=\"#000000\" stroke=\"#000000\" points=\"434.3683,-6.6808 424.4154,-10.3125 434.4607,-13.6802 434.3683,-6.6808\"/>\n",
       "<text text-anchor=\"middle\" x=\"538\" y=\"-14.3\" font-family=\"Roboto\" font-size=\"14.00\" fill=\"#000000\">1.0</text>\n",
       "</g>\n",
       "<!-- 3 -->\n",
       "<g id=\"node2\" class=\"node\">\n",
       "<title>3</title>\n",
       "<polygon fill=\"none\" stroke=\"#0000ff\" points=\"310,-123 0,-105 310,-87 620,-105 310,-123\"/>\n",
       "<text text-anchor=\"middle\" x=\"310\" y=\"-101.3\" font-family=\"Roboto\" font-size=\"14.00\" fill=\"#000000\">3:accessFile(workStation,write,&#39;/usr/local/share&#39;):0</text>\n",
       "</g>\n",
       "<!-- 3&#45;&gt;1 -->\n",
       "<g id=\"edge2\" class=\"edge\">\n",
       "<title>3&#45;&gt;1</title>\n",
       "<path fill=\"none\" stroke=\"#000000\" d=\"M310,-86.9735C310,-75.1918 310,-59.5607 310,-46.1581\"/>\n",
       "<polygon fill=\"#000000\" stroke=\"#000000\" points=\"313.5001,-46.0033 310,-36.0034 306.5001,-46.0034 313.5001,-46.0033\"/>\n",
       "<text text-anchor=\"middle\" x=\"324.5\" y=\"-57.8\" font-family=\"Roboto\" font-size=\"14.00\" fill=\"#000000\">0.31</text>\n",
       "</g>\n",
       "<!-- 3&#45;&gt;3 -->\n",
       "<g id=\"edge3\" class=\"edge\">\n",
       "<title>3&#45;&gt;3</title>\n",
       "<path fill=\"none\" stroke=\"#000000\" d=\"M487.1463,-112.7361C567.8482,-113.526 638,-110.9473 638,-105 638,-99.3083 573.7474,-96.7019 497.4861,-97.1807\"/>\n",
       "<polygon fill=\"#000000\" stroke=\"#000000\" points=\"497.1178,-93.6835 487.1463,-97.2639 497.1741,-100.6833 497.1178,-93.6835\"/>\n",
       "<text text-anchor=\"middle\" x=\"652.5\" y=\"-101.3\" font-family=\"Roboto\" font-size=\"14.00\" fill=\"#000000\">0.69</text>\n",
       "</g>\n",
       "<!-- 5 -->\n",
       "<g id=\"node3\" class=\"node\">\n",
       "<title>5</title>\n",
       "<polygon fill=\"none\" stroke=\"#0000ff\" points=\"310,-210 68.023,-192 310,-174 551.977,-192 310,-210\"/>\n",
       "<text text-anchor=\"middle\" x=\"310\" y=\"-188.3\" font-family=\"Roboto\" font-size=\"14.00\" fill=\"#000000\">5:accessFile(fileServer,write,&#39;/export&#39;):0</text>\n",
       "</g>\n",
       "<!-- 5&#45;&gt;3 -->\n",
       "<g id=\"edge4\" class=\"edge\">\n",
       "<title>5&#45;&gt;3</title>\n",
       "<path fill=\"none\" stroke=\"#000000\" d=\"M310,-173.9735C310,-162.1918 310,-146.5607 310,-133.1581\"/>\n",
       "<polygon fill=\"#000000\" stroke=\"#000000\" points=\"313.5001,-133.0033 310,-123.0034 306.5001,-133.0034 313.5001,-133.0033\"/>\n",
       "<text text-anchor=\"middle\" x=\"324.5\" y=\"-144.8\" font-family=\"Roboto\" font-size=\"14.00\" fill=\"#000000\">0.38</text>\n",
       "</g>\n",
       "<!-- 5&#45;&gt;5 -->\n",
       "<g id=\"edge5\" class=\"edge\">\n",
       "<title>5&#45;&gt;5</title>\n",
       "<path fill=\"none\" stroke=\"#000000\" d=\"M448.6249,-199.7149C513.2243,-200.5702 569.7384,-197.9985 569.7384,-192 569.7384,-186.3178 519.0276,-183.7106 458.7702,-184.1784\"/>\n",
       "<polygon fill=\"#000000\" stroke=\"#000000\" points=\"458.5875,-180.68 448.6249,-184.2851 458.6612,-187.6796 458.5875,-180.68\"/>\n",
       "<text text-anchor=\"middle\" x=\"584.2384\" y=\"-188.3\" font-family=\"Roboto\" font-size=\"14.00\" fill=\"#000000\">0.62</text>\n",
       "</g>\n",
       "<!-- 8 -->\n",
       "<g id=\"node4\" class=\"node\">\n",
       "<title>8</title>\n",
       "<polygon fill=\"none\" stroke=\"#0000ff\" points=\"401,-297 217,-279 401,-261 585,-279 401,-297\"/>\n",
       "<text text-anchor=\"middle\" x=\"401\" y=\"-275.3\" font-family=\"Roboto\" font-size=\"14.00\" fill=\"#000000\">8:execCode(fileServer,root):0</text>\n",
       "</g>\n",
       "<!-- 8&#45;&gt;5 -->\n",
       "<g id=\"edge6\" class=\"edge\">\n",
       "<title>8&#45;&gt;5</title>\n",
       "<path fill=\"none\" stroke=\"#000000\" d=\"M383.8836,-262.636C370.0791,-249.4383 350.4709,-230.692 334.9234,-215.8278\"/>\n",
       "<polygon fill=\"#000000\" stroke=\"#000000\" points=\"337.3072,-213.2647 327.6604,-208.8841 332.4699,-218.3244 337.3072,-213.2647\"/>\n",
       "<text text-anchor=\"middle\" x=\"374.5\" y=\"-231.8\" font-family=\"Roboto\" font-size=\"14.00\" fill=\"#000000\">0.57</text>\n",
       "</g>\n",
       "<!-- 8&#45;&gt;8 -->\n",
       "<g id=\"edge7\" class=\"edge\">\n",
       "<title>8&#45;&gt;8</title>\n",
       "<path fill=\"none\" stroke=\"#000000\" d=\"M506.7449,-286.6779C557.8384,-287.6399 603,-285.0806 603,-279 603,-273.3232 563.6372,-270.7156 516.8337,-271.177\"/>\n",
       "<polygon fill=\"#000000\" stroke=\"#000000\" points=\"516.6935,-267.6786 506.7449,-271.3221 516.7942,-274.6779 516.6935,-267.6786\"/>\n",
       "<text text-anchor=\"middle\" x=\"617.5\" y=\"-275.3\" font-family=\"Roboto\" font-size=\"14.00\" fill=\"#000000\">0.43</text>\n",
       "</g>\n",
       "<!-- 13 -->\n",
       "<g id=\"node5\" class=\"node\">\n",
       "<title>13</title>\n",
       "<polygon fill=\"none\" stroke=\"#0000ff\" points=\"285,-384 68.9961,-366 285,-348 501.0039,-366 285,-384\"/>\n",
       "<text text-anchor=\"middle\" x=\"285\" y=\"-362.3\" font-family=\"Roboto\" font-size=\"14.00\" fill=\"#000000\">13:execCode(webServer,apache):0</text>\n",
       "</g>\n",
       "<!-- 13&#45;&gt;5 -->\n",
       "<g id=\"edge8\" class=\"edge\">\n",
       "<title>13&#45;&gt;5</title>\n",
       "<path fill=\"none\" stroke=\"#000000\" d=\"M248.7567,-350.8478C209.8213,-332.2339 156.3805,-298.4794 179,-261 193.8457,-236.4013 220.7006,-220.1293 246.2478,-209.6021\"/>\n",
       "<polygon fill=\"#000000\" stroke=\"#000000\" points=\"247.5218,-212.8621 255.5761,-205.9789 244.9873,-206.337 247.5218,-212.8621\"/>\n",
       "<text text-anchor=\"middle\" x=\"193.5\" y=\"-275.3\" font-family=\"Roboto\" font-size=\"14.00\" fill=\"#000000\">0.36</text>\n",
       "</g>\n",
       "<!-- 13&#45;&gt;8 -->\n",
       "<g id=\"edge9\" class=\"edge\">\n",
       "<title>13&#45;&gt;8</title>\n",
       "<path fill=\"none\" stroke=\"#000000\" d=\"M306.8187,-349.636C325.0802,-335.9399 351.309,-316.2682 371.4519,-301.161\"/>\n",
       "<polygon fill=\"#000000\" stroke=\"#000000\" points=\"373.771,-303.7968 379.671,-294.9967 369.571,-298.1968 373.771,-303.7968\"/>\n",
       "<text text-anchor=\"middle\" x=\"363.5\" y=\"-318.8\" font-family=\"Roboto\" font-size=\"14.00\" fill=\"#000000\">0.31</text>\n",
       "</g>\n",
       "<!-- 13&#45;&gt;13 -->\n",
       "<g id=\"edge10\" class=\"edge\">\n",
       "<title>13&#45;&gt;13</title>\n",
       "<path fill=\"none\" stroke=\"#000000\" d=\"M408.6943,-373.6969C467.389,-374.6052 519.002,-372.0396 519.002,-366 519.002,-360.3143 473.2602,-357.7074 418.9299,-358.1792\"/>\n",
       "<polygon fill=\"#000000\" stroke=\"#000000\" points=\"418.6512,-354.6823 408.6943,-358.3031 418.736,-361.6817 418.6512,-354.6823\"/>\n",
       "<text text-anchor=\"middle\" x=\"533.502\" y=\"-362.3\" font-family=\"Roboto\" font-size=\"14.00\" fill=\"#000000\">0.33</text>\n",
       "</g>\n",
       "</g>\n",
       "</svg>\n"
      ],
      "text/plain": [
       "<graphviz.files.Source at 0x7f64eb11dcf8>"
      ]
     },
     "execution_count": 2,
     "metadata": {},
     "output_type": "execute_result"
    }
   ],
   "source": [
    "ag = AttackGraph()\n",
    "ag.load_dot_file('/opt/projects/diss/py-mulval/data/mulval_ag/small_enterprise/AttackGraph.dot')\n",
    "ag.name = 'small_enterprise'\n",
    "ag.load_score_dict('/opt/projects/diss/py-mulval/data/scoreDict.yml')\n",
    "ag.PLOT_INTERMEDIATE_GRAPHS = False\n",
    "\n",
    "tgraph, tmatrix, nodelist = ag.getTransMatrix()\n",
    "\n",
    "print(tmatrix.todense())\n",
    "\n",
    "plot_ag(tgraph)\n",
    "\n",
    "# plot_ag(ag)\n"
   ]
  },
  {
   "cell_type": "code",
   "execution_count": 13,
   "metadata": {},
   "outputs": [
    {
     "name": "stdout",
     "output_type": "stream",
     "text": [
      "[['13' '8' '5' '3' '1']\n",
      " ['0.33' '0.31' '0.36' '0.0' '0.0']\n",
      " ['0.0' '0.43' '0.57' '0.0' '0.0']\n",
      " ['0.0' '0.0' '0.62' '0.38' '0.0']\n",
      " ['0.0' '0.0' '0.0' '0.69' '0.31']\n",
      " ['0.0' '0.0' '0.0' '0.0' '1.0']]\n"
     ]
    }
   ],
   "source": [
    "print(np.vstack((nodelist, np.round_(tmatrix.todense(), decimals=2))))"
   ]
  },
  {
   "cell_type": "code",
   "execution_count": 15,
   "metadata": {},
   "outputs": [
    {
     "data": {
      "image/svg+xml": [
       "<?xml version=\"1.0\" encoding=\"UTF-8\" standalone=\"no\"?>\n",
       "<!DOCTYPE svg PUBLIC \"-//W3C//DTD SVG 1.1//EN\"\n",
       " \"http://www.w3.org/Graphics/SVG/1.1/DTD/svg11.dtd\">\n",
       "<!-- Generated by graphviz version 2.40.1 (20161225.0304)\n",
       " -->\n",
       "<!-- Title: small_enterprise Pages: 1 -->\n",
       "<svg width=\"745pt\" height=\"479pt\"\n",
       " viewBox=\"0.00 0.00 745.00 479.00\" xmlns=\"http://www.w3.org/2000/svg\" xmlns:xlink=\"http://www.w3.org/1999/xlink\">\n",
       "<g id=\"graph0\" class=\"graph\" transform=\"scale(1 1) rotate(0) translate(4 475)\">\n",
       "<title>small_enterprise</title>\n",
       "<polygon fill=\"#ffffff\" stroke=\"transparent\" points=\"-4,4 -4,-475 741.002,-475 741.002,4 -4,4\"/>\n",
       "<!-- 1 -->\n",
       "<g id=\"node1\" class=\"node\">\n",
       "<title>1</title>\n",
       "<polygon fill=\"none\" stroke=\"#0000ff\" points=\"427.002,-36 227.502,-18 427.002,0 626.502,-18 427.002,-36\"/>\n",
       "<text text-anchor=\"middle\" x=\"427.002\" y=\"-14.3\" font-family=\"Roboto\" font-size=\"14.00\" fill=\"#000000\">1:execCode(workStation,root):0</text>\n",
       "</g>\n",
       "<!-- 3 -->\n",
       "<g id=\"node2\" class=\"node\">\n",
       "<title>3</title>\n",
       "<polygon fill=\"none\" stroke=\"#0000ff\" points=\"427.002,-123 117.002,-105 427.002,-87 737.002,-105 427.002,-123\"/>\n",
       "<text text-anchor=\"middle\" x=\"427.002\" y=\"-101.3\" font-family=\"Roboto\" font-size=\"14.00\" fill=\"#000000\">3:accessFile(workStation,write,&#39;/usr/local/share&#39;):0</text>\n",
       "</g>\n",
       "<!-- 3&#45;&gt;1 -->\n",
       "<g id=\"edge1\" class=\"edge\">\n",
       "<title>3&#45;&gt;1</title>\n",
       "<path fill=\"none\" stroke=\"#000000\" d=\"M427.002,-86.9735C427.002,-75.1918 427.002,-59.5607 427.002,-46.1581\"/>\n",
       "<polygon fill=\"#000000\" stroke=\"#000000\" points=\"430.5021,-46.0033 427.002,-36.0034 423.5021,-46.0034 430.5021,-46.0033\"/>\n",
       "<text text-anchor=\"middle\" x=\"431.502\" y=\"-57.8\" font-family=\"Roboto\" font-size=\"14.00\" fill=\"#000000\">4</text>\n",
       "</g>\n",
       "<!-- 5 -->\n",
       "<g id=\"node3\" class=\"node\">\n",
       "<title>5</title>\n",
       "<polygon fill=\"none\" stroke=\"#0000ff\" points=\"427.002,-210 185.025,-192 427.002,-174 668.9789,-192 427.002,-210\"/>\n",
       "<text text-anchor=\"middle\" x=\"427.002\" y=\"-188.3\" font-family=\"Roboto\" font-size=\"14.00\" fill=\"#000000\">5:accessFile(fileServer,write,&#39;/export&#39;):0</text>\n",
       "</g>\n",
       "<!-- 5&#45;&gt;3 -->\n",
       "<g id=\"edge2\" class=\"edge\">\n",
       "<title>5&#45;&gt;3</title>\n",
       "<path fill=\"none\" stroke=\"#000000\" d=\"M427.002,-173.9735C427.002,-162.1918 427.002,-146.5607 427.002,-133.1581\"/>\n",
       "<polygon fill=\"#000000\" stroke=\"#000000\" points=\"430.5021,-133.0033 427.002,-123.0034 423.5021,-133.0034 430.5021,-133.0033\"/>\n",
       "<text text-anchor=\"middle\" x=\"431.502\" y=\"-144.8\" font-family=\"Roboto\" font-size=\"14.00\" fill=\"#000000\">9</text>\n",
       "</g>\n",
       "<!-- 8 -->\n",
       "<g id=\"node4\" class=\"node\">\n",
       "<title>8</title>\n",
       "<polygon fill=\"none\" stroke=\"#0000ff\" points=\"427.002,-297 243.002,-279 427.002,-261 611.002,-279 427.002,-297\"/>\n",
       "<text text-anchor=\"middle\" x=\"427.002\" y=\"-275.3\" font-family=\"Roboto\" font-size=\"14.00\" fill=\"#000000\">8:execCode(fileServer,root):0</text>\n",
       "</g>\n",
       "<!-- 8&#45;&gt;5 -->\n",
       "<g id=\"edge3\" class=\"edge\">\n",
       "<title>8&#45;&gt;5</title>\n",
       "<path fill=\"none\" stroke=\"#000000\" d=\"M427.002,-260.9735C427.002,-249.1918 427.002,-233.5607 427.002,-220.1581\"/>\n",
       "<polygon fill=\"#000000\" stroke=\"#000000\" points=\"430.5021,-220.0033 427.002,-210.0034 423.5021,-220.0034 430.5021,-220.0033\"/>\n",
       "<text text-anchor=\"middle\" x=\"431.502\" y=\"-231.8\" font-family=\"Roboto\" font-size=\"14.00\" fill=\"#000000\">8</text>\n",
       "</g>\n",
       "<!-- 13 -->\n",
       "<g id=\"node5\" class=\"node\">\n",
       "<title>13</title>\n",
       "<polygon fill=\"none\" stroke=\"#0000ff\" points=\"216.002,-384 -.002,-366 216.002,-348 432.0059,-366 216.002,-384\"/>\n",
       "<text text-anchor=\"middle\" x=\"216.002\" y=\"-362.3\" font-family=\"Roboto\" font-size=\"14.00\" fill=\"#000000\">13:execCode(webServer,apache):0</text>\n",
       "</g>\n",
       "<!-- 13&#45;&gt;5 -->\n",
       "<g id=\"edge4\" class=\"edge\">\n",
       "<title>13&#45;&gt;5</title>\n",
       "<path fill=\"none\" stroke=\"#000000\" d=\"M212.1452,-348.3019C208.2826,-325.574 205.3936,-286.0796 225.002,-261 241.5137,-239.881 303.8779,-220.5949 354.9949,-207.8151\"/>\n",
       "<polygon fill=\"#000000\" stroke=\"#000000\" points=\"355.8459,-211.2102 364.7228,-205.4265 354.1767,-204.4122 355.8459,-211.2102\"/>\n",
       "<text text-anchor=\"middle\" x=\"229.502\" y=\"-275.3\" font-family=\"Roboto\" font-size=\"14.00\" fill=\"#000000\">7</text>\n",
       "</g>\n",
       "<!-- 13&#45;&gt;8 -->\n",
       "<g id=\"edge5\" class=\"edge\">\n",
       "<title>13&#45;&gt;8</title>\n",
       "<path fill=\"none\" stroke=\"#000000\" d=\"M252.7554,-350.8458C288.6751,-336.0352 343.4266,-313.46 381.9498,-297.576\"/>\n",
       "<polygon fill=\"#000000\" stroke=\"#000000\" points=\"383.462,-300.7384 391.3728,-293.6907 380.7936,-294.2669 383.462,-300.7384\"/>\n",
       "<text text-anchor=\"middle\" x=\"338.502\" y=\"-318.8\" font-family=\"Roboto\" font-size=\"14.00\" fill=\"#000000\">6</text>\n",
       "</g>\n",
       "<!-- 0 -->\n",
       "<g id=\"node6\" class=\"node\">\n",
       "<title>0</title>\n",
       "<ellipse fill=\"none\" stroke=\"#000000\" cx=\"216.002\" cy=\"-453\" rx=\"27\" ry=\"18\"/>\n",
       "<text text-anchor=\"middle\" x=\"216.002\" y=\"-449.3\" font-family=\"Roboto\" font-size=\"14.00\" fill=\"#000000\">0</text>\n",
       "</g>\n",
       "<!-- 0&#45;&gt;13 -->\n",
       "<g id=\"edge6\" class=\"edge\">\n",
       "<title>0&#45;&gt;13</title>\n",
       "<path fill=\"none\" stroke=\"#000000\" d=\"M216.002,-434.9735C216.002,-423.1918 216.002,-407.5607 216.002,-394.1581\"/>\n",
       "<polygon fill=\"#000000\" stroke=\"#000000\" points=\"219.5021,-394.0033 216.002,-384.0034 212.5021,-394.0034 219.5021,-394.0033\"/>\n",
       "<text text-anchor=\"middle\" x=\"226.502\" y=\"-405.8\" font-family=\"Roboto\" font-size=\"14.00\" fill=\"#000000\">6.5</text>\n",
       "</g>\n",
       "</g>\n",
       "</svg>\n"
      ],
      "text/plain": [
       "<graphviz.files.Source at 0x7f655926ab38>"
      ]
     },
     "execution_count": 15,
     "metadata": {},
     "output_type": "execute_result"
    }
   ],
   "source": [
    "reduced_ag = ag.getReducedGraph()\n",
    "plot_ag(reduced_ag)\n"
   ]
  },
  {
   "cell_type": "code",
   "execution_count": null,
   "metadata": {},
   "outputs": [],
   "source": []
  },
  {
   "cell_type": "code",
   "execution_count": null,
   "metadata": {},
   "outputs": [],
   "source": []
  },
  {
   "cell_type": "code",
   "execution_count": null,
   "metadata": {},
   "outputs": [],
   "source": []
  },
  {
   "cell_type": "code",
   "execution_count": null,
   "metadata": {},
   "outputs": [],
   "source": []
  },
  {
   "cell_type": "markdown",
   "metadata": {},
   "source": [
    "## Mean Time to Failure (mttf_dacier_1994)\n",
    "Dacier\\cite{Dacier_1994, Dacier_1996}:\n",
    "\n",
    "Dacier's privilege graph model assumes the probability to succeed in a given attack before time $t$ is described by an exponential distribution given by: \n",
    "\n",
    "$P(t) = 1-exp(-\\lambda t) $  \n",
    "\n",
    "Transition rate $\\lambda$ estimates the effort and time, with mean time for an attack to succeed given by \n",
    "\n",
    "$\\frac{1}{\\lambda}$.\n",
    "\n",
    "$MTTF_k = T_k + \\sum\\limits_{1\\in out(k)}P_{k1} ; P_{k1}=\\lambda_{k1} \\times T_k$\n",
    "\n",
    "\n",
    "The shortest path is:\n",
    "\n",
    "$\\textbf{SP} = min(MTTF_k)$  for all possible paths\n"
   ]
  },
  {
   "cell_type": "code",
   "execution_count": 37,
   "metadata": {},
   "outputs": [
    {
     "name": "stdout",
     "output_type": "stream",
     "text": [
      "[2.00000000e-04 5.55573333e+00 1.11112667e+01 1.66668000e+01\n",
      " 2.22223333e+01 2.77778667e+01 3.33334000e+01 3.88889333e+01\n",
      " 4.44444667e+01 5.00000000e+01]\n"
     ]
    },
    {
     "data": {
      "text/plain": [
       "[<matplotlib.lines.Line2D at 0x7f6527849cc0>]"
      ]
     },
     "execution_count": 37,
     "metadata": {},
     "output_type": "execute_result"
    },
    {
     "data": {
      "image/png": "[encoded data removed]",
      "text/plain": [
       "<Figure size 432x288 with 1 Axes>"
      ]
     },
     "metadata": {
      "needs_background": "light"
     },
     "output_type": "display_data"
    }
   ],
   "source": [
    "from scipy.stats import expon\n",
    "\n",
    "fig, ax = plt.subplots(1, 1)\n",
    "\n",
    "# mean time to fire transitions:\n",
    "# .0002 is quasi-instantanious\n",
    "# .02 is 1 hour\n",
    "# .2 1 day\n",
    "# 1 is 1 week\n",
    "# 5 is one month\n",
    "# 50 is one year\n",
    "x = np.linspace(.0002, 50, 10)\n",
    "lamb = np.linspace(0.0001,.9999, 10 )\n",
    "print(x)\n",
    "ax.plot(x, 1 - expon.pdf(x * lamb), label='P(t)')"
   ]
  },
  {
   "cell_type": "code",
   "execution_count": null,
   "metadata": {},
   "outputs": [],
   "source": []
  },
  {
   "cell_type": "code",
   "execution_count": null,
   "metadata": {},
   "outputs": [],
   "source": []
  },
  {
   "cell_type": "code",
   "execution_count": null,
   "metadata": {},
   "outputs": [],
   "source": []
  }
 ],
 "metadata": {
  "kernelspec": {
   "display_name": "Python 3",
   "language": "python",
   "name": "python3"
  },
  "language_info": {
   "codemirror_mode": {
    "name": "ipython",
    "version": 3
   },
   "file_extension": ".py",
   "mimetype": "text/x-python",
   "name": "python",
   "nbconvert_exporter": "python",
   "pygments_lexer": "ipython3",
   "version": "3.6.8"
  }
 },
 "nbformat": 4,
 "nbformat_minor": 4
}
