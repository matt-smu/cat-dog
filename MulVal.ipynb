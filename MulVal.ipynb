{
 "cells": [
  {
   "cell_type": "markdown",
   "metadata": {},
   "source": [
    "# Test loading MulVal results from XSB into Python\n",
    "\n",
    "py-xsb can be installed with `pip install py-xsb`\n",
    "\n"
   ]
  },
  {
   "cell_type": "code",
   "execution_count": 5,
   "metadata": {
    "scrolled": true
   },
   "outputs": [
    {
     "data": {
      "application/json": {
       "cell": {
        "!": "OSMagics",
        "HTML": "Other",
        "SVG": "Other",
        "bash": "Other",
        "capture": "ExecutionMagics",
        "debug": "ExecutionMagics",
        "file": "Other",
        "html": "DisplayMagics",
        "javascript": "DisplayMagics",
        "js": "DisplayMagics",
        "latex": "DisplayMagics",
        "markdown": "DisplayMagics",
        "perl": "Other",
        "prun": "ExecutionMagics",
        "pypy": "Other",
        "python": "Other",
        "python2": "Other",
        "python3": "Other",
        "ruby": "Other",
        "script": "ScriptMagics",
        "sh": "Other",
        "svg": "DisplayMagics",
        "sx": "OSMagics",
        "system": "OSMagics",
        "time": "ExecutionMagics",
        "timeit": "ExecutionMagics",
        "writefile": "OSMagics"
       },
       "line": {
        "alias": "OSMagics",
        "alias_magic": "BasicMagics",
        "autoawait": "AsyncMagics",
        "autocall": "AutoMagics",
        "automagic": "AutoMagics",
        "autosave": "KernelMagics",
        "bookmark": "OSMagics",
        "cat": "Other",
        "cd": "OSMagics",
        "clear": "KernelMagics",
        "colors": "BasicMagics",
        "conda": "PackagingMagics",
        "config": "ConfigMagics",
        "connect_info": "KernelMagics",
        "cp": "Other",
        "debug": "ExecutionMagics",
        "dhist": "OSMagics",
        "dirs": "OSMagics",
        "doctest_mode": "BasicMagics",
        "ed": "Other",
        "edit": "KernelMagics",
        "env": "OSMagics",
        "gui": "BasicMagics",
        "hist": "Other",
        "history": "HistoryMagics",
        "killbgscripts": "ScriptMagics",
        "ldir": "Other",
        "less": "KernelMagics",
        "lf": "Other",
        "lk": "Other",
        "ll": "Other",
        "load": "CodeMagics",
        "load_ext": "ExtensionMagics",
        "loadpy": "CodeMagics",
        "logoff": "LoggingMagics",
        "logon": "LoggingMagics",
        "logstart": "LoggingMagics",
        "logstate": "LoggingMagics",
        "logstop": "LoggingMagics",
        "ls": "Other",
        "lsmagic": "BasicMagics",
        "lx": "Other",
        "macro": "ExecutionMagics",
        "magic": "BasicMagics",
        "man": "KernelMagics",
        "matplotlib": "PylabMagics",
        "mkdir": "Other",
        "more": "KernelMagics",
        "mv": "Other",
        "notebook": "BasicMagics",
        "page": "BasicMagics",
        "pastebin": "CodeMagics",
        "pdb": "ExecutionMagics",
        "pdef": "NamespaceMagics",
        "pdoc": "NamespaceMagics",
        "pfile": "NamespaceMagics",
        "pinfo": "NamespaceMagics",
        "pinfo2": "NamespaceMagics",
        "pip": "PackagingMagics",
        "popd": "OSMagics",
        "pprint": "BasicMagics",
        "precision": "BasicMagics",
        "prun": "ExecutionMagics",
        "psearch": "NamespaceMagics",
        "psource": "NamespaceMagics",
        "pushd": "OSMagics",
        "pwd": "OSMagics",
        "pycat": "OSMagics",
        "pylab": "PylabMagics",
        "qtconsole": "KernelMagics",
        "quickref": "BasicMagics",
        "recall": "HistoryMagics",
        "rehashx": "OSMagics",
        "reload_ext": "ExtensionMagics",
        "rep": "Other",
        "rerun": "HistoryMagics",
        "reset": "NamespaceMagics",
        "reset_selective": "NamespaceMagics",
        "rm": "Other",
        "rmdir": "Other",
        "run": "ExecutionMagics",
        "save": "CodeMagics",
        "sc": "OSMagics",
        "set_env": "OSMagics",
        "store": "StoreMagics",
        "sx": "OSMagics",
        "system": "OSMagics",
        "tb": "ExecutionMagics",
        "time": "ExecutionMagics",
        "timeit": "ExecutionMagics",
        "unalias": "OSMagics",
        "unload_ext": "ExtensionMagics",
        "who": "NamespaceMagics",
        "who_ls": "NamespaceMagics",
        "whos": "NamespaceMagics",
        "xdel": "NamespaceMagics",
        "xmode": "BasicMagics"
       }
      },
      "text/plain": [
       "Available line magics:\n",
       "%alias  %alias_magic  %autoawait  %autocall  %automagic  %autosave  %bookmark  %cat  %cd  %clear  %colors  %conda  %config  %connect_info  %cp  %debug  %dhist  %dirs  %doctest_mode  %ed  %edit  %env  %gui  %hist  %history  %killbgscripts  %ldir  %less  %lf  %lk  %ll  %load  %load_ext  %loadpy  %logoff  %logon  %logstart  %logstate  %logstop  %ls  %lsmagic  %lx  %macro  %magic  %man  %matplotlib  %mkdir  %more  %mv  %notebook  %page  %pastebin  %pdb  %pdef  %pdoc  %pfile  %pinfo  %pinfo2  %pip  %popd  %pprint  %precision  %prun  %psearch  %psource  %pushd  %pwd  %pycat  %pylab  %qtconsole  %quickref  %recall  %rehashx  %reload_ext  %rep  %rerun  %reset  %reset_selective  %rm  %rmdir  %run  %save  %sc  %set_env  %store  %sx  %system  %tb  %time  %timeit  %unalias  %unload_ext  %who  %who_ls  %whos  %xdel  %xmode\n",
       "\n",
       "Available cell magics:\n",
       "%%!  %%HTML  %%SVG  %%bash  %%capture  %%debug  %%file  %%html  %%javascript  %%js  %%latex  %%markdown  %%perl  %%prun  %%pypy  %%python  %%python2  %%python3  %%ruby  %%script  %%sh  %%svg  %%sx  %%system  %%time  %%timeit  %%writefile\n",
       "\n",
       "Automagic is ON, % prefix IS NOT needed for line magics."
      ]
     },
     "execution_count": 5,
     "metadata": {},
     "output_type": "execute_result"
    }
   ],
   "source": [
    "%lsmagic"
   ]
  },
  {
   "cell_type": "code",
   "execution_count": 8,
   "metadata": {
    "scrolled": true
   },
   "outputs": [
    {
     "name": "stdout",
     "output_type": "stream",
     "text": [
      "alabaster==0.7.12\n",
      "attrs==19.3.0\n",
      "awscli==1.16.35\n",
      "Babel==2.7.0\n",
      "backcall==0.1.0\n",
      "beautifulsoup4==4.8.1\n",
      "bleach==3.1.0\n",
      "blis==0.4.1\n",
      "botocore==1.12.25\n",
      "bs4==0.0.1\n",
      "catalogue==0.0.8\n",
      "certifi==2019.9.11\n",
      "chardet==3.0.4\n",
      "Click==7.0\n",
      "click-plugins==1.1.1\n",
      "colorama==0.3.9\n",
      "cycler==0.10.0\n",
      "cymem==2.0.3\n",
      "decorator==4.4.1\n",
      "defusedxml==0.6.0\n",
      "docutils==0.15.2\n",
      "entrypoints==0.3\n",
      "Flask==1.1.1\n",
      "idna==2.8\n",
      "imageio==2.6.1\n",
      "imagesize==1.1.0\n",
      "importlib-metadata==0.23\n",
      "ipykernel==5.1.3\n",
      "ipython==7.10.0\n",
      "ipython-genutils==0.2.0\n",
      "ipywidgets==7.5.1\n",
      "itsdangerous==1.1.0\n",
      "jedi==0.15.1\n",
      "Jinja2==2.10.3\n",
      "jmespath==0.9.4\n",
      "joblib==0.14.0\n",
      "json5==0.8.5\n",
      "jsonschema==3.2.0\n",
      "jupyter==1.0.0\n",
      "jupyter-client==5.3.4\n",
      "jupyter-console==6.0.0\n",
      "jupyter-contrib-core==0.3.3\n",
      "jupyter-contrib-nbextensions==0.5.1\n",
      "jupyter-core==4.6.1\n",
      "jupyter-highlight-selected-word==0.2.0\n",
      "jupyter-latex-envs==1.4.6\n",
      "jupyter-nbextensions-configurator==0.4.1\n",
      "jupyterlab==1.2.3\n",
      "jupyterlab-server==1.0.6\n",
      "jupyterlab-templates==0.2.1\n",
      "kiwisolver==1.1.0\n",
      "lxml==4.4.2\n",
      "MarkupSafe==1.1.1\n",
      "matplotlib==3.1.2\n",
      "mininet-topology==1.0\n",
      "mininet-topology-yaml==0.1.1\n",
      "mistune==0.8.4\n",
      "more-itertools==7.2.0\n",
      "murmurhash==1.0.2\n",
      "nbconvert==5.6.1\n",
      "nbformat==4.4.0\n",
      "networkx==2.4\n",
      "notebook==6.0.2\n",
      "numpy==1.17.4\n",
      "olefile==0.46\n",
      "packaging==19.2\n",
      "pandas==0.25.3\n",
      "pandocfilters==1.4.2\n",
      "parso==0.5.1\n",
      "pexpect==4.7.0\n",
      "pickleshare==0.7.5\n",
      "Pillow==4.1.1\n",
      "plac==1.1.3\n",
      "preshed==3.0.2\n",
      "prometheus-client==0.7.1\n",
      "prompt-toolkit==2.0.10\n",
      "ptyprocess==0.6.0\n",
      "py-xsb==1.0.0\n",
      "py4j==0.10.7\n",
      "pyasn1==0.4.8\n",
      "Pygments==2.5.2\n",
      "PyHamcrest==1.9.0\n",
      "pyparsing==2.4.5\n",
      "pyrsistent==0.15.6\n",
      "pyspark==2.4.4\n",
      "python-dateutil==2.8.1\n",
      "-e git://github.com/pytorch/pytorch_sphinx_theme.git@77e5f4c6a11538b996aac8aa989ee8ad45d66919#egg=pytorch_sphinx_theme\n",
      "pytz==2019.3\n",
      "PyWavelets==1.1.1\n",
      "PyYAML==3.13\n",
      "pyzmq==18.1.1\n",
      "qtconsole==4.6.0\n",
      "requests==2.22.0\n",
      "rsa==3.4.2\n",
      "s3transfer==0.1.13\n",
      "scapy==2.4.3\n",
      "scikit-image==0.16.2\n",
      "scikit-learn==0.21.3\n",
      "scipy==1.3.3\n",
      "Send2Trash==1.5.0\n",
      "six==1.13.0\n",
      "sklearn==0.0\n",
      "snowballstemmer==2.0.0\n",
      "soupsieve==1.9.5\n",
      "spacy==2.2.3\n",
      "Sphinx==2.2.1\n",
      "sphinx-gallery==0.3.1\n",
      "sphinx-rtd-theme==0.4.3\n",
      "sphinxcontrib-applehelp==1.0.1\n",
      "sphinxcontrib-devhelp==1.0.1\n",
      "sphinxcontrib-htmlhelp==1.0.2\n",
      "sphinxcontrib-jsmath==1.0.1\n",
      "sphinxcontrib-qthelp==1.0.2\n",
      "sphinxcontrib-serializinghtml==1.1.3\n",
      "srsly==0.2.0\n",
      "terminado==0.8.3\n",
      "testpath==0.4.4\n",
      "thinc==7.3.1\n",
      "topology-yaml==0.1.1\n",
      "torch==1.3.1\n",
      "torchaudio==0.3.1\n",
      "torchtext==0.4.0\n",
      "torchvision==0.4.2\n",
      "tornado==6.0.3\n",
      "tqdm==4.39.0\n",
      "traitlets==4.3.3\n",
      "urllib3==1.25.7\n",
      "wasabi==0.4.0\n",
      "wcwidth==0.1.7\n",
      "webencodings==0.5.1\n",
      "Werkzeug==0.16.0\n",
      "wget==3.2\n",
      "widgetsnbextension==3.5.1\n",
      "zipp==0.6.0\n"
     ]
    }
   ],
   "source": [
    "!pip freeze"
   ]
  },
  {
   "cell_type": "code",
   "execution_count": 3,
   "metadata": {},
   "outputs": [],
   "source": [
    "\n",
    "import os\n",
    "import platform\n",
    "import sys\n",
    "\n",
    "import jupyter_core\n",
    "\n",
    "sys.path.append('..')\n",
    "\n",
    "# clone xsb from http://xsb.sourceforge.net/\n",
    "# build xsb with `./configure & ./makexsb * ./makexsb dynmodule`\n",
    "\n",
    "# pip install py-xsb of build from https://github.com/gooofy/py-xsb\n",
    "from pyxsb import pyxsb_start_session, pyxsb_end_session, pyxsb_command, \\\n",
    "                  pyxsb_query, XSBFunctor, XSBVariable, xsb_to_json, json_to_xsb\n"
   ]
  },
  {
   "cell_type": "markdown",
   "metadata": {},
   "source": [
    "## Set global vars here"
   ]
  },
  {
   "cell_type": "code",
   "execution_count": 4,
   "metadata": {},
   "outputs": [
    {
     "data": {
      "text/plain": [
       "'/home/toor/.local/share/jupyter/runtime'"
      ]
     },
     "execution_count": 4,
     "metadata": {},
     "output_type": "execute_result"
    }
   ],
   "source": [
    "\n",
    "BASE_DIR = '/opt/projects/diss/jupyter_nbs/mine/'\n",
    "WORKING_DIR = 'data/test_001'\n",
    "\n",
    "\n",
    "# to determine the location of the XSB arch dir on your machine, run this query in XSB:\n",
    "# xsb_configuration:xsb_configuration(config_dir,Dir).\n",
    "# XSB_ARCH_DIR = None\n",
    "XSB_ARCH_DIR = '/opt/apps/xsb/XSB/config/x86_64-unknown-linux-gnu'\n",
    "#print(jupyter_core.paths.jupyter_runtime_dir())\n",
    "#print(JUPYTER_RUNTIME_DIR)\n",
    "#jupyter_path()\n",
    "#jupyter_core.paths.jupyter_path()\n",
    "jupyter_core.paths.jupyter_runtime_dir()"
   ]
  },
  {
   "cell_type": "markdown",
   "metadata": {},
   "source": [
    "## Set CWD here"
   ]
  },
  {
   "cell_type": "code",
   "execution_count": 5,
   "metadata": {},
   "outputs": [
    {
     "data": {
      "text/plain": [
       "'/opt/projects/diss/jupyter_nbs/mine/data/test_001'"
      ]
     },
     "execution_count": 5,
     "metadata": {},
     "output_type": "execute_result"
    }
   ],
   "source": [
    "os.chdir(BASE_DIR + WORKING_DIR)\n",
    "%pwd"
   ]
  },
  {
   "cell_type": "markdown",
   "metadata": {},
   "source": [
    "## Test XSB bridge"
   ]
  },
  {
   "cell_type": "code",
   "execution_count": 7,
   "metadata": {},
   "outputs": [],
   "source": [
    "\n",
    "ft_txt = \"\"\"\n",
    "% prolog\n",
    "\n",
    "child(anne,bridget).\n",
    "child(bridget,caroline).\n",
    "child(caroline,donna).\n",
    "child(donna,emily).\n",
    "\n",
    "descend(X,Y) :- child(X,Y).\n",
    "descend(X,Y) :- child(X,Z), descend(Z,Y).\n",
    "\n",
    "label('günter', \"Günter\").\n",
    "label(anne, \"Anne\").\n",
    "label(bridget, \"Bridget\").\n",
    "label(caroline, \"Caroline\").\n",
    "label(donna, \"Donna\").\n",
    "\"\"\""
   ]
  },
  {
   "cell_type": "markdown",
   "metadata": {},
   "source": [
    "### demo using the high level XSB interface"
   ]
  },
  {
   "cell_type": "code",
   "execution_count": 11,
   "metadata": {},
   "outputs": [
    {
     "name": "stdout",
     "output_type": "stream",
     "text": [
      "=================\n",
      "label of 'günter' is \"Günter\"\n",
      "label of 'anne' is \"Anne\"\n",
      "label of 'bridget' is \"Bridget\"\n",
      "label of 'caroline' is \"Caroline\"\n",
      "label of 'donna' is \"Donna\"\n",
      "=================\n",
      "decendant of 'anne' is 'bridget'\n",
      "decendant of 'bridget' is 'caroline'\n",
      "decendant of 'caroline' is 'donna'\n",
      "decendant of 'donna' is 'emily'\n",
      "decendant of 'anne' is 'caroline'\n",
      "decendant of 'anne' is 'donna'\n",
      "decendant of 'anne' is 'emily'\n",
      "decendant of 'bridget' is 'donna'\n",
      "decendant of 'bridget' is 'emily'\n",
      "decendant of 'caroline' is 'emily'\n",
      "=================\n",
      "#0: 1          (type: <class 'int'>       , class: <class 'int'>       )\n",
      "#1: 0.5        (type: <class 'float'>     , class: <class 'float'>     )\n",
      "#2: \"hello\"    (type: <class 'pyxsb.XSBString'>, class: <class 'pyxsb.XSBString'>)\n",
      "#3: 'yes'      (type: <class 'pyxsb.XSBAtom'>, class: <class 'pyxsb.XSBAtom'>)\n",
      "#4: foo('bar') (type: <class 'pyxsb.XSBFunctor'>, class: <class 'pyxsb.XSBFunctor'>)\n",
      "#5: [1.1, 2.2] (type: <class 'list'>      , class: <class 'list'>      )\n",
      "#6: 'günter'   (type: <class 'pyxsb.XSBAtom'>, class: <class 'pyxsb.XSBAtom'>)\n",
      "json: {\"pt\": \"functor\", \"name\": \"ret\", \"module\": null, \"args\": [1, 0.5, {\"pt\": \"string\", \"value\": \"hello\"}, {\"pt\": \"atom\", \"name\": \"yes\"}, {\"pt\": \"functor\", \"name\": \"foo\", \"module\": null, \"args\": [{\"pt\": \"atom\", \"name\": \"bar\"}]}, [1.1, 2.2], {\"pt\": \"atom\", \"name\": \"g\\u00fcnter\"}]}\n",
      "=================\n",
      "=================\n",
      "=================\n",
      "Testing complex explicit module names\n",
      "answer:  'simplemod':abcde('p','q','r')\n",
      "answer:  mod('arg1',f('arg2')):abc('p','q','r')\n",
      "answer:  mod2('arg',g('arg')):cde('p','q','r')\n",
      "=================\n"
     ]
    }
   ],
   "source": [
    "\n",
    "# demo using the high level XSB interface\n",
    "pyxsb_start_session(XSB_ARCH_DIR)\n",
    "\n",
    "file_name = 'ft.P'\n",
    "'''\n",
    "w  write mode\n",
    "r  read mode\n",
    "a  append mode\n",
    "\n",
    "w+  create file if it doesn't exist and open it in (over)write mode\n",
    "    [it overwrites the file if it already exists]\n",
    "r+  open an existing file in read+write mode\n",
    "a+  create file if it doesn't exist and open it in append mode\n",
    "'''\n",
    "f = open(file_name, 'w+')  # open file in append mode\n",
    "f.write(ft_txt)\n",
    "f.close()\n",
    "\n",
    "pyxsb_command('consult(ft).')\n",
    "print(\"=================\")\n",
    "for row in pyxsb_query('label(X, L).'):\n",
    "    print(u\"label of %s is %s\" % (row[0], row[1]))\n",
    "print(\"=================\")\n",
    "# structured XSB* interface\n",
    "for row in pyxsb_query(XSBFunctor('descend', [XSBVariable('X'), XSBVariable('Y')])):\n",
    "    print(u\"decendant of %s is %s\" % (row[0], row[1]))\n",
    "print(\"=================\")\n",
    "for row in pyxsb_query(u'A = 1, B = 0.5, C = \"hello\", D = yes, E = foo(bar), F = [1.1,2.2], G = \\'günter\\'.'):\n",
    "\n",
    "    for i, r in enumerate(row):\n",
    "        print(u\"#%d: %-10s (type: %-20s, class: %-20s)\" % (i, r, type(r), r.__class__))\n",
    "\n",
    "    js = xsb_to_json(row)\n",
    "    print(\"json: %s\" % js)\n",
    "\n",
    "    row2 = json_to_xsb(js)\n",
    "print(\"=================\")\n",
    "pyxsb_query('catch(abort,Exception,true).')\n",
    "try:\n",
    "    # throw has no effect\n",
    "    pyxsb_query(\"writeln('Trying to throw up:'), throw('test throw').\")\n",
    "except:\n",
    "    print('Test throw -- caught')\n",
    "print(\"=================\")\n",
    "# testing abort\n",
    "try:\n",
    "    pyxsb_query(\"abort('Test abort').\")\n",
    "except:\n",
    "    print('Test abort -- caught')\n",
    "print(\"=================\")\n",
    "print('Testing complex explicit module names')\n",
    "pyxsb_command('assert(ppp(simplemod:abcde(p,q,r))).')\n",
    "pyxsb_command('assert(ppp(mod(arg1,f(arg2)):abc(p,q,r))).')\n",
    "pyxsb_command('assert(ppp(mod2(arg,g(arg)):cde(p,q,r))).')\n",
    "for row in pyxsb_query(\"ppp(X).\"):\n",
    "    print('answer: ', row[0])\n",
    "print(\"=================\")\n",
    "pyxsb_end_session()"
   ]
  },
  {
   "cell_type": "markdown",
   "metadata": {},
   "source": [
    "### demo using the low level XSB interface"
   ]
  },
  {
   "cell_type": "code",
   "execution_count": 19,
   "metadata": {},
   "outputs": [],
   "source": [
    "ctest_txt = \"\"\"\n",
    "%prolog\n",
    "% this is just to test that C calling XSB works with the preprocessor\n",
    ":- compiler_options([xpp_on]).\n",
    "#include \"char_defs.h\"\n",
    "\n",
    "p(100,aa,bb).\n",
    "p(300,first,second).\n",
    "p(400,wrong,one).\n",
    "p(300,third,fourth).\n",
    "p(X,Y,Z) :- repeat, \n",
    "\twriteln('Enter a term of the form p(300,atom1,atom2). (or end_of_file.)'),\n",
    "\twrite(': '),\n",
    "\tread(T), \n",
    "\t(T=end_of_file -> \n",
    "\t\t!,fail\n",
    "\t;\n",
    "\t\ttrue\n",
    "\t),\n",
    "\tT=p(X,Y,Z).\n",
    "\"\"\""
   ]
  },
  {
   "cell_type": "code",
   "execution_count": 21,
   "metadata": {},
   "outputs": [
    {
     "name": "stdout",
     "output_type": "stream",
     "text": [
      "Answer: 300, b'first'(first), b'second'(second)\n",
      "Answer: 300, b'third'(third), b'fourth'(fourth)\n",
      "Answer: 300, first, second\n",
      "Answer: 300, third, fourth\n"
     ]
    }
   ],
   "source": [
    "# demo using the low level XSB interface \n",
    "\n",
    "file_name = 'ctest.P'\n",
    "'''\n",
    "w  write mode\n",
    "r  read mode\n",
    "a  append mode\n",
    "\n",
    "w+  create file if it doesn't exist and open it in (over)write mode\n",
    "    [it overwrites the file if it already exists]\n",
    "r+  open an existing file in read+write mode\n",
    "a+  create file if it doesn't exist and open it in append mode\n",
    "'''\n",
    "f = open(file_name, 'w+')  # open file in append mode\n",
    "f.write(ctest_txt)\n",
    "f.close()\n",
    "\n",
    "pyxsb_start_session(XSB_ARCH_DIR)\n",
    "\n",
    "# should be after start_xsb_session so that imported vars will be updated\n",
    "from pyxsb import *\n",
    "\n",
    "c2p_functor(b\"consult\", 1, reg_term(1))\n",
    "c2p_string(b\"ctest\",p2p_arg(reg_term(1),1))\n",
    "if xsb_command():\n",
    "    raise Exception (\"Error consulting ctest\")\n",
    "\n",
    "if xsb_command_string(b\"consult(basics).\"):\n",
    "    raise Exception (\"Error (string) consulting basics.\")\n",
    "\n",
    "# Create the query p(300,X,Y) and send it.\n",
    "c2p_functor(b\"p\",3,reg_term(1))\n",
    "c2p_int(300,p2p_arg(reg_term(1),1))\n",
    "\n",
    "rcode = xsb_query()\n",
    "\n",
    "# Print out answer and retrieve next one.\n",
    "while not rcode:\n",
    "\n",
    "    if not is_string(p2p_arg(reg_term(2),1)) and is_string(p2p_arg(reg_term(2),2)):\n",
    "        print (\"2nd and 3rd subfields must be atoms\")\n",
    "    else:\n",
    "        print (\"Answer: %d, %s(%s), %s(%s)\" % ( p2c_int(p2p_arg(reg_term(1),1)),\n",
    "                                               p2c_string(p2p_arg(reg_term(1),2)),\n",
    "                                               xsb_var_string(1),\n",
    "                                               p2c_string(p2p_arg(reg_term(1),3)),\n",
    "                                               xsb_var_string(2)))\n",
    "    rcode = xsb_next()\n",
    "\n",
    "# Create the string query p(300,X,Y) and send it, use higher-level routines.\n",
    "\n",
    "xsb_make_vars(3)\n",
    "xsb_set_var_int(300,1)\n",
    "rcode = xsb_query_string(b\"p(X,Y,Z).\")\n",
    "\n",
    "# Print out answer and retrieve next one.\n",
    "while not rcode:\n",
    "    if not is_string(p2p_arg(reg_term(2),2)) and is_string(p2p_arg(reg_term(2),3)):\n",
    "        print (\"2nd and 3rd subfields must be atoms\")\n",
    "    else:\n",
    "        print (\"Answer: %d, %s, %s\" % (xsb_var_int(1),\n",
    "                                      xsb_var_string(2),\n",
    "                                      xsb_var_string(3)))\n",
    "    rcode = xsb_next()\n",
    "\n",
    "\n",
    "\n",
    "pyxsb_query('catch(abort,Exception,true).')\n",
    "\n",
    "pyxsb_command('consult(ft).')\n",
    "\n",
    "\n",
    "pyxsb_end_session()"
   ]
  },
  {
   "cell_type": "code",
   "execution_count": 20,
   "metadata": {},
   "outputs": [],
   "source": [
    "# pyxsb_query('catch(abort,Exception,true).')"
   ]
  },
  {
   "cell_type": "markdown",
   "metadata": {},
   "source": []
  },
  {
   "cell_type": "code",
   "execution_count": null,
   "metadata": {},
   "outputs": [],
   "source": [
    "pyxsb_start_session(XSB_ARCH_DIR)\n",
    "\n",
    "\n",
    "pyxsb_end_session()"
   ]
  },
  {
   "cell_type": "markdown",
   "metadata": {},
   "source": []
  },
  {
   "cell_type": "code",
   "execution_count": 8,
   "metadata": {},
   "outputs": [],
   "source": [
    "pyxsb_start_session(XSB_ARCH_DIR)\n",
    "pyxsb_command('consult(run).')\n",
    "#pyxsb_end_session()"
   ]
  },
  {
   "cell_type": "markdown",
   "metadata": {},
   "source": []
  },
  {
   "cell_type": "code",
   "execution_count": 16,
   "metadata": {},
   "outputs": [],
   "source": []
  },
  {
   "cell_type": "markdown",
   "metadata": {},
   "source": []
  },
  {
   "cell_type": "code",
   "execution_count": 36,
   "metadata": {},
   "outputs": [
    {
     "name": "stdout",
     "output_type": "stream",
     "text": [
      "hacl '10.0.0.1/32' '10.0.0.2/32' }ކ }ކ\n",
      "hacl '10.0.0.2/32' '10.0.0.3/32' }ކ }ކ\n",
      "hacl '10.0.0.3/32' '10.0.0.4/32' }ކ }ކ\n",
      "hacl '10.0.0.4/32' '10.0.0.5/32' 'tcp' 21\n"
     ]
    }
   ],
   "source": [
    "for row in pyxsb_query('hacl(A, B, C, D).'):\n",
    "    print(u\"hacl %s %s %s %s\" % (row[0], row[1], row[2], row[3]))\n",
    "    \n",
    "pyxsb_end_session()\n",
    "\n",
    "\n"
   ]
  },
  {
   "cell_type": "markdown",
   "metadata": {},
   "source": []
  },
  {
   "cell_type": "code",
   "execution_count": 1,
   "metadata": {},
   "outputs": [
    {
     "data": {
      "text/plain": [
       "'/opt/projects/diss/jupyter_nbs/mine'"
      ]
     },
     "execution_count": 1,
     "metadata": {},
     "output_type": "execute_result"
    }
   ],
   "source": [
    "%pwd"
   ]
  },
  {
   "cell_type": "code",
   "execution_count": null,
   "metadata": {},
   "outputs": [],
   "source": []
  },
  {
   "cell_type": "code",
   "execution_count": null,
   "metadata": {},
   "outputs": [],
   "source": []
  },
  {
   "cell_type": "code",
   "execution_count": null,
   "metadata": {},
   "outputs": [],
   "source": []
  },
  {
   "cell_type": "code",
   "execution_count": null,
   "metadata": {},
   "outputs": [],
   "source": []
  },
  {
   "cell_type": "code",
   "execution_count": null,
   "metadata": {},
   "outputs": [],
   "source": []
  },
  {
   "cell_type": "code",
   "execution_count": null,
   "metadata": {},
   "outputs": [],
   "source": []
  },
  {
   "cell_type": "code",
   "execution_count": null,
   "metadata": {},
   "outputs": [],
   "source": []
  },
  {
   "cell_type": "code",
   "execution_count": null,
   "metadata": {},
   "outputs": [],
   "source": []
  },
  {
   "cell_type": "code",
   "execution_count": null,
   "metadata": {},
   "outputs": [],
   "source": []
  },
  {
   "cell_type": "code",
   "execution_count": null,
   "metadata": {},
   "outputs": [],
   "source": []
  }
 ],
 "metadata": {
  "kernelspec": {
   "display_name": "Python 3",
   "language": "python",
   "name": "python3"
  },
  "language_info": {
   "codemirror_mode": {
    "name": "ipython",
    "version": 3
   },
   "file_extension": ".py",
   "mimetype": "text/x-python",
   "name": "python",
   "nbconvert_exporter": "python",
   "pygments_lexer": "ipython3",
   "version": "3.6.8"
  }
 },
 "nbformat": 4,
 "nbformat_minor": 4
}
