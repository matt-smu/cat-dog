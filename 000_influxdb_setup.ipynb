{
 "cells": [
  {
   "cell_type": "markdown",
   "metadata": {},
   "source": [
    "# InfluxDB \n",
    "## Purpose: Test InfluxDB in Jupyter\n",
    "## Author: mjz"
   ]
  },
  {
   "cell_type": "code",
   "execution_count": 2,
   "metadata": {},
   "outputs": [],
   "source": [
    "# https://github.com/influxdata/influxdb-client-python/tree/master/notebooks\n",
    "\n",
    "import os\n",
    "import sys\n",
    "\n",
    "sys.path.insert(0, os.path.abspath('../'))\n",
    "\n"
   ]
  },
  {
   "cell_type": "code",
   "execution_count": 10,
   "metadata": {},
   "outputs": [],
   "source": [
    "from __future__ import print_function\n",
    "\n",
    "import math\n",
    "import os\n",
    "import pandas as pd\n",
    "import time\n",
    "from datetime import datetime\n",
    "\n",
    "import matplotlib.pyplot as plt\n",
    "import numpy as np\n",
    "from IPython.display import display\n",
    "\n",
    "from influxdb import InfluxDBClient\n",
    "from influxdb import DataFrameClient\n"
   ]
  },
  {
   "cell_type": "code",
   "execution_count": 27,
   "metadata": {},
   "outputs": [],
   "source": [
    "config = {\n",
    "        'host':     '192.168.0.115',\n",
    "        'port':       8086,\n",
    "        'database': 'perfkit',\n",
    "        'username':     'perfkit',\n",
    "        'password': 'perfkit',\n",
    "\n",
    "    }"
   ]
  },
  {
   "cell_type": "code",
   "execution_count": 3,
   "metadata": {},
   "outputs": [
    {
     "name": "stdout",
     "output_type": "stream",
     "text": [
      "Python 3.6.8\n"
     ]
    }
   ],
   "source": [
    "%%bash\n",
    "python --version\n",
    "# /opt/projects/diss/py-mulval/src/run_boromir.py --influx_uri='http://influx1:8086'"
   ]
  },
  {
   "cell_type": "code",
   "execution_count": 5,
   "metadata": {},
   "outputs": [
    {
     "name": "stdout",
     "output_type": "stream",
     "text": [
      "[{'name': 'sample_database'}, {'name': '_internal'}, {'name': 'perfkit'}]\n"
     ]
    },
    {
     "data": {
      "text/plain": [
       "ResultSet({'('databases', None)': [{'name': 'sample_database'}, {'name': '_internal'}, {'name': 'perfkit'}]})"
      ]
     },
     "execution_count": 5,
     "metadata": {},
     "output_type": "execute_result"
    }
   ],
   "source": [
    "client = InfluxDBClient('192.168.0.115', '8086')\n",
    "# client.create_database(pkb)\n",
    "dbs = client.get_list_database()\n",
    "print(dbs)\n",
    "# client.create_database('example')\n",
    "# client.switch_database('example')\n",
    "\n",
    "\n",
    "client.query('show databases')\n"
   ]
  },
  {
   "cell_type": "code",
   "execution_count": 7,
   "metadata": {},
   "outputs": [],
   "source": [
    "sql = r\"\"\"\n",
    "SELECT mean(\"value\") AS \"mean_value\" \n",
    "FROM \"perfkit\".\"autogen\".\"perfkitbenchmarker\" \n",
    "WHERE time > :dashboardTime: \n",
    "AND time < :upperDashboardTime: \n",
    "GROUP BY time(:interval:) FILL(null)\n",
    "\"\"\""
   ]
  },
  {
   "cell_type": "code",
   "execution_count": 32,
   "metadata": {},
   "outputs": [
    {
     "name": "stdout",
     "output_type": "stream",
     "text": [
      "Create pandas DataFrame\n",
      "<class 'collections.defaultdict'> Index(['citation', 'cite_key', 'metric', 'metric_name', 'metric_summary',\n",
      "       'metric_unit', 'metric_usage', 'official', 'owner', 'product_name',\n",
      "       'run_number', 'run_uri', 'sample_uri', 'test', 'unit', 'value'],\n",
      "      dtype='object')\n",
      "perfkitbenchmarker\n",
      "<class 'pandas.core.frame.DataFrame'>\n"
     ]
    }
   ],
   "source": [
    "sql = r\"\"\"\n",
    "SELECT * \n",
    "FROM \"perfkit\".\"autogen\".\"perfkitbenchmarker\"\n",
    "\"\"\"\n",
    "client = DataFrameClient(**config)\n",
    "\n",
    "print(\"Create pandas DataFrame\")\n",
    "# df = pd.DataFrame(data=list(range(30)),\n",
    "#                   index=pd.date_range(start='2014-11-16',\n",
    "#                                       periods=30, freq='H'), columns=['0'])\n",
    "\n",
    "client = DataFrameClient(host     = '192.168.0.115',\n",
    "                         port     = 8086,\n",
    "                         database = 'perfkit')\n",
    "\n",
    "# result = client.query('select * from ' + measurement + ' where time > now()-' + period, chunked=True)\n",
    "result = client.query(sql)\n",
    "print(type(result), result['perfkitbenchmarker'].keys())\n",
    "\n",
    "# https://www.programcreek.com/python/example/107756/influxdb.DataFrameClient\n",
    "column = next(iter(result))\n",
    "data   = result[column]\n",
    "print(column)\n",
    "# print(data)\n",
    "# convert utc time to local time\n",
    "data.index = data.index.tz_convert('Europe/Berlin')\n",
    "# plotly tries to use utc time first, so remove timezone information:\n",
    "# https://github.com/plotly/plotly.py/blob/6f9621a611da36f10678c9d9c8c784f55e472429/plotly/utils.py#L263\n",
    "data.index = data.index.tz_localize(None)\n",
    "print(type(data))\n",
    "# return data\n"
   ]
  },
  {
   "cell_type": "code",
   "execution_count": 42,
   "metadata": {},
   "outputs": [
    {
     "name": "stdout",
     "output_type": "stream",
     "text": [
      "(32, 16)\n",
      "<class 'pandas.core.frame.DataFrame'>\n",
      "DatetimeIndex: 32 entries, 2020-02-25 04:51:01.912091648 to 2020-02-25 05:02:34.510471168\n",
      "Data columns (total 16 columns):\n",
      "citation          8 non-null object\n",
      "cite_key          8 non-null object\n",
      "metric            32 non-null object\n",
      "metric_name       8 non-null object\n",
      "metric_summary    8 non-null object\n",
      "metric_unit       8 non-null object\n",
      "metric_usage      8 non-null object\n",
      "official          32 non-null object\n",
      "owner             32 non-null object\n",
      "product_name      32 non-null object\n",
      "run_number        8 non-null object\n",
      "run_uri           32 non-null object\n",
      "sample_uri        32 non-null object\n",
      "test              32 non-null object\n",
      "unit              32 non-null object\n",
      "value             32 non-null float64\n",
      "dtypes: float64(1), object(15)\n",
      "memory usage: 4.2+ KB\n"
     ]
    },
    {
     "data": {
      "text/plain": [
       "count                     32\n",
       "unique                     3\n",
       "top       End to End Runtime\n",
       "freq                      24\n",
       "Name: metric, dtype: object"
      ]
     },
     "execution_count": 42,
     "metadata": {},
     "output_type": "execute_result"
    }
   ],
   "source": [
    "df = data\n",
    "print(df.shape)\n",
    "df.info()\n",
    "df['metric'].describe()\n"
   ]
  }
 ],
 "metadata": {
  "kernelspec": {
   "display_name": "Python 3",
   "language": "python",
   "name": "python3"
  },
  "language_info": {
   "codemirror_mode": {
    "name": "ipython",
    "version": 3
   },
   "file_extension": ".py",
   "mimetype": "text/x-python",
   "name": "python",
   "nbconvert_exporter": "python",
   "pygments_lexer": "ipython3",
   "version": "3.6.8"
  }
 },
 "nbformat": 4,
 "nbformat_minor": 4
}
