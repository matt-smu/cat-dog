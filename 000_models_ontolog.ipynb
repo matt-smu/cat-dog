{
 "cells": [
  {
   "cell_type": "markdown",
   "metadata": {},
   "source": [
    "# Write MulVal Rules from Ontology \n",
    "### Purpose: Test read from / write to datalog\n",
    "### Author: @mjz\n"
   ]
  },
  {
   "cell_type": "markdown",
   "metadata": {},
   "source": [
    "## Background/Sec0\n"
   ]
  },
  {
   "cell_type": "markdown",
   "metadata": {},
   "source": []
  },
  {
   "cell_type": "code",
   "execution_count": 14,
   "metadata": {},
   "outputs": [
    {
     "data": {
      "text/plain": [
       "'/opt/projects/diss/jupyter_nbs/mine/data/test_003'"
      ]
     },
     "execution_count": 14,
     "metadata": {},
     "output_type": "execute_result"
    }
   ],
   "source": [
    "%matplotlib inline\n",
    "\n",
    "import matplotlib.pyplot as plt\n",
    "import numpy as np\n",
    "import pandas as pd\n",
    "\n",
    "\n",
    "from itertools import chain\n",
    "from jinja2 import Template\n",
    "import argparse\n",
    "\n",
    "import os\n",
    "import platform\n",
    "import sys\n",
    "import logging\n",
    "logging.basicConfig(filename='cat-dog.log',level=logging.DEBUG)\n",
    "\n",
    "import jupyter_core\n",
    "\n",
    "# from owlready2 import *\n",
    "from stix2 import *\n",
    "from stix2 import FileSystemSource as fs\n",
    "from stix2 import Filter\n",
    "from stix2.utils import get_type_from_id\n",
    "\n",
    "from pyxsb import pyxsb_start_session, pyxsb_end_session, pyxsb_command, \\\n",
    "                  pyxsb_query, XSBFunctor, XSBVariable, xsb_to_json, json_to_xsb\n",
    "\n",
    "from pyxsb import *\n",
    "\n",
    "\n",
    "sys.path.append('..')\n",
    "\n",
    "\n",
    "# MulVal Data Loading\n",
    "BASE_DIR = '/opt/projects/diss/jupyter_nbs/mine'\n",
    "DATA_DIR = 'data'\n",
    "WORKING_DIR = '/'.join((BASE_DIR, DATA_DIR, 'test_003'))\n",
    "\n",
    "XSB_ARCH_DIR = '/opt/apps/xsb/XSB/config/x86_64-unknown-linux-gnu'\n",
    "\n",
    "\n",
    "\n",
    "os.chdir(WORKING_DIR)\n",
    "\n",
    "%pwd\n"
   ]
  },
  {
   "cell_type": "markdown",
   "metadata": {},
   "source": [
    "# Port MulVal to Python (graph_gen.sh)\n",
    "```\n",
    " mimic the bash call, accepting the same args (as time permits) and producing the same output\n",
    "    \n",
    "    previous args:\n",
    "    ------------------------\n",
    "    graph_gen.sh \n",
    "        [-r|--rule rulefile]                                                                                                    \n",
    "        [-a|--additional additional_rulefile]                                                                                   \n",
    "        [-c|--constraint constraint_file]                                                                                                   \n",
    "        [-g|--goal goal]                                                                                                                    \n",
    "        [-d|--dynamic dynamic_file]                                                                                                         \n",
    "        [-p]                                                                                                                                \n",
    "        [-s|--sat]                                                                                                                          \n",
    "        [-t|--t trace_option]                                                                                                               \n",
    "        [-tr|--trim]                                                                                                                        \n",
    "        [-v|--visualize \n",
    "        [--arclabel] \n",
    "        [--reverse]]                                                                                           \n",
    "        [--cvss]                                                                                                                \n",
    "        [-h|--help]                                                                                                                   \n",
    "        [attack_graph_options]                                                                                                        \n",
    "        input_file        \n",
    "```"
   ]
  },
  {
   "cell_type": "code",
   "execution_count": 20,
   "metadata": {},
   "outputs": [
    {
     "name": "stdout",
     "output_type": "stream",
     "text": [
      "args:  Namespace(additional=None, arclabel=False, constraint=None, cvss=False, dynamic=None, goal=None, l=False, ma=False, nometric=False, reverse=False, rulefile=None, sat=False, satgui=False, simple=False, trace=None, trim=False, trimdom=False, visualize=False)\n",
      "other args:  ['-f', '/home/toor/.local/share/jupyter/runtime/kernel-6f2b4f1a-0916-428d-8aeb-8f34f5ab8fa7.json']\n"
     ]
    }
   ],
   "source": [
    "## port MulVals graph_gen.sh to python\n",
    "MULVALROOT = '/opt/mulval'\n",
    "INTERACTIONRULES = '/'.join((MULVALROOT, 'kb/interaction_rules.P'))\n",
    "INTERACTIONRULES_CVSS =  '/'.join((MULVALROOT,  'kb/interaction_rules_with_metrics.P'))\n",
    "RULES_WITH_METRIC_ARTIFACTS = '/'.join((MULVALROOT, 'kb/interaction_rules_with_metric_artifacts.P'))\n",
    "\n",
    "_RULE_FILES = list()\n",
    "_RULE_FILES_ADDITIONAL = list()\n",
    "RUNNING_RULES_NAME = 'running_rules.P'\n",
    "\n",
    "trace_option = 'completeTrace2'\n",
    "\n",
    "INPUT_FILE = 'input.P'\n",
    "\n",
    "if __name__ == \"__main__\":\n",
    "    \"\"\"\n",
    "    all the flags\n",
    "    \"\"\"\n",
    "    \n",
    "    arg_parser = argparse.ArgumentParser(description='Process MulVal flags')\n",
    "    arg_parser.add_argument('--rulefile',  '-r', action='append',  # allow multiple rule files\n",
    "                        help='add rulefile(s) -r rulefile.txt')\n",
    "    arg_parser.add_argument('--additional',  '-a', action='append',  # allow multiple rule files\n",
    "                        help='add additional rulefile(s) -a anotherrulefile.txt')\n",
    "    arg_parser.add_argument('--constraint',  '-c', action='append',  # allow multiple rule files\n",
    "                        help='add constraint files(s) -c constraintfile.txt')    \n",
    "    arg_parser.add_argument('--goal',  '-g', action='append',  # allow multiple goals\n",
    "                        help='add goals -g goal')\n",
    "    arg_parser.add_argument('--dynamic',  '-d', action='append',  # allow multiple dynamic files\n",
    "                        help='add dynamic files -d dynamicfile.txt')\n",
    "    arg_parser.add_argument('--visualize',  '-v', help='create viz (implies csv output)', action='store_true')\n",
    "    arg_parser.add_argument(  '-l', help='CSV OUTPUT', action='store_true')\n",
    "#     arg_parser.add_argument('viz_options', choices=['--arclabel', '--reverse', '--simple', '--nometric']), action='append'\n",
    "    arg_parser.add_argument('--arclabel', help='viz_options', action='store_true')\n",
    "    arg_parser.add_argument('--reverse', help='viz_options', action='store_true')\n",
    "    arg_parser.add_argument('--simple', help='viz_options', action='store_true')\n",
    "    arg_parser.add_argument('--nometric', help='viz_options', action='store_true')\n",
    "    \n",
    "    \n",
    "    arg_parser.add_argument('--sat',  '-s', help='SAT', action='store_true')\n",
    "    arg_parser.add_argument('--satgui',  '-sg', help='SAT GUI', action='store_true')\n",
    "    arg_parser.add_argument('--trace',  '-t', help='trace option')\n",
    "    arg_parser.add_argument('--trim',  '-tr', help='trim option', action='store_true')\n",
    "    arg_parser.add_argument('--trimdom',  '-td', help='trimdom option', action='store_true')\n",
    "    arg_parser.add_argument('--cvss', help='cvss option', action='store_true')\n",
    "    arg_parser.add_argument(  '-ma', help='metric artifacts', action='store_true')\n",
    "    ### @TODO figure out what all these do...\n",
    "    \n",
    "    args, other_args = arg_parser.parse_known_args()\n",
    "    print('args: ', args)\n",
    "    print('other args: ', other_args)\n",
    "    \n",
    "#     graph_gen()  # ...\n",
    "    \n",
    "    \n",
    "    \n",
    "def graph_gen(*args, **kwargs):\n",
    "    \"\"\"\n",
    "    do the things graph_gen.sh does\n",
    "    this should leave a trace_output.P\n",
    "    file in cwd that gets sent to attack_graph.cpp\n",
    "    \"\"\"\n",
    "    _input_file = INPUT_FILE if 'input_file' not in kwargs else kwargs.get('input_file')\n",
    "    _MULVALROOT = MULVALROOT  # if 'MULVALROOT' not in kwargs else kwargs.get('MULVALROOT')\n",
    "    _type = None  #if 'type' not in kwargs else kwargs.get('type')  # 'run' | 'environment' includes the mulval_run line\n",
    "    _tracemode = 'completeTrace2' if 'tracemode' not in kwargs else kwargs.get('tracemode')\n",
    "    _dynamic_file = None\n",
    "    _trim = False  # True is --trim | -tr flags passed\n",
    "    _trim_rules = MULVALROOT + '/src/analyzer/advances_trim.P'\n",
    "    _no_trim_rules = MULVALROOT + '/src/analyzer/advances_notrim.P'\n",
    "    _cvss = False  # original script tests if this is zero (-z $CVSS) so this is probably a path not bool\n",
    "    _goal = None  # goal passed in a flag\n",
    "    # template this out for later\n",
    "    # vars:\n",
    "    \n",
    "    ts = \"\"\"\n",
    ":-['{{ _MULVALROOT }}/lib/libmulval'].  % start base run script\n",
    ":-['{{ _MULVALROOT }}/src/analyzer/translate'].\n",
    ":-['{{ _MULVALROOT }}/src/analyzer/attack_trace'].\n",
    ":-['{{ _MULVALROOT }}/src/analyzer/auxiliary'].\n",
    "\n",
    ":-dynamic meta/1.\n",
    "\n",
    ":-load_dyn('running_rules.P').\n",
    "\n",
    ":-load_dyn('{{_input_file}}').\n",
    "\n",
    ":-assert(traceMode({{_tracemode}})).  % end base run script\n",
    "\n",
    "% set if dynamic changes file is set (-d flag)\n",
    "{{':-load_dyn({{_dynamic_file}}).\n",
    ":-apply_dynamic_changes.' if _dynamic_file }}\n",
    "\n",
    "% set if --trim | -tr flag passed\n",
    "{% if _trim %}\n",
    ":-load_dyn('{{_trim_rules}}').                                                                                                                            \n",
    ":-tell('edges').\n",
    ":-writeEdges.\n",
    ":-told.\n",
    ":-shell('rm -f dominators.P').\n",
    ":-shell('dom.py edges dominators.P').\n",
    ":-loadDominators('dominators.P'). \n",
    "{% else %}\n",
    "% else set if no --trim | -tr flag passed\n",
    ":-load_dyn('{{_no_trim_rules }}'). \n",
    "{% endif %}\n",
    "\n",
    "% add this line if CVSS flag is not set (non-zero len) \n",
    "% @TODO should expect a string here not bool\n",
    "{{':-assert(cvss(_, none)).' if not _cvss}}\n",
    "\n",
    "% add goal if passed as a flag\n",
    "{{':- assert(attackGoal(_goal)).' if _goal }}\n",
    "\n",
    "% add mulval run if we're not writing the environment program\n",
    "{{':-mulval_run.' if _type == 'run' }}\n",
    "\n",
    "\"\"\"\n",
    "\n",
    "    logging.info('writing rule file...')\n",
    "    _RULE_FILES.append(INTERACTIONRULES) # @TODO cvss and ma checks\n",
    "    writeRulesFile(_RULE_FILES, _RULE_FILES_ADDITIONAL)\n",
    "    \n",
    "    logging.info('writing environment.P...')\n",
    "    tm = Template(ts)\n",
    "    logging.debug(locals())\n",
    "    writeFile('environment.P', tm.render(locals()))\n",
    "    \n",
    "    logging.info('writing run.P...')\n",
    "    writeFile('run.P', tm.render(locals(), _type='run'))\n",
    "    \n",
    "    logging.info('running mulval in xsb...')\n",
    "    runMulVal()\n",
    "\n",
    "def writeRulesFile(_RULE_FILES, _RULE_FILES_ADDITIONAL):\n",
    "    \"\"\"@TODO needs logic for placement, tabling, validation\"\"\"\n",
    "    \n",
    "    with open(RUNNING_RULES_NAME, 'w+') as outfile:\n",
    "        for fname in chain(_RULE_FILES, _RULE_FILES_ADDITIONAL):\n",
    "            with open(fname, 'r') as infile:\n",
    "                outfile.write(infile.read())\n",
    "    \n",
    "    \n",
    "def writeFile(file_name, file_text, mode='w+'):\n",
    "    '''\n",
    "    w  write mode\n",
    "    r  read mode\n",
    "    a  append mode\n",
    "    w+  create file if it doesn't exist and open it in (over)write mode\n",
    "        [it overwrites the file if it already exists]\n",
    "    r+  open an existing file in read+write mode\n",
    "    a+  create file if it doesn't exist and open it in append mode\n",
    "    '''\n",
    "    with open(file_name, mode) as file:\n",
    "        file.write(file_text)\n",
    "        \n",
    "\n",
    "    \n",
    "def runMulVal():\n",
    "    pyxsb_start_session(XSB_ARCH_DIR)\n",
    "#     from pyxsb import *\n",
    "\n",
    "    pyxsb_query('catch(abort,Exception,true).')\n",
    "\n",
    "    \n",
    "    # xsb 2>xsb_log.txt 1>&2 <<EOF                                                                                                                \n",
    "    # [environment].                                                                                                                              \n",
    "    # tell('goals.txt').                                                                                                                          \n",
    "    # writeln('Goal:').                                                                                                                           \n",
    "    # iterate(attackGoal(G),                                                                                                                      \n",
    "    #         (write(' '), write_canonical(G), nl)).                                                                                              \n",
    "    # told.  \n",
    "    # # tabling breaks the  pyxsb_command but works with lowlevel api :?\n",
    "    # UPDATE: 3.7 fails... rolling back to 3.6 works\n",
    "    # TODO: clean up \n",
    "    c2p_functor(b\"consult\", 1, reg_term(1))\n",
    "    c2p_string(b\"environment\",p2p_arg(reg_term(1),1))\n",
    "    xsb_command()\n",
    "\n",
    "    c2p_functor(b\"tell\", 1, reg_term(1))\n",
    "    c2p_string(b\"goals.txt\",p2p_arg(reg_term(1),1))\n",
    "    xsb_command()\n",
    "\n",
    "    pyxsb_command('writeln(\"Goal:\"). ')\n",
    "\n",
    "    c2p_functor(b\"iterate\", 1, reg_term(1))\n",
    "    c2p_string(b\"attackGoal(G),(write(' '), write_canonical(G), nl)\",p2p_arg(reg_term(1),1))\n",
    "    xsb_command()\n",
    "    pyxsb_command('told.')\n",
    "#     pyxsb_end_session()\n",
    "    \n",
    "#     pyxsb_start_session(XSB_ARCH_DIR)\n",
    "#     c2p_functor(b\"consult\", 1, reg_term(1))\n",
    "#     c2p_string(b\"run\",p2p_arg(reg_term(1),1))\n",
    "#     xsb_command()\n",
    "    pyxsb_command('[run].')\n",
    "\n",
    "    pyxsb_end_session()\n",
    "    \n"
   ]
  },
  {
   "cell_type": "code",
   "execution_count": 21,
   "metadata": {
    "scrolled": true
   },
   "outputs": [
    {
     "ename": "PYXSBException",
     "evalue": "XSB Command [run]. failure (1).",
     "output_type": "error",
     "traceback": [
      "\u001b[0;31m---------------------------------------------------------------------------\u001b[0m",
      "\u001b[0;31mPYXSBException\u001b[0m                            Traceback (most recent call last)",
      "\u001b[0;32m<ipython-input-21-b106d136242d>\u001b[0m in \u001b[0;36m<module>\u001b[0;34m\u001b[0m\n\u001b[0;32m----> 1\u001b[0;31m \u001b[0mgraph_gen\u001b[0m\u001b[0;34m(\u001b[0m\u001b[0;34m)\u001b[0m\u001b[0;34m\u001b[0m\u001b[0;34m\u001b[0m\u001b[0m\n\u001b[0m\u001b[1;32m      2\u001b[0m \u001b[0;34m\u001b[0m\u001b[0m\n",
      "\u001b[0;32m<ipython-input-20-8c8f296ac47e>\u001b[0m in \u001b[0;36mgraph_gen\u001b[0;34m(*args, **kwargs)\u001b[0m\n\u001b[1;32m    131\u001b[0m \u001b[0;34m\u001b[0m\u001b[0m\n\u001b[1;32m    132\u001b[0m     \u001b[0mlogging\u001b[0m\u001b[0;34m.\u001b[0m\u001b[0minfo\u001b[0m\u001b[0;34m(\u001b[0m\u001b[0;34m'running mulval in xsb...'\u001b[0m\u001b[0;34m)\u001b[0m\u001b[0;34m\u001b[0m\u001b[0;34m\u001b[0m\u001b[0m\n\u001b[0;32m--> 133\u001b[0;31m     \u001b[0mrunMulVal\u001b[0m\u001b[0;34m(\u001b[0m\u001b[0;34m)\u001b[0m\u001b[0;34m\u001b[0m\u001b[0;34m\u001b[0m\u001b[0m\n\u001b[0m\u001b[1;32m    134\u001b[0m \u001b[0;34m\u001b[0m\u001b[0m\n\u001b[1;32m    135\u001b[0m \u001b[0;32mdef\u001b[0m \u001b[0mwriteRulesFile\u001b[0m\u001b[0;34m(\u001b[0m\u001b[0m_RULE_FILES\u001b[0m\u001b[0;34m,\u001b[0m \u001b[0m_RULE_FILES_ADDITIONAL\u001b[0m\u001b[0;34m)\u001b[0m\u001b[0;34m:\u001b[0m\u001b[0;34m\u001b[0m\u001b[0;34m\u001b[0m\u001b[0m\n",
      "\u001b[0;32m<ipython-input-20-8c8f296ac47e>\u001b[0m in \u001b[0;36mrunMulVal\u001b[0;34m()\u001b[0m\n\u001b[1;32m    194\u001b[0m \u001b[0;31m#     c2p_string(b\"run\",p2p_arg(reg_term(1),1))\u001b[0m\u001b[0;34m\u001b[0m\u001b[0;34m\u001b[0m\u001b[0;34m\u001b[0m\u001b[0m\n\u001b[1;32m    195\u001b[0m \u001b[0;31m#     xsb_command()\u001b[0m\u001b[0;34m\u001b[0m\u001b[0;34m\u001b[0m\u001b[0;34m\u001b[0m\u001b[0m\n\u001b[0;32m--> 196\u001b[0;31m     \u001b[0mpyxsb_command\u001b[0m\u001b[0;34m(\u001b[0m\u001b[0;34m'[run].'\u001b[0m\u001b[0;34m)\u001b[0m\u001b[0;34m\u001b[0m\u001b[0;34m\u001b[0m\u001b[0m\n\u001b[0m\u001b[1;32m    197\u001b[0m \u001b[0;34m\u001b[0m\u001b[0m\n\u001b[1;32m    198\u001b[0m     \u001b[0mpyxsb_end_session\u001b[0m\u001b[0;34m(\u001b[0m\u001b[0;34m)\u001b[0m\u001b[0;34m\u001b[0m\u001b[0;34m\u001b[0m\u001b[0m\n",
      "\u001b[0;32m/opt/projects/diss/jupyter_nbs/py36/lib/python3.6/site-packages/pyxsb/__init__.py\u001b[0m in \u001b[0;36mpyxsb_command\u001b[0;34m(cmd)\u001b[0m\n\u001b[1;32m    749\u001b[0m     \u001b[0;31m#dbgprint(rcode)\u001b[0m\u001b[0;34m\u001b[0m\u001b[0;34m\u001b[0m\u001b[0;34m\u001b[0m\u001b[0m\n\u001b[1;32m    750\u001b[0m     \u001b[0;32mif\u001b[0m \u001b[0mrcode\u001b[0m \u001b[0;34m==\u001b[0m \u001b[0mXSB_FAILURE\u001b[0m\u001b[0;34m:\u001b[0m\u001b[0;34m\u001b[0m\u001b[0;34m\u001b[0m\u001b[0m\n\u001b[0;32m--> 751\u001b[0;31m         \u001b[0;32mraise\u001b[0m \u001b[0mPYXSBException\u001b[0m\u001b[0;34m(\u001b[0m\u001b[0mcommand\u001b[0m\u001b[0;34m=\u001b[0m\u001b[0mcmds\u001b[0m\u001b[0;34m,\u001b[0m\u001b[0mcode\u001b[0m\u001b[0;34m=\u001b[0m\u001b[0mrcode\u001b[0m\u001b[0;34m)\u001b[0m\u001b[0;34m\u001b[0m\u001b[0;34m\u001b[0m\u001b[0m\n\u001b[0m\u001b[1;32m    752\u001b[0m     \u001b[0;32melif\u001b[0m \u001b[0mrcode\u001b[0m \u001b[0;34m==\u001b[0m \u001b[0mXSB_ERROR\u001b[0m\u001b[0;34m:\u001b[0m\u001b[0;34m\u001b[0m\u001b[0;34m\u001b[0m\u001b[0m\n\u001b[1;32m    753\u001b[0m         \u001b[0;32mraise\u001b[0m \u001b[0mPYXSBException\u001b[0m\u001b[0;34m(\u001b[0m\u001b[0mcommand\u001b[0m\u001b[0;34m=\u001b[0m\u001b[0mcmds\u001b[0m\u001b[0;34m,\u001b[0m\u001b[0mcode\u001b[0m\u001b[0;34m=\u001b[0m\u001b[0mrcode\u001b[0m\u001b[0;34m,\u001b[0m\u001b[0mtype\u001b[0m\u001b[0;34m=\u001b[0m\u001b[0mxsb_get_error_type\u001b[0m\u001b[0;34m(\u001b[0m\u001b[0;34m)\u001b[0m\u001b[0;34m,\u001b[0m\u001b[0mmessage\u001b[0m\u001b[0;34m=\u001b[0m\u001b[0mxsb_get_error_message\u001b[0m\u001b[0;34m(\u001b[0m\u001b[0;34m)\u001b[0m\u001b[0;34m)\u001b[0m\u001b[0;34m\u001b[0m\u001b[0;34m\u001b[0m\u001b[0m\n",
      "\u001b[0;31mPYXSBException\u001b[0m: XSB Command [run]. failure (1)."
     ]
    }
   ],
   "source": [
    "\n",
    "\n",
    "graph_gen()\n",
    "\n"
   ]
  },
  {
   "cell_type": "markdown",
   "metadata": {},
   "source": [
    "## Run MulVal"
   ]
  },
  {
   "cell_type": "markdown",
   "metadata": {},
   "source": [
    "## Sec2"
   ]
  },
  {
   "cell_type": "markdown",
   "metadata": {},
   "source": [
    "and some more text"
   ]
  },
  {
   "cell_type": "markdown",
   "metadata": {},
   "source": [
    "## Sec3"
   ]
  },
  {
   "cell_type": "markdown",
   "metadata": {},
   "source": [
    "and some more text"
   ]
  },
  {
   "cell_type": "code",
   "execution_count": 13,
   "metadata": {},
   "outputs": [],
   "source": [
    "\n",
    "# STIX Data Loading\n",
    "cti_home = '../mitre/cti/'\n",
    "enterprise = cti_home + 'enterprise-attack'\n",
    "mobile = cti_home + 'mobile-attack'\n",
    "pre = cti_home + 'pre-attack'\n",
    "capec = cti_home + 'capec'\n",
    "\n",
    "e = fs(enterprise)\n",
    "c = fs(capec)\n",
    "p = fs(pre)\n",
    "m = fs(mobile)\n",
    "\n",
    "sources = [e, c, p, m]\n",
    "all_ds = CompositeDataSource()\n",
    "all_ds.add_data_sources([e, m, p, c])"
   ]
  },
  {
   "cell_type": "markdown",
   "metadata": {},
   "source": [
    "## Sec4"
   ]
  },
  {
   "cell_type": "markdown",
   "metadata": {},
   "source": [
    "and some more text"
   ]
  },
  {
   "cell_type": "code",
   "execution_count": null,
   "metadata": {},
   "outputs": [],
   "source": []
  },
  {
   "cell_type": "markdown",
   "metadata": {},
   "source": [
    "## Refs"
   ]
  },
  {
   "cell_type": "markdown",
   "metadata": {},
   "source": [
    "and some more text"
   ]
  },
  {
   "cell_type": "code",
   "execution_count": null,
   "metadata": {},
   "outputs": [],
   "source": []
  }
 ],
 "metadata": {
  "kernelspec": {
   "display_name": "Python 3",
   "language": "python",
   "name": "python3"
  },
  "language_info": {
   "codemirror_mode": {
    "name": "ipython",
    "version": 3
   },
   "file_extension": ".py",
   "mimetype": "text/x-python",
   "name": "python",
   "nbconvert_exporter": "python",
   "pygments_lexer": "ipython3",
   "version": "3.6.8"
  }
 },
 "nbformat": 4,
 "nbformat_minor": 4
}
